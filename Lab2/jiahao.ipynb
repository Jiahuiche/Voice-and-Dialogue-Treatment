{
 "cells": [
  {
   "cell_type": "markdown",
   "metadata": {
    "id": "fWeisQHVRdqk"
   },
   "source": [
    "<center>\n",
    "<h1 style=\"font-family:verdana\">\n",
    " 💻 🧑 Classificació d'intencions 🧑 💻\n"
   ]
  },
  {
   "cell_type": "markdown",
   "metadata": {
    "id": "OYVGfnG6MhT8"
   },
   "source": [
    "<p> 🎯 <b>Objectiu</b>: en aquesta pràctica aprendrem a detectar la intenció de l'usuari a partir d'interaccions reals amb un xatbot. En el context de xatbots, la classificació d'intencions ajuda a entendre quina acció o resposta hauria de prendre el sistema en funció de la consulta de l'usuari.  \n",
    "\n",
    "\n",
    "<p> ✨ <b>Contingut</b>: en primer lloc, farem servir una base de dades amb oracions d'interaccions en espanyol etiquetades com 19 intencions diferents. En segon lloc, realitzarem el preprocessament de les dades, és a dir, transformarem les dades perquè tinguen un format adequat per a ser introduïdes al model. I finalment, dissenyarem i entrenarem el model de classificació per detectar automàticament la intenció de les oracions.</p>  \n",
    "\n",
    "\n",
    "<p> ✏ <b>Exercicis</b>: en cada secció anireu trobant exercicis que haureu d'anar resolent. </p>\n",
    "\n"
   ]
  },
  {
   "cell_type": "markdown",
   "metadata": {
    "id": "Ff3yPMsPihza"
   },
   "source": [
    "---\n",
    "\n",
    "<h2> Índex </h2>\n",
    "\n",
    "1. [Inspecció del conjunt de dades](#section-one)\n",
    "  * [Exercici 1](#ex-one)\n",
    "2. [Preprocessament de dades](#section-two)\n",
    "  * [Exercici 2](#ex-two)\n",
    "  * [Exercici 3](#ex-three)\n",
    "3. [Disseny del model i entrenament](#section-three)\n",
    "  * [Exercici 4](#ex-four)\n",
    "  * [Exercici 5](#ex-five)\n",
    "4. [Lliurable](#section-four)\n",
    "---"
   ]
  },
  {
   "cell_type": "code",
   "execution_count": 5,
   "metadata": {
    "colab": {
     "base_uri": "https://localhost:8080/"
    },
    "executionInfo": {
     "elapsed": 9946,
     "status": "ok",
     "timestamp": 1759332512833,
     "user": {
      "displayName": "Carlos Escolano Peinado",
      "userId": "17539970034125185813"
     },
     "user_tz": -120
    },
    "id": "xcK7bp2ztSCi",
    "outputId": "9acb7fe8-84ef-45be-d87e-f5084824aea3"
   },
   "outputs": [
    {
     "name": "stdout",
     "output_type": "stream",
     "text": [
      "Defaulting to user installation because normal site-packages is not writeable\n",
      "Requirement already satisfied: gdown in c:\\users\\jiaha\\appdata\\local\\packages\\pythonsoftwarefoundation.python.3.12_qbz5n2kfra8p0\\localcache\\local-packages\\python312\\site-packages (5.2.0)\n",
      "Requirement already satisfied: beautifulsoup4 in c:\\users\\jiaha\\appdata\\local\\packages\\pythonsoftwarefoundation.python.3.12_qbz5n2kfra8p0\\localcache\\local-packages\\python312\\site-packages (from gdown) (4.13.3)\n",
      "Requirement already satisfied: filelock in c:\\users\\jiaha\\appdata\\local\\packages\\pythonsoftwarefoundation.python.3.12_qbz5n2kfra8p0\\localcache\\local-packages\\python312\\site-packages (from gdown) (3.17.0)\n",
      "Requirement already satisfied: requests[socks] in c:\\users\\jiaha\\appdata\\local\\packages\\pythonsoftwarefoundation.python.3.12_qbz5n2kfra8p0\\localcache\\local-packages\\python312\\site-packages (from gdown) (2.32.3)\n",
      "Requirement already satisfied: tqdm in c:\\users\\jiaha\\appdata\\local\\packages\\pythonsoftwarefoundation.python.3.12_qbz5n2kfra8p0\\localcache\\local-packages\\python312\\site-packages (from gdown) (4.67.1)\n",
      "Requirement already satisfied: soupsieve>1.2 in c:\\users\\jiaha\\appdata\\local\\packages\\pythonsoftwarefoundation.python.3.12_qbz5n2kfra8p0\\localcache\\local-packages\\python312\\site-packages (from beautifulsoup4->gdown) (2.6)\n",
      "Requirement already satisfied: typing-extensions>=4.0.0 in c:\\users\\jiaha\\appdata\\local\\packages\\pythonsoftwarefoundation.python.3.12_qbz5n2kfra8p0\\localcache\\local-packages\\python312\\site-packages (from beautifulsoup4->gdown) (4.12.2)\n",
      "Requirement already satisfied: charset-normalizer<4,>=2 in c:\\users\\jiaha\\appdata\\local\\packages\\pythonsoftwarefoundation.python.3.12_qbz5n2kfra8p0\\localcache\\local-packages\\python312\\site-packages (from requests[socks]->gdown) (3.4.1)\n",
      "Requirement already satisfied: idna<4,>=2.5 in c:\\users\\jiaha\\appdata\\local\\packages\\pythonsoftwarefoundation.python.3.12_qbz5n2kfra8p0\\localcache\\local-packages\\python312\\site-packages (from requests[socks]->gdown) (3.10)\n",
      "Requirement already satisfied: urllib3<3,>=1.21.1 in c:\\users\\jiaha\\appdata\\local\\packages\\pythonsoftwarefoundation.python.3.12_qbz5n2kfra8p0\\localcache\\local-packages\\python312\\site-packages (from requests[socks]->gdown) (2.3.0)\n",
      "Requirement already satisfied: certifi>=2017.4.17 in c:\\users\\jiaha\\appdata\\local\\packages\\pythonsoftwarefoundation.python.3.12_qbz5n2kfra8p0\\localcache\\local-packages\\python312\\site-packages (from requests[socks]->gdown) (2025.1.31)\n",
      "Requirement already satisfied: PySocks!=1.5.7,>=1.5.6 in c:\\users\\jiaha\\appdata\\local\\packages\\pythonsoftwarefoundation.python.3.12_qbz5n2kfra8p0\\localcache\\local-packages\\python312\\site-packages (from requests[socks]->gdown) (1.7.1)\n",
      "Requirement already satisfied: colorama in c:\\users\\jiaha\\appdata\\local\\packages\\pythonsoftwarefoundation.python.3.12_qbz5n2kfra8p0\\localcache\\local-packages\\python312\\site-packages (from tqdm->gdown) (0.4.6)\n"
     ]
    },
    {
     "name": "stderr",
     "output_type": "stream",
     "text": [
      "\n",
      "[notice] A new release of pip is available: 25.0.1 -> 25.2\n",
      "[notice] To update, run: C:\\Users\\jiaha\\AppData\\Local\\Microsoft\\WindowsApps\\PythonSoftwareFoundation.Python.3.12_qbz5n2kfra8p0\\python.exe -m pip install --upgrade pip\n",
      "Downloading...\n",
      "From: https://drive.google.com/uc?id=1u2wzXvsuscLeFHwXcDwMDaNDy0u_99-t\n",
      "To: c:\\Users\\jiaha\\Documents\\Universidad\\TVD\\Voice-and-Dialogue-Treatment\\Lab2\\nlu_ATIS_data.tar.gz\n",
      "\n",
      "  0%|          | 0.00/122k [00:00<?, ?B/s]\n",
      "100%|██████████| 122k/122k [00:00<00:00, 2.48MB/s]\n"
     ]
    }
   ],
   "source": [
    "!pip install gdown\n",
    "!gdown \"https://drive.google.com/uc?id=1u2wzXvsuscLeFHwXcDwMDaNDy0u_99-t\"\n",
    "!tar -zxf nlu_ATIS_data.tar.gz"
   ]
  },
  {
   "cell_type": "code",
   "execution_count": 20,
   "metadata": {
    "executionInfo": {
     "elapsed": 3615,
     "status": "ok",
     "timestamp": 1759332190341,
     "user": {
      "displayName": "Carlos Escolano Peinado",
      "userId": "17539970034125185813"
     },
     "user_tz": -120
    },
    "id": "KQ5ViCr82quX"
   },
   "outputs": [],
   "source": [
    "import random\n",
    "import pandas as pd\n",
    "import numpy as np\n",
    "import tensorflow as tf\n",
    "import matplotlib.pyplot as plt\n",
    "from keras.utils import to_categorical\n",
    "from keras.models import Sequential\n",
    "from keras.layers import Embedding, LSTM, Dense, GlobalMaxPooling1D, Dropout, Conv1D, GlobalAveragePooling1D, LayerNormalization #Remove\n",
    "from sklearn.preprocessing import LabelEncoder\n",
    "from tensorflow.keras.preprocessing.text import Tokenizer\n",
    "from tensorflow.keras.preprocessing.sequence import pad_sequences\n",
    "from tensorflow.keras.callbacks import EarlyStopping"
   ]
  },
  {
   "cell_type": "markdown",
   "metadata": {
    "id": "Q52qMS2g2X7f"
   },
   "source": [
    "<h1><a name=\"section-one\"> 1. Inspecció del conjunt de dades </a></h1>"
   ]
  },
  {
   "cell_type": "markdown",
   "metadata": {
    "id": "L8P5b9k82vcy"
   },
   "source": [
    "A la carpeta `data` tenim els diferents fitxers CSV que utilitzarem per a aquesta pràctica.\n",
    "\n",
    "En primer lloc, llegirem les dades dels fitxers CSV amb `pandas`."
   ]
  },
  {
   "cell_type": "code",
   "execution_count": 2,
   "metadata": {
    "colab": {
     "base_uri": "https://localhost:8080/"
    },
    "executionInfo": {
     "elapsed": 149,
     "status": "ok",
     "timestamp": 1759332514971,
     "user": {
      "displayName": "Carlos Escolano Peinado",
      "userId": "17539970034125185813"
     },
     "user_tz": -120
    },
    "id": "KsBfmAPsnn6n",
    "outputId": "f7f2e2a5-a859-4081-cf5c-d9b6b255d8a7"
   },
   "outputs": [
    {
     "name": "stdout",
     "output_type": "stream",
     "text": [
      "Training size: 4078\n",
      "Validation dataset size: 900\n",
      "Test dataset size: 893\n"
     ]
    }
   ],
   "source": [
    "train_data = pd.read_csv('./data/train.csv', header=None)\n",
    "val_data = train_data.tail(900)\n",
    "train_data = pd.read_csv('./data/train.csv', header=None, nrows=4078)\n",
    "test_data = pd.read_csv('./data/test.csv', header=None)\n",
    "\n",
    "print('Training size:', len(train_data))\n",
    "print('Validation dataset size:', len(val_data))\n",
    "print('Test dataset size:', len(test_data))"
   ]
  },
  {
   "cell_type": "markdown",
   "metadata": {
    "id": "zXFrLX9mvdiQ"
   },
   "source": [
    "Per a aquesta primera part de la pràctica ens centrarem en la primera columna dels arxius que correspon amb les **oracions** en anglès introduïdes per l'usuari. I en la tercera columna que correspon amb la **intenció** de cada oració, és a dir, cada oració tindrà una etiqueta.\n",
    "\n",
    "Podeu executar la cel·la següent tantes vegades com vulgueu per veure instàncies d'aquest conjunt de dades.\n"
   ]
  },
  {
   "cell_type": "code",
   "execution_count": 5,
   "metadata": {
    "colab": {
     "base_uri": "https://localhost:8080/"
    },
    "executionInfo": {
     "elapsed": 46,
     "status": "ok",
     "timestamp": 1759332518122,
     "user": {
      "displayName": "Carlos Escolano Peinado",
      "userId": "17539970034125185813"
     },
     "user_tz": -120
    },
    "id": "tJ4svJaAwQXo",
    "outputId": "9c8fd899-f817-4abe-d19f-3e3999f3d2d7"
   },
   "outputs": [
    {
     "name": "stdout",
     "output_type": "stream",
     "text": [
      "Sentence:  what 's the fare from washington to boston\n",
      "Intent:  airfare\n"
     ]
    }
   ],
   "source": [
    "random_number = random.randint(0, len(train_data)-1)\n",
    "\n",
    "train_sentences = list(train_data[0])\n",
    "train_labels = list(s.replace('\"', '') for s in train_data[2])\n",
    "train_labels = list(s.replace(' ', '') for s in train_labels)\n",
    "\n",
    "print('Sentence: ', train_sentences[random_number])\n",
    "print('Intent: ', train_labels[random_number])"
   ]
  },
  {
   "cell_type": "markdown",
   "metadata": {
    "id": "mjhulZcA0aPG"
   },
   "source": [
    "A continuació analitzarem quantes etiquetes diferents hi ha al dataset i quines són."
   ]
  },
  {
   "cell_type": "code",
   "execution_count": 6,
   "metadata": {
    "colab": {
     "base_uri": "https://localhost:8080/"
    },
    "executionInfo": {
     "elapsed": 5,
     "status": "ok",
     "timestamp": 1759332520922,
     "user": {
      "displayName": "Carlos Escolano Peinado",
      "userId": "17539970034125185813"
     },
     "user_tz": -120
    },
    "id": "C9eS7iLazf-i",
    "outputId": "045e0f31-b2c2-410e-eb47-3c7032c62dfa"
   },
   "outputs": [
    {
     "name": "stdout",
     "output_type": "stream",
     "text": [
      "Label 0: abbreviation\n",
      "Label 1: airport\n",
      "Label 2: flight_no\n",
      "Label 3: ground_fare\n",
      "Label 4: capacity\n",
      "Label 5: ground_service\n",
      "Label 6: flight+airfare\n",
      "Label 7: flight\n",
      "Label 8: flight_time\n",
      "Label 9: distance\n",
      "Label 10: ground_service+ground_fare\n",
      "Label 11: airline+flight_no\n",
      "Label 12: restriction\n",
      "Label 13: aircraft\n",
      "Label 14: airfare\n",
      "Label 15: cheapest\n",
      "Label 16: aircraft+flight+flight_no\n",
      "Label 17: quantity\n",
      "Label 18: city\n",
      "Label 19: airfare+flight_time\n",
      "Label 20: meal\n",
      "Label 21: airline\n",
      "\n",
      "There are a total of 22 intent labels\n"
     ]
    }
   ],
   "source": [
    "num_labels = 0\n",
    "for label in set(train_labels):\n",
    "  print(f'Label {num_labels}:', label.split('.')[-1])\n",
    "  num_labels += 1\n",
    "\n",
    "print(f'\\nThere are a total of {num_labels} intent labels')"
   ]
  },
  {
   "cell_type": "markdown",
   "metadata": {
    "id": "hsjk95_B4pXY"
   },
   "source": [
    "<h1><a name=\"section-two\"> 2. Preprocessament de dades </a></h1>"
   ]
  },
  {
   "cell_type": "markdown",
   "metadata": {
    "id": "o-Ita3Yf46R5"
   },
   "source": [
    "En primer lloc, haurem de tokenitzar les oracions. Això consisteix a convertir el text en representacions numèriques, ja que els models esperen unitats discretes.\n",
    "\n",
    "En aquesta pràctica farem servir una tokenització senzilla, simplement dividirem les oracions en paraules i crearem un vocabulari basat en les paraules úniques de les dades d'entrenament. Cada paraula (token) tindrà assignat un ID únic.\n",
    "\n",
    "Vegem com queda el vocabulari."
   ]
  },
  {
   "cell_type": "code",
   "execution_count": 9,
   "metadata": {
    "colab": {
     "base_uri": "https://localhost:8080/"
    },
    "executionInfo": {
     "elapsed": 53,
     "status": "ok",
     "timestamp": 1759332523868,
     "user": {
      "displayName": "Carlos Escolano Peinado",
      "userId": "17539970034125185813"
     },
     "user_tz": -120
    },
    "id": "zbAD9luKn1X3",
    "outputId": "99cdf8e0-80f7-4b18-e82d-1adbfcf9f731"
   },
   "outputs": [
    {
     "name": "stdout",
     "output_type": "stream",
     "text": [
      "{'to': 1, 'from': 2, 'flights': 3, 'the': 4, 'on': 5, 'what': 6, 'me': 7, 'flight': 8, 'boston': 9, 'show': 10, 'san': 11, 'i': 12, 'denver': 13, 'a': 14, 'francisco': 15, 'in': 16, 'and': 17, 'atlanta': 18, 'pittsburgh': 19, 'is': 20, 'dallas': 21, 'baltimore': 22, 'all': 23, 'philadelphia': 24, 'like': 25, 'are': 26, 'list': 27, 'airlines': 28, 'of': 29, 'between': 30, 'that': 31, 'washington': 32, 'leaving': 33, 'please': 34, 'pm': 35, 'morning': 36, 'would': 37, 'fly': 38, 'for': 39, 'fare': 40, 'first': 41, 'wednesday': 42, 'after': 43, 'there': 44, 'oakland': 45, \"'d\": 46, 'ground': 47, 'you': 48, 'does': 49, 'trip': 50, 'transportation': 51, 'class': 52, 'arriving': 53, 'cheapest': 54, 'need': 55, 'city': 56, 'round': 57, 'with': 58, 'before': 59, 'which': 60, 'available': 61, 'have': 62, 'give': 63, 'at': 64, 'fares': 65, 'american': 66, 'afternoon': 67, 'one': 68, 'want': 69, 'how': 70, 'way': 71, 'new': 72, 'dc': 73, 'nonstop': 74, 'arrive': 75, 'earliest': 76, 'york': 77, 'go': 78, 'monday': 79, 'thursday': 80, 'leave': 81, 'tuesday': 82, 'united': 83, 'am': 84, 'airport': 85, 'information': 86, 'st': 87, 'find': 88, 'evening': 89, 'sunday': 90, 'can': 91, 'milwaukee': 92, 'delta': 93, 'twenty': 94, 'miami': 95, 'noon': 96, 'las': 97, 'vegas': 98, 'charlotte': 99, 'chicago': 100, 'newark': 101, 'any': 102, 'phoenix': 103, \"o'clock\": 104, 'diego': 105, \"'s\": 106, 'august': 107, 'saturday': 108, 'continental': 109, 'do': 110, 'stop': 111, 'friday': 112, 'us': 113, 'air': 114, 'orlando': 115, 'next': 116, 'seventh': 117, 'july': 118, 'airline': 119, 'tell': 120, 'kansas': 121, 'seattle': 122, '5': 123, 'houston': 124, 'toronto': 125, 'or': 126, 'early': 127, 'indianapolis': 128, 'fort': 129, 'worth': 130, 'code': 131, 'aircraft': 132, 'latest': 133, 'cost': 134, 'tomorrow': 135, 'downtown': 136, 'cleveland': 137, 'los': 138, 'angeles': 139, 'many': 140, 'salt': 141, 'lake': 142, 'stopover': 143, 'around': 144, 'going': 145, '6': 146, 'by': 147, 'see': 148, '12': 149, '10': 150, 'an': 151, 'about': 152, 'dollars': 153, '8': 154, 'june': 155, 'may': 156, 'memphis': 157, 'montreal': 158, 'type': 159, 'twa': 160, 'petersburg': 161, 'get': 162, '7': 163, 'much': 164, 'jose': 165, 'leaves': 166, 'than': 167, 'minneapolis': 168, 'expensive': 169, \"'m\": 170, 'ticket': 171, 'tacoma': 172, 'could': 173, 'mean': 174, 'tampa': 175, 'nashville': 176, 'departing': 177, 'travel': 178, 'international': 179, 'time': 180, 'service': 181, 'long': 182, 'louis': 183, 'cincinnati': 184, 'less': 185, 'depart': 186, 'detroit': 187, 'meal': 188, 'into': 189, 'daily': 190, 'columbus': 191, 'know': 192, 'least': 193, 'okay': 194, 'economy': 195, 'it': 196, 'beach': 197, 'november': 198, 'coach': 199, 'last': 200, 'night': 201, 'paul': 202, 'book': 203, 'california': 204, 'used': 205, 'serves': 206, '4': 207, 'second': 208, 'day': 209, 'northwest': 210, 'return': 211, 'kind': 212, 'lowest': 213, 'december': 214, 'love': 215, 'field': 216, '1000': 217, 'serve': 218, 'make': 219, 'general': 220, 'mitchell': 221, 'now': 222, 'september': 223, 'schedule': 224, 'third': 225, 'be': 226, 'breakfast': 227, '2': 228, 'direct': 229, 'arrives': 230, 'stops': 231, '9': 232, 'flying': 233, 'number': 234, 'times': 235, 'goes': 236, 'stopping': 237, 'la': 238, 'looking': 239, 'possible': 240, 'burbank': 241, 'served': 242, 'dl': 243, 'as': 244, 'week': 245, 'airports': 246, 'take': 247, 'cities': 248, 'also': 249, 'eighth': 250, 'connecting': 251, 'this': 252, 'fifth': 253, 'fourth': 254, 'eastern': 255, '1991': 256, 'business': 257, 'ontario': 258, 'has': 259, 'most': 260, 'out': 261, 'car': 262, 'interested': 263, 'restriction': 264, 'ua': 265, 'april': 266, 'back': 267, 'two': 268, 'fifteenth': 269, 'same': 270, 'stand': 271, 'twentieth': 272, 'flies': 273, 'through': 274, 'late': 275, 'price': 276, 'ninth': 277, 'westchester': 278, 'via': 279, 'wednesdays': 280, 'prices': 281, 'using': 282, 'will': 283, 'airfare': 284, 'returning': 285, 'display': 286, 'plane': 287, 'ap': 288, '3': 289, 'arrangements': 290, 'your': 291, 'limousine': 292, 'sixth': 293, 'then': 294, 'only': 295, 'county': 296, 'listing': 297, 'bwi': 298, 'florida': 299, 'today': 300, 'dinner': 301, 'october': 302, 'other': 303, 'under': 304, 'types': 305, 'smallest': 306, 'eleventh': 307, 'tenth': 308, 'guardia': 309, 'thirtieth': 310, '1': 311, 'lunch': 312, 'tickets': 313, 'qx': 314, 'rental': 315, 'where': 316, 'canadian': 317, 'classes': 318, 'f': 319, 'jersey': 320, 'twelfth': 321, 'makes': 322, 'should': 323, 'airplane': 324, 'colorado': 325, 'either': 326, 'north': 327, 'carolina': 328, 'live': 329, 'h': 330, 'shortest': 331, 'midwest': 332, 'express': 333, 'capacity': 334, 'fourteenth': 335, 'meals': 336, 'again': 337, 'hi': 338, '57': 339, 'y': 340, 'but': 341, 'weekday': 342, 'people': 343, 'planes': 344, 'mco': 345, 'march': 346, 'no': 347, 'sixteenth': 348, 'nineteenth': 349, 'seating': 350, 'thirty': 351, 'seventeenth': 352, 'layover': 353, 'if': 354, 'yn': 355, 'my': 356, 'transport': 357, '11': 358, 'explain': 359, 'january': 360, 'when': 361, 'use': 362, 'traveling': 363, 'right': 364, 'some': 365, 'far': 366, 'both': 367, 'booking': 368, 'q': 369, 'serving': 370, 'thank': 371, 'during': 372, 'offer': 373, 'logan': 374, 'boeing': 375, 'sfo': 376, 'trying': 377, \"'re\": 378, '466': 379, 'each': 380, '1100': 381, 'abbreviation': 382, 'landings': 383, 'hp': 384, 'over': 385, 'february': 386, 'arrival': 387, 'numbers': 388, 'arrange': 389, 'coming': 390, 'distance': 391, 'midnight': 392, 'rent': 393, 'qw': 394, 'stopovers': 395, 'thrift': 396, 'ohio': 397, '530': 398, '630': 399, 'yes': 400, 'dfw': 401, 'canada': 402, 'let': 403, '281': 404, 'name': 405, 'takeoffs': 406, 'later': 407, 'uses': 408, 'lufthansa': 409, 'departure': 410, 'hours': 411, 'mornings': 412, 'codes': 413, 'sometime': 414, '838': 415, 'arrivals': 416, 'southwest': 417, 'area': 418, '230': 419, 'cheap': 420, '430': 421, 'nationair': 422, 'jfk': 423, 'days': 424, 'costs': 425, 'starting': 426, 'hello': 427, 'provided': 428, '1115': 429, '1245': 430, '1992': 431, 'ff': 432, 'total': 433, '747': 434, '718': 435, '2100': 436, 's': 437, 'making': 438, 'destination': 439, \"'ll\": 440, 'anywhere': 441, 'requesting': 442, 'kinds': 443, 'reservation': 444, 'america': 445, 'west': 446, 'sorry': 447, 'heading': 448, 'close': 449, 'f28': 450, 'minnesota': 451, 'their': 452, 'those': 453, 'seats': 454, 'pennsylvania': 455, 'saturdays': 456, 'sixteen': 457, 'eighteenth': 458, 'offers': 459, '80': 460, 'passengers': 461, 'fit': 462, 'rates': 463, 'sa': 464, 'land': 465, 'fn': 466, 'qo': 467, 'so': 468, '825': 469, 'help': 470, 'plan': 471, 'define': 472, 'tuesdays': 473, 'connect': 474, 'ea': 475, 'thursdays': 476, 'following': 477, 'more': 478, 'nw': 479, 'ewr': 480, 'noontime': 481, 'ten': 482, 'weekdays': 483, 'near': 484, 'dc10': 485, '934': 486, 'these': 487, 'include': 488, 'another': 489, 'departs': 490, '270': 491, '415': 492, '1110': 493, '755': 494, '720': 495, 'within': 496, 'c': 497, 'snack': 498, 'rate': 499, 'sure': 500, \"'t\": 501, 'rentals': 502, '100': 503, 'abbreviations': 504, '852': 505, 'approximately': 506, 'say': 507, 'wish': 508, 'difference': 509, '737': 510, 'highest': 511, 'connection': 512, '1700': 513, 'ord': 514, '813': 515, '2134': 516, 'maximum': 517, 'choices': 518, 'database': 519, '1765': 520, 'soon': 521, 'eight': 522, 'up': 523, 'departures': 524, 'quebec': 525, 'originate': 526, 'm80': 527, 'm': 528, '72s': 529, 'cp': 530, 'carries': 531, 'co': 532, 'here': 533, 'services': 534, 'taxi': 535, '555': 536, '201': 537, 'six': 538, 'connections': 539, 'philly': 540, 'located': 541, 'ap57': 542, 'dinnertime': 543, '1039': 544, 'lastest': 545, 'amount': 546, '21': 547, 'they': 548, 'just': 549, 'limo': 550, 'describe': 551, 'originating': 552, 'stapleton': 553, 'who': 554, '343': 555, 'options': 556, '1145': 557, 'schedules': 558, 'tennessee': 559, 'without': 560, 'landing': 561, 'midway': 562, '217': 563, 'bound': 564, 'different': 565, '296': 566, '324': 567, 'michigan': 568, 'train': 569, 'well': 570, 'along': 571, 'friends': 572, 'thirteenth': 573, 'transcontinental': 574, 'missouri': 575, 'utah': 576, 'cars': 577, 'dulles': 578, 'reservations': 579, 'lives': 580, '767': 581, '269': 582, 'turboprop': 583, 'sundays': 584, '757': 585, 'meaning': 586, 'taking': 587, 'proper': 588, 'beginning': 589, 'being': 590, '329': 591, '352': 592, 'don': 593, 'serviced': 594, '1024': 595, 'such': 596, 'wanted': 597, '615': 598, 'mealtime': 599, 'provides': 600, 'prefer': 601, '1288': 602, 'four': 603, '257': 604, 'across': 605, 'continent': 606, 'overnight': 607, 'trips': 608, 'local': 609, 'route': 610, '746': 611, 'represented': 612, 'trans': 613, 'world': 614, '1030': 615, '1130': 616, 'discount': 617, 'tower': 618, '2153': 619, 'thereafter': 620, '71': 621, 'supper': 622, 'bna': 623, '106': 624, 'd9s': 625, 'afterwards': 626, '345': 627, '19': 628, '82': 629, '139': 630, 'repeating': 631, '420': 632, 'look': 633, 'regarding': 634, 'nights': 635, 'seven': 636, 'restrictions': 637, '416': 638, 'kindly': 639, 'limousines': 640, 'place': 641, 'includes': 642, '1026': 643, '124': 644, 'fifteen': 645, 'oh': 646, 'year': 647, 'including': 648, 'o': 649, \"'hare\": 650, '815': 651, '928': 652, 'bur': 653, '315': 654, '1291': 655, 'longest': 656, '1222': 657, 'grounds': 658, '200': 659, 'must': 660, 'operation': 661, 'd': 662, '297': 663, 'question': 664, 'texas': 665, 'laying': 666, '650': 667, 'tonight': 668, '3724': 669, 'ls': 670, '210': 671, '1600': 672, 'inform': 673, 'k': 674, '932': 675, 'nonstops': 676, 'aa': 677, '459': 678, 'calling': 679, 'designate': 680, 'spend': 681, 'hou': 682, '1220': 683, 'directly': 684, 'reverse': 685, 'b': 686, 'belong': 687, '445': 688, '515': 689, '150': 690, '110': 691, 'connects': 692, 'charges': 693, 'minimum': 694, 'intercontinental': 695, '727': 696, 'takeoff': 697, 'seat': 698, 'final': 699, 'capacities': 700, '823': 701, '1059': 702, '271': 703, 'alaska': 704, 'able': 705, 'put': 706, 'locate': 707, 'hartfield': 708, 'scheduled': 709, '225': 710, '1158': 711, 'equipment': 712, 'begins': 713, 'lands': 714, 'reaches': 715, 'carried': 716, 'indiana': 717, 'try': 718, '130': 719, 'arizona': 720, 'continuing': 721, 'lester': 722, 'pearson': 723, 'everywhere': 724, '73s': 725, 'whether': 726, 'offered': 727, 'we': 728, 'usa': 729, 'red': 730, 'eye': 731, '1045': 732, 'georgia': 733, 'currently': 734, 'visit': 735, 'them': 736, '55': 737, 'determine': 738, 'thing': 739, '705': 740, 'fridays': 741, 'catch': 742, 'straight': 743, 'planning': 744, 'listed': 745, '1055': 746, '405': 747, 'equal': 748, 'ac': 749, 'provide': 750, 'hopefully': 751, 'symbols': 752, 'sort': 753, 'cover': 754, '810': 755, 'operating': 756, '1205': 757, 'mondays': 758, '733': 759, 'atl': 760, 'besides': 761, 'too': 762, 'month': 763, \"'ve\": 764, 'got': 765, 'somebody': 766, 'else': 767, 'wants': 768, 'level': 769, 'vicinity': 770, '311': 771, 'mia': 772, 'instead': 773, 'repeat': 774, 'eleven': 775, 'off': 776, 'greatest': 777, 'summer': 778, '300': 779, 'lax': 780, 'economic': 781, 'bay': 782, '402': 783, '845': 784, 'j31': 785, 'date': 786, '1020': 787, '730': 788, '400': 789, 'doesn': 790, '1993': 791, 'toward': 792, 'home': 793, '1850': 794, '1505': 795, 'runs': 796, 'stands': 797, '723': 798, 'thanks': 799, 'bring': 800, 'zone': 801, 'yyz': 802, 'airplanes': 803, 'non': 804, 'buy': 805, '500': 806, 'airfares': 807, 'come': 808, '428': 809, '98': 810, 'qualify': 811, '279': 812, '137338': 813, 'd10': 814, '539': 815, 'fine': 816, 'while': 817, '1200': 818, 'ap80': 819, 'concerning': 820, 'iah': 821, '1230': 822, 'still': 823, 'preferably': 824, 'itinerary': 825, '3357': 826, '323': 827, '229': 828, 'inexpensive': 829, 'actually': 830}\n",
      "830\n"
     ]
    }
   ],
   "source": [
    "num_words=500 # We will only use the top 500 words in the dataset, other words will be considered as out-of-vocabulary\n",
    "tokenizer = Tokenizer(num_words)\n",
    "# tokenizer = Tokenizer(num_words, oov_token=\"<OOV>\") out-of-vocabulary token\n",
    "tokenizer.fit_on_texts(train_sentences)\n",
    "\n",
    "vocab = tokenizer.word_index\n",
    "print(vocab)\n",
    "print(len(vocab))"
   ]
  },
  {
   "cell_type": "markdown",
   "metadata": {
    "id": "6hGwpkozALwY"
   },
   "source": [
    "---\n",
    "\n",
    " <h1><a name=\"ex-one\"><center> ✏ Exercici 1 ✏</a></h1>"
   ]
  },
  {
   "cell_type": "markdown",
   "metadata": {
    "id": "aUg-yEv3AQHF"
   },
   "source": [
    "En aquest primer exercici us demanem que donat el vocabulari anterior convertiu la llista d'oracions de la partició d'entrenament, és a dir, `train_sentenes` en seqüències d'IDs.\n",
    "\n",
    "Podeu trobar la documentació [aquí](https://www.tensorflow.org/api_docs/python/tf/keras/preprocessing/text/Tokenizer)."
   ]
  },
  {
   "cell_type": "code",
   "execution_count": 10,
   "metadata": {
    "id": "GKe6R8slB3BY"
   },
   "outputs": [
    {
     "name": "stdout",
     "output_type": "stream",
     "text": [
      "i want to fly from boston at 838 am and arrive in denver at 1110 in the morning\n",
      "[12, 69, 1, 38, 2, 9, 64, 415, 84, 17, 75, 16, 13, 64, 493, 16, 4, 36]\n"
     ]
    }
   ],
   "source": [
    "#TODO\n",
    "train_sequences = tokenizer.texts_to_sequences(train_sentences)\n",
    "print(train_sentences[0])\n",
    "print(train_sequences[0])"
   ]
  },
  {
   "cell_type": "markdown",
   "metadata": {
    "id": "hWD1yHt6B5-v"
   },
   "source": [
    "Si ho heu fet correctament hauríeu d'obtenir això:\n",
    "\n",
    "```\n",
    "print(train_sentences[0])\n",
    "print(train_sequences[0])\n",
    "\n",
    "i want to fly from boston at 838 am and arrive in denver at 1110 in the morning\n",
    "[12, 69, 1, 38, 2, 9, 64, 415, 84, 17, 75, 16, 13, 64, 493, 16, 4, 36]\n",
    "```\n",
    "\n"
   ]
  },
  {
   "cell_type": "markdown",
   "metadata": {
    "id": "o0XsJ2MBDN-C"
   },
   "source": [
    "---\n",
    "A continuació haurem d'aconseguir que totes les seqüències tinguen una longitud fixa. Per a fer això primer fixarem la longitud segons la longitud màxima trobada a les seqüències del conjunt d'entrenament. I a continuació omplirem (*pad*) les seqüències que tinguen una longitud menor.\n"
   ]
  },
  {
   "cell_type": "code",
   "execution_count": 11,
   "metadata": {
    "id": "pCZCtmemEJcC"
   },
   "outputs": [
    {
     "name": "stdout",
     "output_type": "stream",
     "text": [
      "Padded sequence:  [  0   0   0   0   0   0   0   0   0   0   0   0   0   0   0   0   0   0\n",
      "   0   0   0   0   0   0   0   0   0  12  69   1  38   2   9  64 415  84\n",
      "  17  75  16  13  64 493  16   4  36]\n"
     ]
    }
   ],
   "source": [
    "max_sequence_length = max(map(len, train_sequences))\n",
    "train_pad_sequences = pad_sequences(train_sequences, maxlen=max_sequence_length)\n",
    "print('Padded sequence: ', train_pad_sequences[0])"
   ]
  },
  {
   "cell_type": "markdown",
   "metadata": {
    "id": "pra9IsdHF__M"
   },
   "source": [
    "---\n",
    "\n",
    " <h1><a name=\"ex-two\"><center> ✏ Exercici 2 ✏</a></h1>"
   ]
  },
  {
   "cell_type": "markdown",
   "metadata": {
    "id": "PBgfE1taGCFZ"
   },
   "source": [
    "Com l'ordre de les paraules sí que importa als models que utilitzarem en aquesta pràctica, és aconsellable que el *padding* estiga al final i no al principi. Busqueu [aquí](https://www.tensorflow.org/api_docs/python/tf/keras/utils/pad_sequences) com fer perquè el codi anterior afegisca els zeros al final i no al principi de la seqüència."
   ]
  },
  {
   "cell_type": "code",
   "execution_count": 12,
   "metadata": {
    "id": "VpZd7KQsHIEH"
   },
   "outputs": [
    {
     "name": "stdout",
     "output_type": "stream",
     "text": [
      "Padded sequence:  [ 12  69   1  38   2   9  64 415  84  17  75  16  13  64 493  16   4  36\n",
      "   0   0   0   0   0   0   0   0   0   0   0   0   0   0   0   0   0   0\n",
      "   0   0   0   0   0   0   0   0   0   0   0   0   0   0   0   0   0   0\n",
      "   0   0   0   0   0   0   0   0   0   0   0   0   0   0   0   0   0   0\n",
      "   0   0   0   0   0   0   0   0   0   0   0   0   0   0   0   0   0   0\n",
      "   0   0   0   0   0   0   0   0   0   0]\n"
     ]
    }
   ],
   "source": [
    "#TODO\n",
    "train_pad_sequences = pad_sequences(train_sequences, padding='post', maxlen=100)\n",
    "print('Padded sequence: ', train_pad_sequences[0])"
   ]
  },
  {
   "cell_type": "markdown",
   "metadata": {},
   "source": [
    "Si ho heu fet correctament hauríeu d'obtenir això:\n",
    "\n",
    "```\n",
    "print('Padded sequence: ', train_pad_sequences[0])\n",
    "\n",
    "Padded sequence:  [ 12  69   1  38   2   9  64 415  84  17  75  16  13  64 493  16   4  36\n",
    "   0   0   0   0   0   0   0   0   0   0   0   0   0   0   0   0   0   0\n",
    "   0   0   0   0   0   0   0   0   0]\n",
    "```\n"
   ]
  },
  {
   "cell_type": "markdown",
   "metadata": {
    "id": "KjuIPHd7HNRY"
   },
   "source": [
    "---"
   ]
  },
  {
   "cell_type": "markdown",
   "metadata": {
    "id": "_l6lJA9mHj3j"
   },
   "source": [
    "A continuació convertirem les classes d'intencions categòriques (*capacity*, *ground_service*, *flight*, etc.) en el que anomenem one-hot vector encoding. Aquesta tècnica s'utilitza per representar les dades categòriques com a vectors binaris. On cada vector representa una classe específica i l'element corresponent a la classe es posa a 1 i la resta d'elements es mantenen a 0.\n",
    "\n",
    "Imaginem que tenim tres classes: *capacity*, *ground_service*, *flight*. Podríem codificar aquestes classes amb un vector únic de la forma següent:\n",
    "\n",
    "\n",
    "```\n",
    "   capacity -> [1, 0, 0]\n",
    "   ground_service -> [0, 1, 0]\n",
    "   flight -> [0, 0, 1]\n",
    "```\n",
    "\n",
    "Per aconseguir això primer codificarem les classes d'intenció en etiquetes numèriques."
   ]
  },
  {
   "cell_type": "code",
   "execution_count": 13,
   "metadata": {
    "id": "j8c6wt1Pb7fw"
   },
   "outputs": [
    {
     "name": "stdout",
     "output_type": "stream",
     "text": [
      "Original labels: ['flight', 'flight', 'flight_time', 'airfare', 'airfare', 'flight', 'aircraft', 'flight', 'flight', 'ground_service', 'flight', 'flight', 'airport', 'flight', 'flight', 'airfare', 'ground_service', 'flight', 'flight', 'flight', 'flight', 'flight', 'flight', 'aircraft', 'airfare', 'flight', 'airline', 'flight', 'ground_service', 'flight', 'airfare', 'flight', 'flight', 'flight', 'flight', 'airfare', 'airline', 'flight', 'flight', 'flight', 'distance', 'flight', 'airline', 'airline', 'flight', 'airline', 'ground_service', 'abbreviation', 'flight', 'flight', 'flight_time', 'flight', 'flight', 'ground_fare', 'flight', 'abbreviation', 'flight', 'flight', 'flight', 'flight', 'flight', 'airline', 'flight', 'ground_service', 'airline', 'flight', 'flight', 'airport', 'flight', 'flight', 'abbreviation', 'flight', 'flight', 'flight', 'flight', 'aircraft', 'airfare', 'flight', 'flight', 'flight', 'flight', 'flight', 'flight', 'flight', 'airline', 'flight', 'flight', 'flight', 'flight', 'flight', 'flight', 'flight', 'airfare', 'flight', 'distance', 'ground_service', 'quantity', 'flight', 'flight', 'flight', 'flight', 'flight', 'flight', 'flight', 'city', 'ground_fare', 'flight', 'ground_service', 'flight', 'flight', 'flight', 'flight', 'flight', 'flight', 'flight', 'flight', 'flight', 'flight', 'flight', 'flight', 'flight', 'ground_service', 'airline', 'flight', 'flight', 'flight', 'flight', 'flight', 'aircraft', 'flight', 'flight', 'flight', 'flight', 'flight', 'flight', 'flight', 'flight', 'flight', 'flight', 'airfare', 'ground_service', 'airfare', 'abbreviation', 'flight', 'airfare', 'ground_service', 'flight', 'flight', 'flight', 'flight', 'flight', 'flight', 'airfare', 'flight', 'flight', 'flight', 'flight', 'flight', 'flight', 'flight', 'flight', 'flight', 'flight', 'flight', 'flight', 'ground_service', 'flight', 'flight', 'airfare', 'flight', 'flight', 'flight', 'flight', 'flight', 'flight', 'flight', 'flight', 'flight', 'airfare', 'airfare', 'flight', 'flight', 'flight', 'flight', 'flight', 'flight', 'ground_service', 'flight', 'flight', 'ground_service', 'flight', 'flight', 'flight', 'flight', 'flight', 'flight', 'flight', 'flight', 'flight', 'flight', 'flight', 'flight', 'flight_time', 'ground_service', 'airline', 'quantity', 'flight', 'flight', 'flight', 'flight', 'airline', 'flight', 'flight', 'flight', 'flight', 'flight', 'ground_service', 'flight', 'flight', 'flight', 'flight', 'ground_service', 'flight', 'abbreviation', 'flight', 'flight', 'ground_service', 'flight', 'flight', 'airfare', 'flight', 'flight', 'flight', 'airfare', 'flight', 'flight', 'flight', 'flight', 'flight', 'flight', 'flight', 'flight', 'flight', 'flight', 'ground_service', 'flight', 'flight', 'airfare', 'flight', 'flight', 'flight', 'flight', 'flight', 'flight', 'flight', 'flight', 'flight', 'flight', 'airline', 'flight', 'flight', 'abbreviation', 'flight', 'flight', 'airfare', 'flight', 'flight', 'flight', 'flight', 'flight', 'flight', 'aircraft', 'abbreviation', 'flight', 'flight', 'airfare', 'flight', 'airline', 'flight', 'airline', 'flight', 'flight', 'flight', 'flight', 'flight', 'airfare', 'flight', 'flight', 'flight', 'flight', 'flight', 'flight', 'flight', 'flight', 'flight', 'flight', 'flight', 'flight', 'flight', 'flight', 'flight', 'flight', 'flight', 'flight', 'flight', 'flight', 'flight', 'flight', 'flight', 'flight', 'flight', 'aircraft', 'flight', 'flight', 'flight_time', 'flight', 'flight', 'flight', 'flight', 'flight', 'flight', 'flight', 'flight', 'airfare', 'flight', 'flight', 'abbreviation', 'flight', 'flight', 'quantity', 'flight_no', 'flight', 'flight', 'flight', 'flight', 'airfare', 'abbreviation', 'flight', 'ground_service', 'flight', 'flight', 'flight', 'flight', 'flight', 'flight', 'airfare', 'flight', 'flight', 'ground_service', 'flight', 'flight', 'airline', 'flight', 'quantity', 'flight', 'flight', 'flight', 'flight', 'airfare', 'flight', 'flight', 'city', 'flight', 'flight', 'flight', 'flight', 'flight', 'flight', 'airfare', 'flight', 'flight', 'flight', 'flight', 'flight', 'flight', 'flight', 'flight', 'flight', 'flight', 'flight', 'flight_time', 'flight', 'quantity', 'flight_time', 'flight', 'quantity', 'flight', 'flight', 'flight', 'airline', 'flight', 'flight', 'flight', 'flight', 'flight', 'flight', 'flight', 'flight', 'flight', 'flight', 'flight', 'flight', 'flight', 'abbreviation', 'flight', 'flight', 'airfare', 'flight', 'flight', 'flight', 'flight', 'flight', 'flight', 'flight', 'flight', 'quantity', 'flight', 'flight', 'flight', 'aircraft', 'abbreviation', 'flight', 'capacity', 'flight', 'flight', 'flight', 'flight', 'flight', 'airfare', 'flight', 'flight', 'abbreviation', 'ground_service', 'flight', 'flight', 'flight', 'flight', 'airfare', 'flight', 'flight', 'flight', 'flight', 'flight', 'airfare', 'flight', 'flight', 'flight', 'flight', 'airfare', 'flight', 'airfare', 'flight', 'quantity', 'flight', 'flight', 'flight', 'flight', 'flight', 'flight', 'flight', 'flight', 'flight', 'flight', 'flight', 'flight', 'flight', 'flight', 'flight', 'flight', 'flight', 'flight', 'flight', 'airfare', 'flight', 'flight', 'airfare', 'flight', 'flight', 'flight', 'flight', 'flight', 'flight_time', 'ground_service', 'flight', 'airfare', 'flight', 'ground_service', 'flight', 'flight', 'flight', 'flight', 'airline', 'flight', 'flight', 'flight', 'ground_service', 'flight', 'flight', 'flight', 'airline', 'airfare', 'flight', 'flight', 'airfare', 'flight', 'flight', 'flight', 'distance', 'flight', 'airfare', 'flight', 'flight', 'airfare', 'flight', 'flight', 'ground_service', 'flight', 'ground_service', 'abbreviation', 'flight', 'flight', 'flight', 'flight', 'flight', 'flight', 'flight', 'flight', 'airline', 'airfare', 'flight', 'airline', 'flight', 'flight', 'flight', 'quantity', 'flight', 'flight', 'airfare', 'flight', 'airfare', 'flight', 'flight', 'flight', 'flight', 'flight', 'flight', 'flight', 'flight', 'aircraft', 'flight', 'flight', 'flight', 'flight', 'flight', 'flight', 'flight', 'flight', 'flight', 'ground_service', 'flight', 'flight', 'flight', 'flight', 'abbreviation', 'flight', 'flight', 'airfare', 'flight', 'flight', 'flight', 'flight+airfare', 'flight', 'flight', 'ground_service', 'flight', 'flight', 'quantity', 'flight', 'flight', 'flight', 'flight', 'airline', 'flight', 'flight', 'flight', 'airfare', 'flight', 'flight', 'flight', 'abbreviation', 'flight', 'airfare', 'flight', 'flight', 'flight', 'flight', 'flight', 'ground_fare', 'airline', 'flight', 'airfare', 'ground_service', 'flight+airfare', 'airfare', 'flight', 'flight', 'flight', 'flight', 'flight', 'flight', 'flight', 'flight', 'flight', 'flight', 'airfare', 'flight', 'airline', 'flight', 'airfare', 'abbreviation', 'flight', 'airfare', 'airfare', 'flight', 'flight', 'flight', 'capacity', 'flight', 'flight', 'flight', 'flight', 'ground_service', 'flight', 'airfare', 'flight', 'airfare', 'flight', 'flight', 'flight', 'flight', 'abbreviation', 'flight', 'flight', 'flight', 'flight', 'flight_time', 'flight', 'airfare', 'flight', 'flight', 'airfare', 'flight', 'airfare', 'ground_service', 'flight', 'flight', 'airfare', 'flight', 'flight', 'flight', 'abbreviation', 'flight', 'flight', 'flight', 'airfare', 'flight', 'flight', 'flight', 'flight', 'flight', 'flight', 'airport', 'flight', 'flight', 'flight', 'flight', 'airline', 'airline', 'flight', 'flight', 'flight', 'quantity', 'airfare', 'flight', 'flight', 'flight', 'flight', 'ground_service', 'quantity', 'flight', 'flight', 'flight', 'flight', 'airfare', 'flight', 'flight', 'flight', 'flight', 'flight', 'airfare', 'flight', 'flight', 'flight', 'flight', 'flight', 'airfare', 'flight', 'flight', 'flight', 'flight', 'quantity', 'flight', 'flight', 'aircraft', 'flight', 'flight', 'flight', 'flight', 'flight', 'flight+airfare', 'flight', 'aircraft', 'airfare', 'flight', 'flight', 'flight', 'flight', 'airfare', 'aircraft', 'quantity', 'abbreviation', 'flight', 'flight', 'flight', 'aircraft', 'flight', 'flight', 'flight', 'abbreviation', 'ground_service', 'flight', 'flight', 'flight', 'airfare', 'ground_service', 'ground_service', 'flight', 'abbreviation', 'flight', 'meal', 'flight', 'flight', 'flight', 'flight', 'flight', 'flight', 'flight', 'flight', 'ground_service', 'flight', 'flight', 'flight', 'airline', 'flight', 'flight', 'flight', 'flight', 'flight', 'ground_service', 'flight', 'flight', 'flight', 'flight', 'airfare', 'flight_time', 'distance', 'flight', 'ground_service', 'airfare', 'airport', 'flight', 'flight', 'airport', 'flight', 'flight', 'flight', 'flight', 'flight', 'flight', 'flight', 'flight', 'ground_service', 'flight', 'flight', 'flight', 'flight', 'airfare', 'flight', 'airfare', 'flight', 'flight', 'flight_time', 'flight', 'flight', 'capacity', 'abbreviation', 'flight', 'flight', 'flight', 'flight', 'airfare', 'airfare', 'ground_service', 'flight', 'flight', 'flight', 'flight', 'flight_time', 'flight', 'flight', 'airfare', 'flight', 'flight', 'ground_fare', 'flight', 'airfare', 'flight', 'abbreviation', 'aircraft', 'flight', 'aircraft', 'flight', 'flight', 'airfare', 'flight', 'flight', 'airline', 'abbreviation', 'flight', 'abbreviation', 'flight', 'restriction', 'flight', 'flight', 'flight', 'airfare', 'flight', 'flight', 'flight', 'flight', 'aircraft', 'flight', 'flight', 'flight', 'flight', 'flight', 'ground_service', 'flight', 'flight', 'flight+airfare', 'flight', 'flight', 'flight', 'flight', 'flight', 'flight', 'flight', 'abbreviation', 'flight', 'flight', 'flight', 'flight', 'flight', 'abbreviation', 'flight', 'flight', 'abbreviation', 'airfare', 'flight', 'flight_no', 'airfare', 'flight', 'airfare', 'flight', 'flight', 'flight', 'flight', 'aircraft', 'flight', 'ground_service', 'ground_service', 'flight', 'flight', 'flight', 'flight', 'flight', 'airfare', 'flight', 'quantity', 'flight', 'distance', 'flight', 'airfare', 'flight', 'ground_service', 'flight', 'flight', 'flight', 'flight', 'flight', 'flight', 'flight', 'flight', 'airfare', 'flight', 'flight', 'flight', 'flight', 'flight', 'flight', 'ground_service', 'flight', 'airfare', 'flight', 'flight', 'flight', 'flight', 'flight', 'flight', 'flight', 'flight', 'flight', 'flight', 'flight', 'flight', 'flight', 'flight', 'ground_service', 'flight', 'flight', 'flight', 'flight', 'quantity', 'flight', 'flight', 'flight', 'flight', 'flight', 'flight', 'flight', 'flight_time', 'ground_service', 'flight', 'airline', 'flight', 'flight', 'flight', 'aircraft', 'flight_time', 'flight', 'airfare', 'flight_no', 'flight', 'airline', 'flight', 'flight', 'flight', 'flight', 'airfare', 'flight', 'flight', 'flight', 'abbreviation', 'flight', 'flight', 'flight', 'flight', 'airfare', 'flight', 'flight', 'flight', 'airline', 'abbreviation', 'flight', 'flight', 'flight', 'flight', 'airline', 'flight', 'flight', 'flight', 'flight', 'flight', 'airline', 'flight', 'flight', 'flight', 'flight', 'flight', 'flight', 'flight', 'flight', 'flight', 'flight', 'flight', 'flight', 'airline', 'airfare', 'flight', 'flight', 'flight', 'flight', 'flight', 'flight', 'flight', 'capacity', 'flight', 'flight', 'flight', 'flight', 'flight', 'airfare', 'flight', 'flight', 'flight', 'flight', 'abbreviation', 'flight', 'airfare', 'flight_time', 'flight', 'flight', 'flight', 'flight', 'airline', 'flight', 'flight', 'flight', 'flight', 'flight', 'flight', 'flight', 'flight', 'flight', 'flight', 'flight', 'flight', 'flight', 'flight', 'airfare', 'flight', 'flight', 'flight', 'flight', 'flight', 'flight', 'flight', 'airfare', 'airfare', 'flight', 'airfare', 'flight', 'flight', 'ground_service', 'flight', 'flight', 'flight', 'flight', 'flight', 'flight', 'flight', 'airfare', 'flight', 'flight', 'flight', 'flight', 'flight', 'flight', 'flight', 'flight', 'airfare', 'flight', 'flight', 'flight', 'flight', 'flight', 'flight', 'flight', 'flight_time', 'flight', 'flight', 'flight', 'flight', 'flight', 'flight', 'aircraft', 'flight', 'flight', 'flight', 'flight', 'flight', 'flight', 'flight', 'flight', 'flight', 'flight', 'flight', 'flight', 'flight', 'flight', 'airline', 'airline', 'flight', 'flight', 'flight', 'airfare', 'airline', 'airline', 'flight', 'airfare', 'flight', 'flight', 'aircraft', 'airfare', 'flight', 'flight', 'flight', 'flight', 'flight', 'flight', 'flight', 'flight', 'flight', 'flight', 'abbreviation', 'flight', 'airfare', 'flight', 'airline', 'airfare', 'flight', 'flight', 'airline', 'quantity', 'flight', 'flight', 'airfare', 'flight', 'abbreviation', 'flight', 'flight', 'ground_service', 'flight', 'ground_service', 'flight', 'airfare', 'flight', 'flight', 'flight', 'flight', 'flight', 'city', 'abbreviation', 'flight', 'flight', 'flight', 'flight', 'abbreviation', 'flight', 'flight', 'flight', 'airfare', 'flight', 'flight', 'flight', 'flight_time', 'airline', 'flight', 'flight', 'flight', 'flight', 'flight', 'flight', 'flight', 'flight', 'restriction', 'flight', 'flight', 'flight', 'flight', 'flight', 'flight', 'flight', 'flight', 'flight', 'flight', 'flight', 'flight', 'flight', 'aircraft', 'flight', 'airfare', 'flight', 'flight', 'ground_service', 'flight', 'aircraft', 'flight', 'airfare', 'flight', 'airfare', 'flight', 'flight', 'flight', 'flight', 'flight', 'flight', 'flight', 'flight', 'flight', 'flight', 'ground_service', 'aircraft', 'abbreviation', 'flight', 'airfare', 'flight', 'distance', 'flight', 'airfare', 'aircraft', 'flight', 'flight', 'flight', 'flight', 'flight', 'ground_service', 'flight', 'flight', 'flight', 'flight', 'flight', 'flight', 'flight', 'flight', 'flight', 'flight', 'flight', 'flight', 'flight', 'airfare', 'flight', 'airfare', 'flight', 'flight', 'flight_no', 'flight', 'flight', 'flight', 'airfare', 'flight', 'flight', 'aircraft', 'airline', 'flight', 'flight', 'flight', 'flight', 'flight', 'flight', 'flight', 'aircraft', 'flight', 'flight', 'airfare', 'flight', 'aircraft', 'flight', 'quantity', 'flight', 'abbreviation', 'flight', 'flight', 'flight', 'flight', 'flight', 'flight', 'flight', 'flight', 'flight', 'ground_service', 'flight', 'flight', 'flight', 'flight', 'flight', 'flight', 'flight', 'flight', 'flight', 'ground_service', 'flight', 'quantity', 'flight', 'ground_fare', 'flight', 'flight', 'flight', 'flight', 'quantity', 'flight', 'flight', 'flight', 'flight', 'flight', 'flight', 'flight', 'flight', 'ground_service', 'flight', 'abbreviation', 'flight', 'flight', 'flight', 'flight', 'flight+airfare', 'airfare', 'airfare', 'flight', 'flight', 'flight', 'flight', 'flight', 'flight', 'flight', 'flight', 'ground_service', 'flight', 'flight', 'flight', 'airfare', 'flight', 'flight', 'flight', 'aircraft', 'flight', 'flight', 'flight', 'flight', 'flight', 'flight', 'flight', 'ground_service', 'flight', 'ground_service', 'ground_fare', 'abbreviation', 'airline', 'airfare', 'airfare', 'flight', 'flight', 'flight', 'flight', 'flight', 'flight', 'flight', 'flight', 'flight', 'flight', 'flight', 'airline', 'airfare', 'airfare', 'flight', 'flight', 'flight', 'ground_service', 'flight', 'flight', 'flight', 'flight', 'flight', 'flight', 'airfare', 'flight', 'flight', 'flight', 'airfare', 'flight', 'flight', 'flight', 'flight', 'flight', 'flight', 'flight', 'flight', 'ground_service', 'flight', 'ground_service', 'flight', 'flight', 'flight', 'flight', 'flight', 'flight', 'abbreviation', 'flight', 'flight', 'flight', 'ground_fare', 'flight', 'flight', 'flight', 'ground_service', 'flight', 'aircraft', 'ground_service', 'flight', 'airline', 'flight', 'ground_service', 'flight', 'flight', 'flight', 'flight', 'abbreviation', 'ground_service', 'flight', 'flight', 'flight', 'flight', 'flight', 'flight', 'airfare', 'airfare', 'quantity', 'flight', 'flight', 'flight', 'flight', 'flight', 'flight', 'flight', 'flight', 'abbreviation', 'flight', 'flight', 'flight', 'flight', 'ground_service', 'city', 'flight', 'airfare', 'flight', 'abbreviation', 'flight', 'flight', 'airport', 'flight', 'flight', 'flight', 'flight', 'airfare', 'ground_service', 'airfare', 'ground_service', 'flight', 'flight', 'flight', 'airline', 'flight', 'flight', 'flight', 'flight', 'flight', 'ground_service', 'flight', 'flight', 'flight', 'flight', 'flight', 'flight', 'flight', 'airfare', 'flight', 'flight', 'abbreviation', 'flight', 'flight', 'flight', 'flight', 'flight', 'flight', 'flight', 'flight', 'flight', 'flight', 'flight', 'flight', 'airfare', 'flight', 'flight', 'airfare', 'flight', 'flight', 'aircraft', 'flight', 'flight', 'flight', 'flight', 'flight', 'flight', 'flight', 'flight', 'flight', 'flight', 'ground_service', 'airline', 'flight_time', 'airfare', 'flight', 'airfare', 'flight', 'flight', 'flight', 'flight', 'flight', 'aircraft', 'flight', 'flight', 'flight', 'flight', 'flight', 'flight', 'airfare', 'airfare', 'flight', 'flight', 'flight', 'flight', 'flight', 'flight', 'flight', 'airfare', 'airfare', 'flight', 'flight', 'flight', 'flight', 'flight', 'flight', 'flight', 'flight', 'flight', 'flight', 'flight', 'flight', 'flight', 'flight', 'ground_service', 'capacity', 'flight', 'flight', 'flight', 'flight', 'abbreviation', 'flight', 'flight', 'flight', 'airfare', 'flight', 'flight', 'flight', 'flight', 'flight', 'flight', 'flight', 'aircraft', 'flight', 'flight', 'flight', 'aircraft', 'abbreviation', 'flight', 'flight', 'flight', 'abbreviation', 'flight', 'flight', 'flight', 'airline', 'flight', 'flight', 'distance', 'flight', 'flight', 'flight', 'flight', 'flight_time', 'flight', 'airfare', 'flight', 'flight', 'flight', 'flight', 'flight', 'airfare', 'flight', 'flight', 'flight', 'quantity', 'quantity', 'flight', 'flight', 'flight', 'airfare', 'flight', 'flight', 'quantity', 'flight', 'ground_service', 'flight', 'flight', 'flight', 'flight', 'flight', 'flight', 'flight', 'flight', 'flight', 'flight', 'flight', 'flight', 'flight', 'flight', 'flight', 'flight', 'flight', 'flight', 'flight', 'flight', 'flight', 'flight', 'airfare', 'flight', 'flight', 'airfare', 'flight', 'flight', 'flight', 'airline', 'flight', 'flight', 'flight', 'flight_time', 'flight', 'flight', 'flight', 'flight', 'flight', 'flight', 'flight', 'flight', 'ground_service', 'flight', 'flight', 'flight', 'abbreviation', 'flight', 'airfare', 'flight', 'flight', 'airfare', 'flight', 'flight', 'flight', 'flight', 'flight', 'airline', 'flight', 'flight', 'flight', 'flight', 'flight', 'abbreviation', 'flight', 'flight', 'flight', 'flight', 'flight', 'flight', 'flight', 'flight', 'flight_no', 'ground_service', 'flight', 'flight', 'flight', 'flight', 'flight', 'flight_no', 'flight', 'flight', 'flight', 'ground_service', 'flight', 'airfare', 'flight_time', 'flight', 'flight', 'flight', 'flight', 'flight', 'flight', 'flight', 'flight', 'flight', 'flight', 'flight', 'airfare', 'flight', 'ground_service', 'flight', 'flight', 'abbreviation', 'flight', 'flight', 'flight', 'flight', 'quantity', 'flight', 'flight', 'flight', 'flight', 'flight', 'flight', 'flight', 'flight', 'flight', 'flight', 'aircraft', 'flight', 'flight', 'flight', 'flight', 'airfare', 'flight', 'ground_service', 'flight', 'airfare', 'flight', 'flight', 'flight', 'flight', 'flight', 'flight', 'flight', 'flight', 'airfare', 'flight', 'airfare', 'airline', 'flight', 'flight', 'flight', 'flight', 'flight', 'flight', 'flight+airfare', 'flight', 'flight', 'flight', 'airfare', 'flight', 'flight', 'flight', 'airline', 'flight', 'flight', 'flight', 'flight', 'flight', 'ground_service', 'flight', 'flight', 'airline', 'flight', 'flight', 'airfare', 'flight', 'flight', 'ground_service', 'quantity', 'flight', 'airline', 'ground_service', 'airfare', 'flight', 'flight', 'flight', 'flight', 'airfare', 'flight_time', 'flight', 'flight', 'flight', 'flight', 'flight', 'airfare', 'flight', 'flight', 'flight', 'city', 'flight', 'flight', 'flight', 'flight', 'flight', 'ground_service', 'flight', 'ground_service', 'flight', 'flight', 'flight', 'airfare', 'ground_service', 'airfare', 'airfare', 'abbreviation', 'flight', 'airfare', 'flight', 'flight', 'flight', 'flight', 'flight', 'flight', 'flight', 'flight', 'flight', 'flight', 'flight', 'flight', 'airline', 'flight', 'flight', 'flight', 'airfare', 'ground_service', 'flight', 'flight', 'aircraft', 'flight', 'airfare', 'flight', 'flight', 'flight', 'flight', 'flight', 'flight', 'flight', 'flight', 'flight', 'airfare', 'quantity', 'flight', 'flight', 'flight', 'flight', 'flight', 'airline', 'flight', 'flight', 'ground_service', 'capacity', 'flight', 'ground_service', 'flight', 'flight', 'flight', 'flight', 'flight', 'flight', 'flight', 'airfare', 'flight', 'flight', 'flight', 'flight', 'airfare', 'airline', 'flight', 'flight', 'airfare', 'flight', 'flight', 'quantity', 'ground_service', 'flight', 'flight', 'flight', 'quantity', 'airline', 'ground_service', 'flight', 'flight', 'flight', 'flight', 'flight', 'abbreviation', 'flight', 'flight', 'flight', 'flight', 'distance', 'flight', 'flight', 'flight', 'flight', 'ground_service', 'flight', 'flight', 'flight_time', 'flight', 'flight', 'airfare', 'flight', 'flight', 'flight', 'flight', 'abbreviation', 'flight', 'flight', 'flight', 'airfare', 'flight', 'airfare', 'flight', 'ground_service', 'flight', 'flight', 'airline', 'flight', 'flight', 'airline', 'flight', 'flight', 'aircraft', 'flight', 'flight', 'flight', 'ground_service', 'flight', 'flight', 'flight', 'flight', 'flight', 'airfare', 'flight', 'flight', 'flight', 'flight', 'flight', 'flight', 'flight', 'airfare', 'flight', 'airfare', 'airline', 'flight', 'abbreviation', 'flight', 'flight', 'ground_service', 'flight', 'flight', 'flight', 'airfare', 'flight', 'flight', 'flight', 'flight', 'flight_time', 'ground_service', 'flight', 'flight', 'flight', 'flight', 'flight', 'airfare', 'flight', 'flight', 'flight', 'flight', 'flight', 'ground_service', 'ground_service', 'flight', 'ground_service', 'flight', 'flight', 'flight', 'flight', 'airfare', 'flight', 'flight', 'flight', 'quantity', 'flight', 'flight', 'flight', 'flight', 'flight', 'airline', 'flight', 'flight', 'ground_service', 'flight', 'flight+airfare', 'flight', 'abbreviation', 'flight', 'flight', 'flight', 'flight', 'capacity', 'airfare', 'flight', 'airfare', 'airline+flight_no', 'airport', 'airline', 'airfare', 'airfare', 'flight', 'airline', 'flight', 'ground_service', 'flight', 'flight', 'flight', 'flight', 'flight', 'flight', 'flight', 'ground_service', 'aircraft', 'flight', 'flight', 'quantity', 'flight', 'flight', 'flight', 'flight', 'flight', 'flight', 'flight', 'ground_fare', 'flight', 'flight', 'flight', 'flight', 'flight', 'flight', 'flight', 'abbreviation', 'flight', 'flight', 'flight', 'flight', 'flight', 'flight', 'flight', 'abbreviation', 'flight', 'flight', 'airline', 'flight', 'flight', 'flight', 'flight', 'flight', 'flight', 'flight', 'flight', 'flight', 'flight', 'aircraft', 'flight', 'flight', 'city', 'flight', 'flight', 'flight', 'flight', 'flight', 'flight', 'airfare', 'flight', 'flight', 'flight', 'flight', 'flight', 'flight', 'flight', 'flight', 'flight', 'flight', 'flight', 'flight', 'flight', 'quantity', 'airfare', 'flight', 'flight', 'airline', 'flight', 'flight', 'flight', 'flight', 'flight', 'abbreviation', 'abbreviation', 'aircraft', 'flight', 'flight', 'flight', 'flight', 'airport', 'aircraft', 'flight', 'flight', 'airfare', 'flight', 'flight', 'ground_fare', 'flight', 'flight', 'flight', 'flight', 'flight', 'flight', 'flight', 'flight', 'flight', 'flight', 'airline', 'flight', 'flight', 'flight', 'flight', 'flight', 'flight', 'flight', 'flight', 'flight', 'flight', 'flight', 'airfare', 'flight', 'flight_time', 'abbreviation', 'flight', 'flight', 'flight', 'flight', 'flight', 'flight', 'flight', 'flight', 'flight', 'flight', 'flight', 'flight', 'flight', 'capacity', 'flight', 'flight', 'airfare', 'flight', 'flight', 'flight', 'flight', 'flight', 'flight', 'flight', 'flight', 'flight', 'quantity', 'flight', 'flight', 'flight', 'flight', 'aircraft', 'flight', 'flight', 'flight', 'flight', 'airline', 'flight', 'flight', 'flight', 'airfare', 'flight', 'airfare', 'flight_time', 'flight', 'flight_time', 'flight', 'flight', 'flight', 'airfare', 'flight', 'flight', 'airfare', 'flight', 'flight', 'flight', 'flight', 'flight', 'flight', 'flight', 'flight', 'ground_service', 'flight', 'flight', 'flight', 'ground_service', 'flight', 'airline', 'flight', 'flight', 'flight', 'flight', 'aircraft', 'ground_service', 'airline', 'flight', 'flight', 'airfare', 'flight', 'flight', 'flight', 'flight', 'flight', 'flight', 'flight', 'ground_service', 'flight', 'flight', 'flight', 'aircraft', 'flight', 'flight', 'flight', 'flight', 'flight', 'flight', 'flight', 'flight', 'ground_service', 'flight', 'quantity', 'flight', 'flight', 'flight', 'flight', 'flight', 'flight', 'airfare', 'flight', 'distance', 'flight', 'flight', 'ground_service', 'flight', 'flight', 'flight', 'ground_service', 'flight', 'flight', 'flight', 'flight', 'flight', 'flight', 'flight', 'flight', 'flight', 'airfare', 'flight', 'flight', 'flight', 'flight', 'ground_service', 'flight', 'airfare', 'airline', 'flight', 'flight', 'flight', 'airline', 'flight', 'flight', 'flight', 'flight', 'flight', 'flight', 'flight', 'flight', 'flight', 'flight', 'flight', 'flight', 'flight', 'flight', 'flight', 'flight', 'flight', 'flight', 'flight', 'flight', 'flight', 'flight', 'flight', 'airfare', 'flight', 'flight', 'flight', 'flight', 'flight', 'flight', 'flight', 'flight', 'airfare', 'flight', 'airfare', 'airfare', 'flight_time', 'ground_service', 'flight', 'ground_service', 'flight+airfare', 'flight', 'capacity', 'flight', 'abbreviation', 'flight', 'distance', 'flight', 'flight', 'airfare', 'flight', 'flight', 'flight', 'flight', 'airfare', 'flight', 'airfare', 'flight', 'flight', 'flight', 'airline', 'flight', 'flight', 'ground_service', 'flight', 'flight', 'flight', 'ground_fare', 'flight', 'airline', 'flight', 'flight', 'flight', 'flight', 'flight', 'flight', 'abbreviation', 'ground_service', 'flight', 'flight', 'flight', 'flight', 'flight', 'airfare', 'flight', 'flight', 'flight', 'ground_service', 'flight', 'flight', 'flight', 'abbreviation', 'aircraft', 'flight', 'flight', 'flight', 'flight', 'airfare', 'flight', 'ground_service', 'flight', 'flight', 'flight', 'flight', 'flight', 'ground_service', 'flight', 'flight', 'flight', 'flight', 'airport', 'airfare', 'flight', 'flight', 'flight', 'flight', 'airfare', 'flight', 'ground_service', 'flight', 'flight', 'airfare', 'flight', 'airfare', 'flight', 'flight', 'flight', 'airline', 'flight', 'ground_service', 'flight', 'ground_service', 'flight', 'flight', 'flight', 'airline', 'capacity', 'flight', 'flight', 'flight', 'flight', 'flight', 'airline', 'flight', 'flight', 'airfare', 'airfare', 'flight', 'airfare', 'flight', 'airline', 'flight', 'flight', 'abbreviation', 'flight', 'flight', 'flight', 'flight', 'flight', 'flight', 'flight', 'ground_service', 'abbreviation', 'flight', 'aircraft', 'flight', 'airline', 'ground_service', 'flight', 'flight', 'flight', 'airfare', 'flight', 'flight', 'ground_service', 'flight', 'flight', 'flight', 'flight', 'flight', 'flight', 'quantity', 'flight', 'ground_service', 'flight', 'ground_service', 'flight', 'flight', 'flight', 'flight', 'flight', 'flight', 'airfare', 'flight', 'airline', 'flight', 'airfare', 'flight', 'flight', 'flight', 'flight', 'flight', 'flight', 'flight', 'flight', 'aircraft', 'flight', 'airfare', 'flight', 'flight', 'flight', 'flight', 'airfare', 'flight', 'flight', 'flight', 'flight', 'flight', 'flight', 'flight', 'flight', 'flight', 'flight', 'meal', 'flight', 'flight', 'flight', 'flight', 'flight', 'flight', 'flight', 'flight', 'flight', 'flight', 'flight', 'flight', 'flight', 'ground_service', 'flight', 'airline', 'flight', 'flight', 'flight', 'flight', 'flight', 'aircraft', 'abbreviation', 'ground_service', 'flight', 'airfare', 'abbreviation', 'flight', 'ground_service', 'flight', 'flight', 'abbreviation', 'flight', 'flight', 'flight', 'flight', 'abbreviation', 'flight', 'flight', 'ground_service', 'aircraft', 'flight', 'flight', 'flight', 'airport', 'flight', 'flight', 'flight', 'airfare', 'flight', 'flight', 'flight', 'flight', 'flight', 'flight', 'flight', 'flight', 'flight', 'flight', 'flight', 'flight', 'flight', 'flight', 'ground_service', 'airfare', 'flight', 'flight', 'flight', 'airfare', 'flight', 'airfare', 'flight', 'flight', 'flight', 'flight', 'flight', 'flight', 'ground_service', 'flight', 'city', 'flight', 'flight', 'flight', 'abbreviation', 'flight', 'ground_service', 'flight', 'flight', 'airline', 'flight', 'ground_service', 'aircraft', 'airfare', 'flight', 'flight', 'flight', 'flight', 'airfare', 'flight', 'quantity', 'abbreviation', 'flight', 'flight', 'flight', 'flight', 'flight', 'flight', 'flight', 'flight', 'flight', 'airline', 'airfare', 'flight', 'ground_service', 'flight', 'airfare', 'flight', 'flight', 'flight', 'flight', 'flight', 'flight', 'abbreviation', 'flight', 'flight', 'flight', 'flight', 'airfare', 'flight', 'flight', 'flight', 'flight', 'airfare', 'ground_service', 'flight', 'flight_no', 'flight', 'ground_service', 'flight', 'airline', 'flight', 'airline', 'flight', 'flight', 'quantity', 'flight', 'flight', 'flight', 'flight', 'flight', 'flight', 'flight', 'flight', 'flight', 'flight', 'flight', 'aircraft', 'flight', 'flight', 'flight', 'flight', 'flight', 'distance', 'flight', 'flight', 'flight', 'flight', 'ground_service+ground_fare', 'flight', 'flight', 'abbreviation', 'flight', 'flight', 'flight', 'flight', 'flight', 'flight', 'flight', 'flight', 'flight', 'flight', 'flight', 'flight', 'airfare', 'airline', 'airfare', 'flight', 'flight', 'flight', 'airfare', 'flight', 'ground_fare', 'flight', 'abbreviation', 'capacity', 'aircraft', 'airfare', 'abbreviation', 'flight', 'flight', 'flight', 'flight', 'flight', 'flight', 'flight', 'flight', 'flight', 'flight', 'flight', 'flight', 'flight', 'ground_service', 'flight', 'flight', 'ground_service', 'flight', 'flight', 'flight', 'airline', 'flight', 'flight', 'ground_service', 'flight', 'flight', 'abbreviation', 'flight', 'ground_service', 'flight', 'flight', 'flight', 'flight', 'flight', 'ground_service', 'flight', 'flight', 'flight', 'distance', 'flight', 'flight', 'flight', 'flight', 'flight', 'flight', 'abbreviation', 'flight', 'flight', 'flight', 'airline', 'flight', 'flight', 'flight', 'flight', 'flight', 'flight', 'flight', 'flight', 'flight', 'flight', 'flight', 'airfare', 'ground_service', 'airfare', 'flight', 'flight', 'flight', 'flight', 'flight_time', 'flight', 'flight', 'flight', 'flight', 'flight', 'flight', 'flight', 'flight', 'airline', 'flight', 'flight', 'flight', 'flight', 'flight', 'flight', 'flight', 'flight', 'flight', 'airfare+flight_time', 'flight', 'abbreviation', 'flight', 'flight', 'flight', 'flight', 'flight', 'flight', 'flight', 'airline', 'flight', 'flight', 'flight', 'flight', 'airline', 'flight', 'flight', 'flight_time', 'ground_service', 'flight', 'flight', 'flight', 'aircraft', 'airline', 'flight', 'flight', 'flight', 'flight', 'flight', 'flight', 'flight', 'flight', 'flight', 'flight', 'flight', 'flight', 'flight', 'flight', 'airfare', 'flight', 'flight', 'flight', 'flight', 'airfare', 'ground_service', 'ground_service', 'flight', 'flight', 'flight', 'flight', 'flight', 'flight', 'flight', 'flight', 'ground_service', 'flight', 'flight', 'abbreviation', 'abbreviation', 'abbreviation', 'quantity', 'flight', 'flight+airfare', 'aircraft', 'flight', 'flight', 'ground_service', 'ground_service', 'flight', 'flight', 'flight', 'flight', 'flight', 'flight', 'flight', 'flight', 'flight', 'flight', 'flight', 'abbreviation', 'ground_service', 'flight', 'flight', 'flight', 'flight', 'flight', 'flight', 'abbreviation', 'flight', 'flight', 'flight', 'flight', 'flight', 'ground_service', 'flight', 'flight', 'flight', 'airfare', 'flight', 'flight', 'airline', 'airline', 'flight', 'airline', 'ground_service', 'flight', 'flight', 'ground_service', 'flight', 'flight', 'airfare', 'flight', 'flight', 'flight', 'flight', 'flight', 'airline', 'flight_no', 'flight', 'city', 'flight', 'flight', 'quantity', 'flight', 'flight', 'abbreviation', 'flight', 'quantity', 'flight', 'quantity', 'flight', 'quantity', 'ground_fare', 'airfare', 'ground_service', 'flight', 'abbreviation', 'flight', 'ground_service', 'flight', 'flight', 'flight', 'flight+airfare', 'airfare', 'flight', 'flight', 'abbreviation', 'flight', 'flight', 'airline', 'flight', 'flight', 'flight', 'flight', 'flight', 'flight', 'airfare', 'flight', 'airfare', 'flight', 'flight', 'aircraft', 'flight', 'ground_service', 'flight', 'flight', 'flight', 'flight', 'flight', 'flight', 'airfare', 'flight', 'flight_time', 'flight', 'abbreviation', 'flight_time', 'flight', 'abbreviation', 'flight', 'flight', 'flight', 'flight', 'flight', 'flight', 'ground_service', 'flight', 'flight', 'flight', 'flight', 'flight', 'aircraft', 'flight', 'flight', 'ground_service', 'flight', 'ground_fare', 'flight', 'flight', 'capacity', 'airfare', 'airline', 'flight', 'airfare', 'flight', 'airfare', 'flight', 'flight', 'flight', 'flight', 'airfare', 'flight_time', 'flight', 'flight', 'flight', 'flight', 'flight', 'flight', 'flight', 'flight', 'flight', 'aircraft', 'aircraft', 'flight', 'flight', 'flight', 'flight', 'aircraft', 'flight', 'flight', 'flight_time', 'flight', 'flight', 'airfare', 'flight', 'flight', 'airfare', 'airline', 'flight', 'flight', 'flight', 'flight', 'flight', 'flight', 'flight', 'flight', 'flight', 'flight', 'flight', 'flight', 'flight', 'flight', 'flight', 'flight', 'flight', 'flight', 'flight', 'flight', 'flight_time', 'flight', 'flight', 'flight', 'flight', 'flight', 'airfare', 'airport', 'flight', 'flight', 'flight', 'ground_fare', 'flight', 'airfare', 'flight', 'flight', 'airfare', 'airfare', 'flight', 'abbreviation', 'flight', 'flight', 'ground_service', 'flight', 'flight', 'flight', 'flight', 'flight', 'abbreviation', 'flight', 'flight', 'flight', 'flight', 'flight', 'flight', 'flight', 'flight', 'ground_service', 'flight', 'flight', 'flight_time', 'flight', 'flight', 'flight', 'flight', 'abbreviation', 'flight', 'flight', 'ground_fare', 'flight', 'flight', 'flight', 'flight', 'distance', 'airline', 'abbreviation', 'flight', 'airfare', 'flight', 'flight', 'airfare', 'flight', 'flight', 'flight', 'flight', 'flight', 'distance', 'airfare', 'flight', 'flight', 'flight', 'aircraft', 'airline', 'flight', 'flight', 'abbreviation', 'flight', 'flight', 'flight', 'distance', 'flight', 'flight', 'flight', 'flight', 'flight', 'flight', 'flight+airfare', 'flight', 'flight', 'flight', 'ground_service', 'flight', 'flight', 'flight', 'airline', 'flight', 'flight', 'flight', 'flight', 'flight', 'flight', 'flight', 'flight', 'flight', 'airfare', 'flight', 'airline', 'flight', 'flight', 'flight', 'flight', 'flight', 'abbreviation', 'flight', 'flight', 'flight', 'flight', 'flight', 'flight', 'flight_time', 'flight', 'meal', 'flight', 'flight', 'flight', 'airfare', 'flight', 'flight', 'flight', 'flight', 'ground_service', 'flight', 'flight', 'flight', 'flight', 'flight', 'ground_service', 'flight', 'flight', 'flight', 'flight', 'city', 'flight', 'flight', 'flight', 'airline', 'flight', 'flight', 'flight', 'flight', 'airfare', 'abbreviation', 'flight', 'flight', 'flight', 'abbreviation', 'airfare', 'airfare', 'flight', 'flight', 'flight', 'flight', 'flight', 'flight', 'ground_service', 'flight', 'flight', 'flight', 'flight', 'flight', 'flight_time', 'flight', 'flight', 'flight', 'flight', 'flight_time', 'flight', 'flight', 'flight', 'flight', 'flight', 'flight', 'flight', 'flight', 'flight', 'flight', 'flight', 'airfare', 'flight', 'flight', 'flight', 'flight', 'flight', 'flight', 'flight', 'flight', 'flight', 'airline+flight_no', 'flight', 'flight', 'ground_service', 'flight', 'flight', 'flight', 'flight', 'flight', 'flight', 'flight', 'flight', 'flight', 'airfare', 'flight', 'flight', 'flight', 'flight', 'flight', 'airfare', 'flight', 'flight', 'quantity', 'flight', 'flight', 'flight', 'flight', 'flight', 'flight', 'flight', 'airfare', 'airfare', 'flight', 'airfare', 'airfare', 'flight', 'flight', 'quantity', 'flight', 'airfare', 'ground_service', 'flight', 'flight', 'flight', 'flight', 'flight', 'airline', 'airfare', 'flight', 'flight', 'flight', 'flight', 'flight', 'airfare', 'flight', 'flight', 'flight', 'airfare', 'flight', 'flight', 'flight', 'flight', 'flight', 'flight', 'flight', 'flight', 'ground_service', 'flight', 'flight', 'flight', 'flight+airfare', 'abbreviation', 'flight', 'flight', 'flight', 'abbreviation', 'flight', 'flight', 'flight', 'flight', 'airfare', 'flight', 'flight', 'flight', 'flight', 'flight', 'flight', 'flight', 'flight', 'flight', 'flight', 'flight', 'flight', 'flight', 'flight', 'flight', 'flight', 'flight', 'flight', 'flight', 'flight', 'flight', 'flight', 'ground_service', 'flight', 'flight', 'flight', 'flight', 'flight', 'airfare', 'flight', 'airfare', 'flight', 'abbreviation', 'flight', 'flight', 'aircraft', 'flight', 'flight', 'flight', 'airfare', 'flight', 'flight', 'airfare', 'flight', 'flight', 'flight', 'flight', 'airline', 'flight', 'flight', 'flight', 'flight', 'flight', 'ground_service', 'flight', 'flight', 'flight', 'airline', 'flight', 'flight', 'flight', 'flight', 'airfare', 'flight', 'abbreviation', 'flight', 'flight', 'flight', 'flight', 'flight', 'flight', 'flight', 'flight', 'flight', 'abbreviation', 'ground_service', 'flight', 'flight', 'airfare', 'airline', 'flight', 'flight', 'flight', 'abbreviation', 'flight', 'quantity', 'flight', 'flight', 'flight', 'ground_service', 'flight', 'flight', 'ground_service', 'flight', 'cheapest', 'flight', 'flight', 'flight', 'airfare', 'quantity', 'airfare', 'flight', 'flight', 'flight', 'flight', 'ground_service', 'flight', 'flight', 'ground_service', 'flight_time', 'airfare', 'flight', 'flight', 'flight', 'flight', 'flight', 'flight', 'airline', 'flight', 'airline', 'flight', 'flight', 'flight', 'flight', 'flight', 'flight', 'flight', 'flight', 'flight', 'flight', 'flight', 'flight', 'ground_service', 'flight', 'flight', 'flight', 'city', 'abbreviation', 'flight', 'flight', 'flight', 'flight', 'flight', 'flight', 'flight', 'flight', 'flight_time', 'abbreviation', 'flight', 'flight', 'airfare', 'flight', 'flight', 'airline', 'airfare', 'flight', 'flight', 'airline', 'aircraft', 'flight', 'quantity', 'flight', 'flight', 'aircraft', 'flight', 'flight', 'flight', 'ground_service', 'flight', 'airfare', 'flight', 'airfare', 'flight', 'flight', 'flight', 'flight', 'flight', 'ground_service', 'flight', 'airline', 'flight', 'flight', 'ground_service', 'airfare', 'airfare', 'flight', 'flight', 'flight', 'abbreviation', 'flight', 'flight', 'flight', 'flight', 'flight', 'flight', 'flight', 'flight', 'airfare', 'flight', 'flight', 'flight', 'flight', 'flight', 'flight', 'flight', 'flight', 'flight', 'flight', 'airfare', 'flight', 'flight', 'flight', 'flight', 'flight', 'flight', 'flight', 'flight', 'flight', 'flight', 'flight', 'flight', 'flight', 'flight', 'flight', 'flight', 'airfare', 'flight', 'flight', 'flight', 'flight', 'airfare', 'flight', 'flight', 'flight', 'flight', 'airline', 'flight', 'flight', 'flight', 'flight', 'flight', 'ground_service', 'flight', 'flight', 'flight', 'flight', 'flight', 'flight', 'airfare', 'flight_time', 'flight', 'flight', 'flight', 'flight', 'airfare', 'flight', 'flight', 'abbreviation', 'flight', 'flight', 'ground_service', 'abbreviation', 'flight_no', 'flight', 'airfare', 'flight', 'flight', 'flight', 'airfare', 'flight', 'ground_service', 'flight', 'city', 'quantity', 'airport', 'airfare', 'flight', 'flight', 'flight', 'flight', 'airfare', 'flight', 'flight', 'flight', 'flight', 'flight', 'flight', 'flight', 'flight', 'flight', 'flight', 'flight', 'flight', 'flight', 'ground_service', 'flight', 'airfare', 'flight', 'flight', 'ground_service', 'quantity', 'flight', 'flight', 'flight', 'airline', 'abbreviation', 'flight', 'flight+airfare', 'airline', 'flight', 'flight', 'flight', 'flight', 'flight', 'flight', 'ground_service', 'city', 'flight', 'flight', 'flight', 'flight', 'airfare', 'flight_no', 'airfare', 'flight', 'ground_service', 'flight', 'flight', 'ground_service', 'flight', 'flight', 'flight', 'flight', 'abbreviation', 'flight', 'flight', 'flight', 'flight', 'flight', 'flight', 'abbreviation', 'airfare', 'flight', 'flight', 'flight_time', 'flight', 'abbreviation', 'flight', 'flight', 'flight', 'flight_time', 'aircraft', 'flight', 'airfare', 'flight', 'ground_service', 'flight', 'flight', 'abbreviation', 'flight', 'airline', 'airfare', 'flight', 'flight', 'flight', 'flight', 'aircraft', 'flight', 'airfare', 'flight', 'flight', 'airfare', 'flight', 'ground_service', 'flight', 'flight', 'flight', 'flight', 'flight', 'flight', 'flight', 'flight', 'flight', 'flight', 'ground_service', 'flight', 'airfare', 'flight', 'flight', 'flight', 'flight', 'flight', 'flight', 'flight', 'flight', 'flight', 'ground_service', 'flight', 'airfare', 'flight+airfare', 'flight', 'flight', 'aircraft', 'ground_service', 'flight', 'flight', 'flight', 'flight', 'flight', 'flight', 'airfare', 'flight', 'airport', 'flight', 'flight', 'flight', 'flight_time', 'airfare', 'ground_service', 'flight', 'flight', 'flight', 'flight', 'flight', 'flight', 'flight', 'flight', 'flight', 'capacity', 'flight', 'flight', 'flight', 'flight', 'airfare', 'flight', 'flight', 'flight', 'ground_service', 'flight', 'flight', 'flight', 'flight', 'flight', 'airline', 'airfare', 'flight', 'flight', 'flight', 'airport', 'flight', 'airline', 'flight', 'flight', 'flight', 'flight', 'airfare', 'flight', 'airfare', 'airfare', 'airfare', 'flight', 'flight', 'flight', 'flight', 'flight', 'flight', 'airfare', 'ground_service', 'flight', 'quantity', 'flight', 'flight', 'ground_service', 'flight', 'flight', 'abbreviation', 'flight', 'flight', 'ground_service', 'flight', 'flight', 'flight', 'flight', 'flight', 'flight', 'flight', 'airfare', 'flight', 'flight', 'airfare', 'flight', 'flight', 'flight', 'abbreviation', 'flight', 'flight', 'flight', 'flight', 'flight', 'ground_service', 'airfare', 'airfare', 'flight', 'flight', 'flight', 'flight', 'flight', 'flight', 'flight', 'aircraft', 'flight', 'flight', 'ground_service', 'flight', 'flight', 'flight', 'flight', 'airfare', 'flight', 'aircraft', 'flight', 'airfare', 'flight', 'flight', 'flight', 'flight_time', 'flight', 'flight', 'airfare', 'flight', 'flight', 'aircraft+flight+flight_no', 'city', 'flight', 'flight', 'abbreviation', 'flight', 'flight', 'flight', 'flight', 'flight', 'flight', 'flight', 'city', 'flight', 'ground_service', 'flight', 'flight', 'flight', 'flight', 'flight', 'flight', 'ground_service', 'flight', 'flight', 'flight', 'flight', 'flight', 'airline', 'flight', 'flight', 'flight', 'flight', 'flight', 'flight', 'ground_service', 'flight', 'flight', 'flight', 'airline', 'flight', 'airfare', 'flight', 'flight', 'airline', 'airfare', 'flight', 'flight', 'flight', 'flight', 'flight', 'city', 'flight', 'airfare', 'flight', 'flight', 'flight', 'flight', 'airfare', 'flight', 'flight', 'aircraft', 'flight', 'flight', 'flight', 'flight', 'flight_no', 'flight', 'ground_service', 'flight', 'flight', 'flight', 'flight', 'airfare', 'airfare', 'flight', 'ground_service', 'flight', 'flight', 'flight', 'flight', 'airfare', 'flight', 'flight', 'flight', 'flight', 'flight', 'flight', 'flight', 'airfare', 'flight', 'airfare', 'flight', 'flight', 'flight+airfare', 'flight', 'abbreviation', 'flight', 'flight', 'flight', 'flight', 'flight', 'ground_service', 'flight', 'flight', 'airfare', 'airfare', 'flight', 'flight', 'flight', 'flight', 'airfare', 'flight', 'flight', 'flight', 'flight', 'flight', 'airfare', 'flight', 'flight', 'abbreviation', 'flight', 'flight', 'flight', 'flight', 'flight', 'flight', 'flight', 'flight', 'flight', 'flight', 'flight', 'flight', 'airline', 'flight', 'abbreviation', 'flight', 'flight', 'flight', 'flight', 'flight', 'flight', 'flight', 'flight', 'flight', 'flight', 'flight', 'flight', 'flight', 'flight', 'flight', 'flight', 'flight', 'flight', 'flight', 'ground_service', 'airfare', 'flight', 'flight', 'flight', 'flight', 'flight', 'flight', 'city', 'flight', 'flight', 'flight', 'flight', 'flight', 'aircraft', 'flight', 'flight', 'flight', 'flight', 'airline', 'airfare', 'flight', 'flight', 'airfare', 'flight_time', 'abbreviation', 'flight', 'flight', 'flight', 'flight', 'flight', 'flight', 'flight', 'flight', 'flight', 'flight', 'flight', 'ground_service', 'flight', 'airline', 'flight', 'flight', 'flight', 'flight', 'abbreviation', 'flight']\n",
      "\n",
      "Encoded labels: [12 12 15 ... 12  0 12] \n",
      "\n"
     ]
    }
   ],
   "source": [
    "label_encoder = LabelEncoder()\n",
    "train_numerical_labels = label_encoder.fit_transform(train_labels)\n",
    "\n",
    "print(f'Original labels: {train_labels}\\n')\n",
    "print(f'Encoded labels: {train_numerical_labels} \\n')"
   ]
  },
  {
   "cell_type": "markdown",
   "metadata": {
    "id": "7Ni3g_AsfSB6"
   },
   "source": [
    "I a continuació convertim les etiquetes a vectors one-hot."
   ]
  },
  {
   "cell_type": "code",
   "execution_count": 14,
   "metadata": {
    "id": "Bu_KEG7hgFKO"
   },
   "outputs": [
    {
     "name": "stdout",
     "output_type": "stream",
     "text": [
      "Example: \n",
      "\n",
      "Original label: flight\n",
      "\n",
      "Numerical label: 12\n",
      "\n",
      "One-hot: [0. 0. 0. 0. 0. 0. 0. 0. 0. 0. 0. 0. 1. 0. 0. 0. 0. 0. 0. 0. 0. 0.]\n",
      "\n"
     ]
    }
   ],
   "source": [
    "num_classes = len(np.unique(train_numerical_labels))\n",
    "train_encoded_labels = to_categorical(train_numerical_labels, num_classes)\n",
    "\n",
    "print('Example: \\n')\n",
    "print(f'Original label: {train_labels[0]}\\n')\n",
    "print(f'Numerical label: {train_numerical_labels[0]}\\n')\n",
    "print(f'One-hot: {train_encoded_labels[0]}\\n')\n"
   ]
  },
  {
   "cell_type": "markdown",
   "metadata": {
    "id": "Sup3vzTkNg0q"
   },
   "source": [
    "---\n",
    "\n",
    " <h1><a name=\"ex-three\"><center> ✏ Exercici 3 ✏</a></h1>"
   ]
  },
  {
   "cell_type": "markdown",
   "metadata": {
    "id": "n3Rpxi7PNjB3"
   },
   "source": [
    "Amb la partició de validació i test haurem de realitzar els mateixos passos. Per tant, en aquest exercici us demanem que obtingueu `val_pad_sequences`, `val_encoded_labels`, `test_pad_sequences` i `test_encoded_labels`."
   ]
  },
  {
   "cell_type": "code",
   "execution_count": 15,
   "metadata": {
    "id": "8YFVmi4SOPv2"
   },
   "outputs": [
    {
     "name": "stdout",
     "output_type": "stream",
     "text": [
      "900 900\n",
      "893 893\n"
     ]
    }
   ],
   "source": [
    "#TODO\n",
    "val_sentences = list(val_data[0])\n",
    "val_sequences = tokenizer.texts_to_sequences(val_sentences)\n",
    "val_pad_sequences = pad_sequences(val_sequences, padding='post', maxlen=100)\n",
    "print(len(val_pad_sequences), len(val_sequences))\n",
    "\n",
    "test_sentences = list(test_data[0])\n",
    "test_sequences = tokenizer.texts_to_sequences(test_sentences)\n",
    "test_pad_sequences = pad_sequences(test_sequences, padding='post', maxlen=100)\n",
    "print(len(test_pad_sequences), len(test_sequences))\n"
   ]
  },
  {
   "cell_type": "code",
   "execution_count": 16,
   "metadata": {
    "id": "Z0MIvWt6nre2"
   },
   "outputs": [],
   "source": [
    "val_labels = list(val_data[2])\n",
    "val_labels = list(s.replace('\"', '') for s in val_labels)\n",
    "val_labels = list(s.replace(' ', '') for s in val_labels)\n",
    "\n",
    "test_labels = list(test_data[2])\n",
    "test_labels = list(s.replace('\"', '') for s in test_labels)\n",
    "test_labels = list(s.replace(' ', '') for s in test_labels)\n",
    "\n",
    "def remove_values_and_indices(input_list, values_to_remove, other_list):\n",
    "    #print(f'Initial {len(input_list)} samples')\n",
    "    #print(f'Initial {len(other_list)} samples')\n",
    "    indices_to_remove = [idx for idx, item in enumerate(input_list) if item in values_to_remove]\n",
    "    #print(f'Removing {len(indices_to_remove)} samples')\n",
    "    cleaned_list = [item for item in input_list if item not in values_to_remove]\n",
    "    #print(f'Remaining {len(cleaned_list)} samples')\n",
    "    cleaned_other_list = [item for idx, item in enumerate(other_list) if idx not in indices_to_remove]\n",
    "    #print(f'Remaining {len(cleaned_other_list)} samples')\n",
    "    return cleaned_list, np.array(cleaned_other_list)\n",
    "\n",
    "values_to_remove = ['day_name','airfare+flight','flight+airline','flight_no+airline', 'flight']\n",
    "val_labels, val_pad_sequences = remove_values_and_indices(val_labels, values_to_remove, val_pad_sequences)\n",
    "test_labels, test_pad_sequences = remove_values_and_indices(test_labels, values_to_remove, test_pad_sequences)"
   ]
  },
  {
   "cell_type": "code",
   "execution_count": 17,
   "metadata": {
    "id": "eDOehXO--rn7"
   },
   "outputs": [
    {
     "name": "stdout",
     "output_type": "stream",
     "text": [
      "Validation labels shape: (257, 22)\n",
      "Test labels shape: (256, 22)\n"
     ]
    }
   ],
   "source": [
    "val_encoded_labels = to_categorical(label_encoder.transform(val_labels), num_classes)\n",
    "test_encoded_labels = to_categorical(label_encoder.transform(test_labels), num_classes)\n",
    "print('Validation labels shape:', val_encoded_labels.shape)\n",
    "print('Test labels shape:', test_encoded_labels.shape)\n"
   ]
  },
  {
   "cell_type": "code",
   "execution_count": 18,
   "metadata": {},
   "outputs": [
    {
     "name": "stdout",
     "output_type": "stream",
     "text": [
      "aircraft [  6 212  29 287  20 205   5   4  76   8   2   9   1  11  15  67   0   0\n",
      "   0   0   0   0   0   0   0   0   0   0   0   0   0   0   0   0   0   0\n",
      "   0   0   0   0   0   0   0   0   0   0   0   0   0   0   0   0   0   0\n",
      "   0   0   0   0   0   0   0   0   0   0   0   0   0   0   0   0   0   0\n",
      "   0   0   0   0   0   0   0   0   0   0   0   0   0   0   0   0   0   0\n",
      "   0   0   0   0   0   0   0   0   0   0] [0. 1. 0. 0. 0. 0. 0. 0. 0. 0. 0. 0. 0. 0. 0. 0. 0. 0. 0. 0. 0. 0.]\n",
      "airfare [  5 266  41  12  55  14 171   2 172   1  11 165 177  59 163  84   0   0\n",
      "   0   0   0   0   0   0   0   0   0   0   0   0   0   0   0   0   0   0\n",
      "   0   0   0   0   0   0   0   0   0   0   0   0   0   0   0   0   0   0\n",
      "   0   0   0   0   0   0   0   0   0   0   0   0   0   0   0   0   0   0\n",
      "   0   0   0   0   0   0   0   0   0   0   0   0   0   0   0   0   0   0\n",
      "   0   0   0   0   0   0   0   0   0   0] [0. 0. 0. 1. 0. 0. 0. 0. 0. 0. 0. 0. 0. 0. 0. 0. 0. 0. 0. 0. 0. 0.]\n"
     ]
    }
   ],
   "source": [
    "print(val_labels[0], val_pad_sequences[0], val_encoded_labels[0])\n",
    "print(test_labels[0], test_pad_sequences[0], test_encoded_labels[0])"
   ]
  },
  {
   "cell_type": "markdown",
   "metadata": {
    "id": "5iS0Z1mbOZcM"
   },
   "source": [
    "---"
   ]
  },
  {
   "cell_type": "markdown",
   "metadata": {
    "id": "8Rddmu0bM0PI"
   },
   "source": [
    "<h1><a name=\"section-three\"> 3. Disseny del model i entrenament </a></h1>"
   ]
  },
  {
   "cell_type": "markdown",
   "metadata": {
    "id": "o3mi1pL38yU4"
   },
   "source": [
    "En primer lloc, anem a comprovar si hi ha GPUs disponibles. A continuació si hi ha GPUs disponibles el codi assegurarà que *TensorFlow* només assigne memòria GPU quan siga necessari."
   ]
  },
  {
   "cell_type": "code",
   "execution_count": 19,
   "metadata": {
    "id": "4Dx4NjOc6PYx",
    "outputId": "7244a3ac-3428-43c8-9ef7-771f53462ccd"
   },
   "outputs": [
    {
     "name": "stdout",
     "output_type": "stream",
     "text": [
      "GPU is not available. The model will be trained on CPU.\n"
     ]
    }
   ],
   "source": [
    "if tf.config.list_physical_devices('GPU'):\n",
    "    print(\"GPU is available!\")\n",
    "else:\n",
    "    print(\"GPU is not available. The model will be trained on CPU.\")\n",
    "\n",
    "gpus = tf.config.experimental.list_physical_devices('GPU')\n",
    "if gpus:\n",
    "    try:\n",
    "        for gpu in gpus:\n",
    "            tf.config.experimental.set_memory_growth(gpu, True)\n",
    "    except RuntimeError as e:\n",
    "        print(e)"
   ]
  },
  {
   "cell_type": "markdown",
   "metadata": {
    "id": "0CPFNkeCKSVl"
   },
   "source": [
    "---\n",
    "\n",
    " <h1><a name=\"ex-four\"><center> ✏ Exercici 4 ✏</a></h1>"
   ]
  },
  {
   "cell_type": "markdown",
   "metadata": {
    "id": "woZEkupw0LAB"
   },
   "source": [
    "En aquest exercici haureu de dissenyar l'arquitectura del model. El nostre model tindrà quatre capes:\n",
    "\n",
    "1. La primera capa serà un **embedding**. Aquesta capa permetrà convertir les dades de text d'entrada, en vectors densos amb una mida fixa (*embedding_dim*). Aquesta representació més compacta permetrà per una part capturar la informació semàntica del text d'entrada, permetent així generalitzar millor i comprendre les relacions entre les paraules. I, per una altra banda, reduir la complexitat computacional, accelerant així el temps d'entrenament i inferència. En resum, aquesta capa assignarà a cada índex de cada paraula un vector dens de mida *embedding_dim*.\n",
    "\n",
    "2. La segona capa serà un **pooling** layer. L'entrada d'aquesta capa serà un tensor 3D (*batch_size*, *sequence_length*, *embedding_dim*). Aquesta capa es centrarà a capturar la informació més important de la seqüència d'entrada, és a dir, prendrà el valor màxim de la seqüència, donant lloc a un tensor 2D (batch_size, embedding_dim).\n",
    "\n",
    "3. La tercera capa serà una capa **densa**. És a dir, una capa completament connectada (*fully-connected*): cada neurona d'aquesta capa estarà connectada a totes les neurones de la capa anterior. La funció d'activació que utilitzarem serà una ReLU. Aquesta funció introdueix una no-linealitat al model permetent així aprendre relacions complexes en les dades.\n",
    "\n",
    "4. L'última capa també serà una capa **densa**. En aquest cas la funció d'activació haurà de ser la funció Softmax. Aquesta funció es fa servir per a convertir els valors de la capa anterior (*logits*) en probabilitats normalitzades. El valor de cada element de sortida representarà la probabilitat que l'entrada pertanya a una classe específica.\n",
    "\n",
    "\n",
    "📢  Les capes que haureu de fer servir les podreu trobar [aquí](https://www.tensorflow.org/api_docs/python/tf/keras/layers).\n",
    "\n",
    "\n",
    "\n"
   ]
  },
  {
   "cell_type": "code",
   "execution_count": 51,
   "metadata": {
    "id": "vUv4tsRAJh8o"
   },
   "outputs": [
    {
     "name": "stdout",
     "output_type": "stream",
     "text": [
      "Epoch 1/10\n"
     ]
    },
    {
     "name": "stderr",
     "output_type": "stream",
     "text": [
      "C:\\Users\\jiaha\\AppData\\Local\\Packages\\PythonSoftwareFoundation.Python.3.12_qbz5n2kfra8p0\\LocalCache\\local-packages\\Python312\\site-packages\\keras\\src\\layers\\core\\embedding.py:97: UserWarning: Argument `input_length` is deprecated. Just remove it.\n",
      "  warnings.warn(\n"
     ]
    },
    {
     "name": "stdout",
     "output_type": "stream",
     "text": [
      "\u001b[1m128/128\u001b[0m \u001b[32m━━━━━━━━━━━━━━━━━━━━\u001b[0m\u001b[37m\u001b[0m \u001b[1m2s\u001b[0m 6ms/step - f1_score: 0.0455 - loss: 1.4202 - val_f1_score: 0.1102 - val_loss: 2.0962\n",
      "Epoch 2/10\n",
      "\u001b[1m128/128\u001b[0m \u001b[32m━━━━━━━━━━━━━━━━━━━━\u001b[0m\u001b[37m\u001b[0m \u001b[1m1s\u001b[0m 5ms/step - f1_score: 0.1726 - loss: 0.5939 - val_f1_score: 0.2049 - val_loss: 1.2460\n",
      "Epoch 3/10\n",
      "\u001b[1m128/128\u001b[0m \u001b[32m━━━━━━━━━━━━━━━━━━━━\u001b[0m\u001b[37m\u001b[0m \u001b[1m1s\u001b[0m 6ms/step - f1_score: 0.2673 - loss: 0.3050 - val_f1_score: 0.2318 - val_loss: 0.8898\n",
      "Epoch 4/10\n",
      "\u001b[1m128/128\u001b[0m \u001b[32m━━━━━━━━━━━━━━━━━━━━\u001b[0m\u001b[37m\u001b[0m \u001b[1m1s\u001b[0m 5ms/step - f1_score: 0.3059 - loss: 0.1707 - val_f1_score: 0.2715 - val_loss: 0.7718\n",
      "Epoch 5/10\n",
      "\u001b[1m128/128\u001b[0m \u001b[32m━━━━━━━━━━━━━━━━━━━━\u001b[0m\u001b[37m\u001b[0m \u001b[1m1s\u001b[0m 5ms/step - f1_score: 0.4632 - loss: 0.1316 - val_f1_score: 0.3230 - val_loss: 0.6653\n",
      "Epoch 6/10\n",
      "\u001b[1m128/128\u001b[0m \u001b[32m━━━━━━━━━━━━━━━━━━━━\u001b[0m\u001b[37m\u001b[0m \u001b[1m1s\u001b[0m 5ms/step - f1_score: 0.5706 - loss: 0.0889 - val_f1_score: 0.4024 - val_loss: 0.6391\n",
      "Epoch 7/10\n",
      "\u001b[1m128/128\u001b[0m \u001b[32m━━━━━━━━━━━━━━━━━━━━\u001b[0m\u001b[37m\u001b[0m \u001b[1m1s\u001b[0m 5ms/step - f1_score: 0.5851 - loss: 0.0596 - val_f1_score: 0.4507 - val_loss: 0.5416\n",
      "Epoch 8/10\n",
      "\u001b[1m128/128\u001b[0m \u001b[32m━━━━━━━━━━━━━━━━━━━━\u001b[0m\u001b[37m\u001b[0m \u001b[1m1s\u001b[0m 6ms/step - f1_score: 0.6285 - loss: 0.0399 - val_f1_score: 0.4931 - val_loss: 0.5775\n",
      "Epoch 9/10\n",
      "\u001b[1m128/128\u001b[0m \u001b[32m━━━━━━━━━━━━━━━━━━━━\u001b[0m\u001b[37m\u001b[0m \u001b[1m1s\u001b[0m 5ms/step - f1_score: 0.6381 - loss: 0.0282 - val_f1_score: 0.4786 - val_loss: 0.6016\n",
      "Epoch 10/10\n",
      "\u001b[1m128/128\u001b[0m \u001b[32m━━━━━━━━━━━━━━━━━━━━\u001b[0m\u001b[37m\u001b[0m \u001b[1m1s\u001b[0m 5ms/step - f1_score: 0.6388 - loss: 0.0290 - val_f1_score: 0.4869 - val_loss: 0.5675\n",
      "\u001b[1m8/8\u001b[0m \u001b[32m━━━━━━━━━━━━━━━━━━━━\u001b[0m\u001b[37m\u001b[0m \u001b[1m0s\u001b[0m 3ms/step - f1_score: 0.4374 - loss: 0.9671 \n",
      "Test Loss: 0.7951\n",
      "Test F1 Score: 0.4569\n"
     ]
    }
   ],
   "source": [
    "# Importar métricas\n",
    "from tensorflow.keras.metrics import F1Score\n",
    "\n",
    "# Modelo\n",
    "embedding_dim = 500\n",
    "vocab_size = num_words + 1\n",
    "\n",
    "model = Sequential()\n",
    "model.add(Embedding(input_dim=vocab_size, output_dim=embedding_dim, input_length=max_sequence_length))  # layer 1\n",
    "model.add(GlobalMaxPooling1D(data_format='channels_last'))  # layer 2\n",
    "model.add(Dense(128, activation='relu'))  # layer 3\n",
    "model.add(Dense(num_classes, activation='softmax'))  # layer 4\n",
    "\n",
    "metrics = tf.keras.metrics.F1Score(average='macro')\n",
    "# Compile con métricas básicas\n",
    "model.compile(\n",
    "    optimizer='adam',\n",
    "    loss='categorical_crossentropy',\n",
    "    metrics = [metrics]\n",
    ")\n",
    "\n",
    "# Train\n",
    "batch_size = 32\n",
    "epochs = 10\n",
    "model.fit(\n",
    "    train_pad_sequences,\n",
    "    train_encoded_labels,\n",
    "    batch_size=batch_size,\n",
    "    epochs=epochs,\n",
    "    validation_data=(val_pad_sequences, val_encoded_labels)\n",
    ")\n",
    "\n",
    "# Evaluation (Keras devuelve las métricas indicadas)\n",
    "results = model.evaluate(test_pad_sequences, test_encoded_labels, batch_size=batch_size, return_dict=True)\n",
    "print(f'Test Loss: {results[\"loss\"]:.4f}')\n",
    "print(f'Test F1 Score: {results[\"f1_score\"]:.4f}')"
   ]
  },
  {
   "cell_type": "markdown",
   "metadata": {
    "id": "exbeyhxdVC1M"
   },
   "source": [
    "Podeu veure a continuació les oracions que el model ha classificat incorrectament."
   ]
  },
  {
   "cell_type": "code",
   "execution_count": 42,
   "metadata": {
    "id": "J0JErcq5OK7e"
   },
   "outputs": [
    {
     "name": "stdout",
     "output_type": "stream",
     "text": [
      "\u001b[1m8/8\u001b[0m \u001b[32m━━━━━━━━━━━━━━━━━━━━\u001b[0m\u001b[37m\u001b[0m \u001b[1m0s\u001b[0m 2ms/step \n"
     ]
    }
   ],
   "source": [
    "probs = model.predict(test_pad_sequences)\n",
    "_predicted_labels = np.argmax(probs, axis=1)\n",
    "predicted_labels = label_encoder.inverse_transform(_predicted_labels)\n",
    "\n"
   ]
  },
  {
   "cell_type": "markdown",
   "metadata": {
    "id": "vgKO2p_jSfh6"
   },
   "source": [
    "---\n",
    "\n",
    " <h1><a name=\"ex-five\"><center> ✏ Exercici 5 ✏ </a></h1>\n",
    "\n",
    "Modifiqueu els següents paràmetres del model anterior i analitzeu com afecten a la seva *accuracy*:\n",
    "\n",
    " 1. **Preprocessament.** Modifiqueu el Tokenizer per canviar la mida del vostre vocabulari i afegiu nous passos de preprocessament. Alguns possibles canvis són canviar la mida del vocabulari, treure la capitalització o fer servir *lemmatització* o *stemming*.\n",
    "\n",
    " 2. **Mida dels Embeddings.** Proveu diferents mides d'*Embeddings* i observeu com canvia l'*accuracy* del model. Heu d'explicar les vostres conclusions.\n",
    "\n",
    " 3. **Xarxes Convolucionals.** Afegiu capes convolucionals al vostre model. Expliqueu amb detall els valors que heu provat i la vostra motivació a l'hora d'escollir-los. Recordeu, que també podeu provar diferents configuracions de *pooling*.\n",
    "\n",
    " 4. **Xarxes Recurrents.**  Afegiu capes recurrents al vostre model (LSTM, GRU). Expliqueu amb detall els valors que heu provat i la vostra motivació.\n",
    "\n",
    " 5. **Regularització.** Quan proveu configuracions amb més paràmetres veureu que el model comença a tenir *overfitting* molt prompte durant l'entrenament. Afegiu *Dropout* al vostre model. Heu d'explicar la vostra decisió de valors i de posició dins de la xarxa.\n",
    "\n",
    " 6. **Balancejat de les classes.** Si analitzeu el dataset, veureu que la freqüència de les classes està molt desbalancejada. Keras us permet afegir un pes per a cada classe a l'hora de calcular la loss (Mireu el paràmetre \"class_weigth\" a la documentació https://keras.io/api/models/model_training_apis/). Calculeu un pes per a cada classe i afegiu-lo al mètode fit del vostre model.\n",
    "\n",
    " ---"
   ]
  },
  {
   "cell_type": "markdown",
   "metadata": {},
   "source": [
    "Experimentar amb mida de vocabulari i embesdings, metriques (acuracy si clase balancejar, f1-score si no), cambiar el poling, "
   ]
  },
  {
   "cell_type": "code",
   "execution_count": 25,
   "metadata": {},
   "outputs": [],
   "source": [
    "def preprocess(train_data, val_data, test_data, num_words=500):\n",
    "    '''Preprocess the datasets: tokenization, padding, label encoding.\n",
    "    \n",
    "    Args:\n",
    "        train_data (pd.DataFrame): Training dataset.\n",
    "        val_data (pd.DataFrame): Validation dataset.\n",
    "        test_data (pd.DataFrame): Test dataset.\n",
    "        num_words (int): Number of words to keep in the tokenizer.\n",
    "        maxlen (int): Maximum length for padding sequences.\n",
    "        \n",
    "    Returns:\n",
    "        tuple: Preprocessed training, validation, and test sequences and labels.\n",
    "    '''\n",
    "    # Tokenization\n",
    "    train_sentences = list(train_data[0])\n",
    "    train_labels = list(s.replace('\"', '') for s in train_data[2])\n",
    "    train_labels = list(s.replace(' ', '') for s in train_labels)\n",
    "    \n",
    "    tokenizer = Tokenizer(num_words)\n",
    "    tokenizer.fit_on_texts(train_sentences)\n",
    "\n",
    "    train_sequences = tokenizer.texts_to_sequences(train_sentences)\n",
    "    maxlen = max(map(len, train_sequences))\n",
    "    train_pad_sequences = pad_sequences(train_sequences, padding='post', maxlen=maxlen)\n",
    "\n",
    "    label_encoder = LabelEncoder()\n",
    "    train_numerical_labels = label_encoder.fit_transform(train_labels)\n",
    "    num_classes = len(np.unique(train_numerical_labels))\n",
    "    train_encoded_labels = to_categorical(train_numerical_labels, num_classes)\n",
    "    \n",
    "    values_to_remove = ['day_name','airfare+flight','flight+airline','flight_no+airline', 'flight']\n",
    "\n",
    "    # Validation data\n",
    "    val_sentences = list(val_data[0])\n",
    "    val_sequences = tokenizer.texts_to_sequences(val_sentences)\n",
    "    val_pad_sequences = pad_sequences(val_sequences, padding='post', maxlen=maxlen)\n",
    "\n",
    "    val_labels = list(val_data[2])\n",
    "    val_labels = list(s.replace('\"', '') for s in val_labels)\n",
    "    val_labels = list(s.replace(' ', '') for s in val_labels)\n",
    "    val_labels, val_pad_sequences = remove_values_and_indices(val_labels, values_to_remove, val_pad_sequences)\n",
    "    val_encoded_labels = to_categorical(label_encoder.transform(val_labels), num_classes)\n",
    "\n",
    "    # Test data\n",
    "    test_sentences = list(test_data[0])\n",
    "    test_sequences = tokenizer.texts_to_sequences(test_sentences)\n",
    "    test_pad_sequences = pad_sequences(test_sequences, padding='post', maxlen=maxlen)\n",
    "\n",
    "    test_labels = list(test_data[2])\n",
    "    test_labels = list(s.replace('\"', '') for s in test_labels)\n",
    "    test_labels = list(s.replace(' ', '') for s in test_labels)\n",
    "    test_labels, test_pad_sequences = remove_values_and_indices(test_labels, values_to_remove, test_pad_sequences)\n",
    "    test_encoded_labels = to_categorical(label_encoder.transform(test_labels), num_classes)\n",
    "\n",
    "    return (train_pad_sequences, train_encoded_labels,\n",
    "            val_pad_sequences, val_encoded_labels,\n",
    "            test_pad_sequences, test_encoded_labels, num_classes, maxlen,tokenizer)\n",
    "\n",
    "def remove_values_and_indices(input_list, values_to_remove, other_list):\n",
    "    #print(f'Initial {len(input_list)} samples')\n",
    "    #print(f'Initial {len(other_list)} samples')\n",
    "    indices_to_remove = [idx for idx, item in enumerate(input_list) if item in values_to_remove]\n",
    "    #print(f'Removing {len(indices_to_remove)} samples')\n",
    "    cleaned_list = [item for item in input_list if item not in values_to_remove]\n",
    "    #print(f'Remaining {len(cleaned_list)} samples')\n",
    "    cleaned_other_list = [item for idx, item in enumerate(other_list) if idx not in indices_to_remove]\n",
    "    #print(f'Remaining {len(cleaned_other_list)} samples')\n",
    "    return cleaned_list, np.array(cleaned_other_list)\n",
    "\n",
    "def provar_embeddings(train_pad_sequences, train_encoded_labels, \n",
    "                      val_pad_sequences, val_encoded_labels, vocab_size, num_classes, \n",
    "                      batch_size, epochs,\n",
    "                      maxlen, embedding_dims, patience=5, runs=5):\n",
    "    '''Prueba diferentes dimensiones de embedding, promedia 'runs' ejecuciones,\n",
    "    guarda histories promediados y grafica la evolución (train vs val) por epoch.\n",
    "    Devuelve: dict: {embedding_dim: averaged_history} donde cada value es np.array (epochs,)\n",
    "    '''\n",
    "    results = {}\n",
    "\n",
    "    for embedding_dim in embedding_dims:\n",
    "        print(f'-------Running embedding_dim={embedding_dim}  ({runs} runs)...---------')\n",
    "        accum = {}  # recolecta listas de arrays (runs, epochs) por clave\n",
    "        for run in range(runs):\n",
    "            tf.random.set_seed(run)\n",
    "            np.random.seed(run)\n",
    "\n",
    "            model = Sequential()\n",
    "            model.add(Embedding(input_dim=vocab_size, output_dim=embedding_dim, input_length=maxlen))\n",
    "            model.add(GlobalMaxPooling1D(data_format='channels_last'))\n",
    "            model.add(Dense(128, activation='relu'))\n",
    "            model.add(Dense(num_classes, activation='softmax'))\n",
    "\n",
    "            metrics = tf.keras.metrics.F1Score(average='macro')\n",
    "            model.compile(\n",
    "                optimizer='adam',\n",
    "                loss='categorical_crossentropy',\n",
    "                metrics=[metrics]\n",
    "            )\n",
    "\n",
    "            early_stop = EarlyStopping(\n",
    "                monitor='val_loss',        # o 'val_f1_score'\n",
    "                patience= patience,                # detener tras 3 épocas sin mejora\n",
    "                restore_best_weights=True,\n",
    "                verbose=0\n",
    "            )\n",
    "\n",
    "            history = model.fit(\n",
    "                train_pad_sequences,\n",
    "                train_encoded_labels,\n",
    "                batch_size=batch_size,\n",
    "                epochs=epochs,\n",
    "                validation_data=(val_pad_sequences, val_encoded_labels),\n",
    "                callbacks=[early_stop],\n",
    "                verbose=0\n",
    "            )\n",
    "\n",
    "            # acumular arrays numpy por clave\n",
    "            for k, v in history.history.items():\n",
    "                accum.setdefault(k, []).append(np.array(v))\n",
    "\n",
    "            print(f'  run {run+1}/{runs} done | last val_loss={history.history[\"val_loss\"][-1]:.4f}')\n",
    "\n",
    "        # promediar por key -> numpy arrays (epochs,), respetando EarlyStopping\n",
    "        averaged = {}\n",
    "        for k, arrs in accum.items():\n",
    "            max_len = max(a.shape[0] for a in arrs)\n",
    "            stacked = np.full((len(arrs), max_len), np.nan, dtype=float)\n",
    "            for i, a in enumerate(arrs):\n",
    "                stacked[i, :a.shape[0]] = a\n",
    "            averaged[k] = np.nanmean(stacked, axis=0)  # media ignorando NaNs\n",
    "\n",
    "        results[embedding_dim] = averaged\n",
    "\n",
    "        # calcular último val_loss válido (puede haber NaNs si ninguna run llegó a la última época)\n",
    "        val_loss_avg = averaged.get(\"val_loss\")\n",
    "        if val_loss_avg is not None:\n",
    "            finite_idx = np.where(~np.isnan(val_loss_avg))[0]\n",
    "            last_val_loss = val_loss_avg[finite_idx[-1]] if finite_idx.size else np.nan\n",
    "        else:\n",
    "            last_val_loss = np.nan\n",
    "\n",
    "        print(f'Finished embedding_dim={embedding_dim}  |  averaged last val_loss={last_val_loss:.4f}')\n",
    "\n",
    "    # detectar métrica distinta de loss\n",
    "    sample_hist = next(iter(results.values()))\n",
    "    metric_keys = [k for k in sample_hist.keys() if k not in ('loss', 'val_loss')]\n",
    "    metric = metric_keys[0] if metric_keys else None\n",
    "    val_metric = f'val_{metric}' if metric else None\n",
    "\n",
    "    cmap = plt.get_cmap('tab10')\n",
    "\n",
    "    # Graficar loss (train continua, val discontinua), mismo color por dimensión\n",
    "    plt.figure(figsize=(10, 4))\n",
    "    for i, dim in enumerate(embedding_dims):\n",
    "        hist = results.get(dim)\n",
    "        if hist is None:\n",
    "            continue\n",
    "        color = cmap(i % cmap.N)\n",
    "        plt.plot(hist['loss'], label=f'train loss d={dim}', color=color, linestyle='-')\n",
    "        plt.plot(hist['val_loss'], label=f'val loss d={dim}', color=color, linestyle='--')\n",
    "    plt.title('Training and validation loss (averaged) por epoch')\n",
    "    plt.xlabel('Epoch')\n",
    "    plt.ylabel('Loss')\n",
    "    plt.legend(loc='upper right', fontsize='small')\n",
    "    plt.grid(alpha=0.3)\n",
    "    plt.tight_layout()\n",
    "    plt.show()\n",
    "\n",
    "    # Graficar métrica promedio (train continua, val discontinua), usando la media sobre runs\n",
    "    have_metric = metric and any((metric in hist and val_metric in hist) for hist in results.values())\n",
    "    if have_metric:\n",
    "        plt.figure(figsize=(10, 4))\n",
    "        for i, dim in enumerate(embedding_dims):\n",
    "            hist = results.get(dim)\n",
    "            if hist is None:\n",
    "                continue\n",
    "            if metric in hist and val_metric in hist:\n",
    "                color = cmap(i % cmap.N)\n",
    "                plt.plot(hist[metric], label=f'train {metric} d={dim}', color=color, linestyle='-')\n",
    "                plt.plot(hist[val_metric], label=f'val {metric} d={dim}', color=color, linestyle='--')\n",
    "        plt.title(f'Training and validation {metric} (averaged over {runs} runs) por epoch')\n",
    "        plt.xlabel('Epoch')\n",
    "        plt.ylabel(metric)\n",
    "        plt.legend(loc='lower right', fontsize='small')\n",
    "        plt.grid(alpha=0.3)\n",
    "        plt.tight_layout()\n",
    "        plt.show()\n",
    "    else:\n",
    "        print('No se encontró métrica distinta de loss en los histories. Sólo se graficó loss.')\n",
    "\n",
    "    return results"
   ]
  },
  {
   "cell_type": "code",
   "execution_count": 8,
   "metadata": {},
   "outputs": [],
   "source": [
    "(train_pad_sequences, train_encoded_labels, val_pad_sequences, val_encoded_labels,\n",
    " test_pad_sequences, test_encoded_labels, num_classes, maxlen,tokenizer) = preprocess(train_data, val_data, \n",
    "                                                                                      test_data, num_words=500)\n",
    "vocab_size = len(tokenizer.word_index)"
   ]
  },
  {
   "cell_type": "code",
   "execution_count": 26,
   "metadata": {},
   "outputs": [
    {
     "name": "stdout",
     "output_type": "stream",
     "text": [
      "-------Running embedding_dim=50  (5 runs)...---------\n",
      "  run 1/5 done | last val_loss=0.8111\n",
      "  run 2/5 done | last val_loss=0.7898\n",
      "  run 3/5 done | last val_loss=0.7057\n",
      "  run 4/5 done | last val_loss=0.8615\n",
      "  run 5/5 done | last val_loss=0.6360\n",
      "Finished embedding_dim=50  |  averaged last val_loss=0.6708\n",
      "-------Running embedding_dim=100  (5 runs)...---------\n",
      "  run 1/5 done | last val_loss=0.7491\n",
      "  run 2/5 done | last val_loss=0.7232\n",
      "  run 3/5 done | last val_loss=0.7274\n",
      "  run 4/5 done | last val_loss=0.7140\n",
      "  run 5/5 done | last val_loss=0.5821\n",
      "Finished embedding_dim=100  |  averaged last val_loss=0.5821\n",
      "-------Running embedding_dim=200  (5 runs)...---------\n",
      "  run 1/5 done | last val_loss=0.6796\n",
      "  run 2/5 done | last val_loss=0.6938\n",
      "  run 3/5 done | last val_loss=0.7297\n",
      "  run 4/5 done | last val_loss=0.7887\n",
      "  run 5/5 done | last val_loss=0.5534\n",
      "Finished embedding_dim=200  |  averaged last val_loss=0.5534\n"
     ]
    },
    {
     "data": {
      "image/png": "[encoded data removed]",
      "text/plain": [
       "<Figure size 1000x400 with 1 Axes>"
      ]
     },
     "metadata": {},
     "output_type": "display_data"
    },
    {
     "data": {
      "image/png": "[encoded data removed]",
      "text/plain": [
       "<Figure size 1000x400 with 1 Axes>"
      ]
     },
     "metadata": {},
     "output_type": "display_data"
    },
    {
     "data": {
      "text/plain": [
       "{50: {'f1_score': array([0.03951074, 0.10312236, 0.16119774, 0.2064216 , 0.23915918,\n",
       "         0.26912719, 0.31804724, 0.38623003, 0.46124309, 0.50337526,\n",
       "         0.54153025, 0.55879385, 0.57702487, 0.59040132, 0.6049306 ,\n",
       "         0.61433407, 0.62574705, 0.63442774, 0.64166452, 0.64332423]),\n",
       "  'loss': array([1.37682819, 0.76695122, 0.53991905, 0.40085479, 0.31630458,\n",
       "         0.257542  , 0.21286472, 0.17844614, 0.15075704, 0.12825747,\n",
       "         0.10966098, 0.0942814 , 0.08136224, 0.07064417, 0.06181917,\n",
       "         0.05431756, 0.04798383, 0.04268706, 0.03749286, 0.03230825]),\n",
       "  'val_f1_score': array([0.00229665, 0.09569173, 0.12931685, 0.15264918, 0.1891885 ,\n",
       "         0.20565723, 0.22476318, 0.27591508, 0.33347682, 0.3588879 ,\n",
       "         0.39121205, 0.40608166, 0.41541294, 0.43009708, 0.43631228,\n",
       "         0.4378507 , 0.43398993, 0.44078187, 0.44161639, 0.4272795 ]),\n",
       "  'val_loss': array([2.8872345 , 2.06939664, 1.58400779, 1.32961113, 1.16902809,\n",
       "         1.05241997, 0.96287642, 0.89605041, 0.84373406, 0.80509179,\n",
       "         0.7767611 , 0.75575438, 0.74319443, 0.73567238, 0.7358937 ,\n",
       "         0.73922312, 0.74462875, 0.75329493, 0.73322111, 0.67084533])},\n",
       " 100: {'f1_score': array([0.0394773 , 0.13116675, 0.18490863, 0.24165763, 0.29286602,\n",
       "         0.35413287, 0.446473  , 0.52087347, 0.56782781, 0.59107141,\n",
       "         0.61188881, 0.62361187, 0.63132975, 0.66052594, 0.66898899,\n",
       "         0.67351823, 0.67768792, 0.68759938, 0.69318137, 0.74152124]),\n",
       "  'loss': array([1.28340676, 0.68334492, 0.44695103, 0.32187384, 0.24100201,\n",
       "         0.18456631, 0.14453779, 0.11526539, 0.09302581, 0.07586994,\n",
       "         0.06257704, 0.0521317 , 0.04378917, 0.03703814, 0.03155711,\n",
       "         0.02700977, 0.02652769, 0.02287447, 0.02063428, 0.0173445 ]),\n",
       "  'val_f1_score': array([0.01863131, 0.11673881, 0.15275624, 0.19974103, 0.2321555 ,\n",
       "         0.26142613, 0.33537765, 0.39245623, 0.4115518 , 0.41606097,\n",
       "         0.4362777 , 0.43616242, 0.44724293, 0.45655565, 0.46767473,\n",
       "         0.47369945, 0.48686613, 0.49344242, 0.48751752, 0.4828738 ]),\n",
       "  'val_loss': array([2.69247909, 1.76949644, 1.36046243, 1.12967391, 0.97849674,\n",
       "         0.87720186, 0.80825274, 0.75883076, 0.72413805, 0.70008594,\n",
       "         0.6836199 , 0.67673076, 0.66832238, 0.66695485, 0.67032481,\n",
       "         0.68209583, 0.66551898, 0.67601142, 0.66060862, 0.58206469])},\n",
       " 200: {'f1_score': array([0.05290172, 0.15876574, 0.23266412, 0.28294994, 0.37459085,\n",
       "         0.49710067, 0.5698711 , 0.59917425, 0.62062986, 0.64393156,\n",
       "         0.65549121, 0.66488527, 0.68670027, 0.72232914, 0.77284507,\n",
       "         0.77777424, 0.81999421, 0.88024485]),\n",
       "  'loss': array([1.16869235, 0.57658057, 0.36344978, 0.24667834, 0.17509041,\n",
       "         0.12800695, 0.09503122, 0.07212119, 0.05599659, 0.04436387,\n",
       "         0.03566005, 0.02900184, 0.02384968, 0.01972229, 0.01648724,\n",
       "         0.01477271, 0.01262515, 0.01092876]),\n",
       "  'val_f1_score': array([0.06860284, 0.13867185, 0.18113813, 0.23184952, 0.29620006,\n",
       "         0.36239918, 0.39669259, 0.43480058, 0.44672987, 0.45665963,\n",
       "         0.45876744, 0.46677667, 0.46916083, 0.4789108 , 0.49546008,\n",
       "         0.50165719, 0.49362838, 0.51720262]),\n",
       "  'val_loss': array([2.36162033, 1.47916291, 1.14129193, 0.94241014, 0.82015762,\n",
       "         0.73933923, 0.68797592, 0.66106133, 0.64566718, 0.63932481,\n",
       "         0.64225661, 0.65028416, 0.66378593, 0.67555529, 0.62749243,\n",
       "         0.60020599, 0.51286304, 0.55335903])}}"
      ]
     },
     "execution_count": 26,
     "metadata": {},
     "output_type": "execute_result"
    }
   ],
   "source": [
    "provar_embeddings(train_pad_sequences, train_encoded_labels, \n",
    "                  val_pad_sequences, val_encoded_labels, vocab_size, num_classes,\n",
    "                  batch_size=32, epochs=20,\n",
    "                  maxlen=maxlen, embedding_dims=[50, 100, 200])"
   ]
  },
  {
   "cell_type": "markdown",
   "metadata": {
    "id": "oJL2VFSu6sce"
   },
   "source": [
    "\n",
    "<h1><a name=\"section-four\"> 4. Lliurable </a></h1>\n",
    "\n",
    "Heu d'entregar un document PDF de com a **màxim 10 pàgines** que incloga els resultats de tots els exercicis així com una explicació de cadascun dels resultats i de la modificació que heu fet. L'estructura del document és:\n",
    "\n",
    "1. Introducció.\n",
    "2. Experiments i Resultats (amb raonament).\n",
    "3. Conclusions.\n",
    "\n",
    "No cal que afegiu el vostre codi al document, podeu entregar el *notebook* juntament amb el document.\n",
    "\n",
    " ---"
   ]
  }
 ],
 "metadata": {
  "accelerator": "GPU",
  "colab": {
   "gpuType": "T4",
   "provenance": [
    {
     "file_id": "1Hzv2UnnX9qt2tfevnrW9wKKyxz49enYa",
     "timestamp": 1695718475771
    }
   ]
  },
  "kernelspec": {
   "display_name": "Python 3",
   "language": "python",
   "name": "python3"
  },
  "language_info": {
   "codemirror_mode": {
    "name": "ipython",
    "version": 3
   },
   "file_extension": ".py",
   "mimetype": "text/x-python",
   "name": "python",
   "nbconvert_exporter": "python",
   "pygments_lexer": "ipython3",
   "version": "3.12.10"
  }
 },
 "nbformat": 4,
 "nbformat_minor": 0
}
