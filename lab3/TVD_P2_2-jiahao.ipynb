{
 "cells": [
  {
   "cell_type": "markdown",
   "metadata": {
    "id": "5b0R18qGjOxT"
   },
   "source": [
    "<center>\n",
    "<h1 style=\"font-family:verdana\">\n",
    " 💻 🧑 Reconeixement d'entitats anomenades 🧑 💻\n"
   ]
  },
  {
   "cell_type": "markdown",
   "metadata": {
    "id": "PZOmxM4_kAUC"
   },
   "source": [
    "<p> 🎯 <b>Objectiu</b>: en aquesta segona part de la pràctica aprendrem a reconèixer entitats anomenades, és a dir, identificar i classificar entitats en una oració que poden ser (en el context de reserva de vols) la ciutat de sortida o d'arribada, la data del mes i el dia, si es de negocis o turista o altres categories específiques. Aquesta tasca se sol plantejar etiquetant cada paraula amb una etiqueta de la categoria de l'entitat a la qual correspon.\n",
    "\n",
    "Tant la classificació d'intencions (tasca estudiada a la primera part) com el reconeixement d'entitats anomenades (Name Entity Recognition, NER) que veurem en aquesta part són components crucials dels sistemes de processament del llenguatge natural (Natural Language Processing, NLP) i sovint s'utilitzen junts per crear aplicacions d'intel·ligència artificial (IA) conversacionals més sofisticades. Per exemple, en un xatbot, la classificació d'intencions ajuda a entendre la intenció principal de l'usuari, mentre que el reconeixement d'entitats anomenades ajuda a extreure entitats rellevants per proporcionar respostes més contextualitzades.\n",
    "\n",
    "\n",
    "<p> ✨ <b>Contingut</b>: els passos d'aquesta segona part seran similars a la primera. En primer lloc, analitzarem el conjunt de dades. En segon lloc, prepararem les dades per a poder entrenar el model. I finalment dissenyarem l'arquitectura i entrenarem el model. </p>\n",
    "\n",
    "\n",
    "<p> ✏ <b>Exercicis</b>: en cada secció anireu trobant exercicis que haureu d'anar resolent. </p>"
   ]
  },
  {
   "cell_type": "markdown",
   "metadata": {
    "id": "BI_K-e1cmXlb"
   },
   "source": [
    "---\n",
    "\n",
    "<h2> Índex </h2>\n",
    "\n",
    "1. [Inspecció del conjunt de dades](#section-one)\n",
    "  * [Exercici 1](#ex-one)\n",
    "  * [Exercici 2](#ex-two)\n",
    "2. [Preprocessament de dades](#section-two)\n",
    "  * [Exercici 3](#ex-three)\n",
    "  * [Exercici 4](#ex-four)\n",
    "3. [Disseny del model i entrenament](#section-three)\n",
    "  * [Exercici 5](#ex-five)\n",
    "  * [Exercici 6](#ex-six)\n",
    "4. [Lliurable](#section-four)\n",
    "\n",
    "---"
   ]
  },
  {
   "cell_type": "code",
   "execution_count": 5,
   "metadata": {
    "executionInfo": {
     "elapsed": 5815,
     "status": "ok",
     "timestamp": 1760536093103,
     "user": {
      "displayName": "Carlos Escolano",
      "userId": "02024451886670542795"
     },
     "user_tz": -120
    },
    "id": "XKn_1FnTxvfV"
   },
   "outputs": [],
   "source": [
    "import tensorflow as tf\n",
    "import numpy as np\n",
    "import pandas as pd\n",
    "from sklearn.preprocessing import LabelEncoder\n",
    "import keras\n",
    "from keras.utils import to_categorical\n",
    "from keras.models import Sequential\n",
    "from keras.layers import Embedding, LSTM, Dense, Bidirectional, Dropout\n",
    "from tensorflow.keras.preprocessing.text import Tokenizer\n",
    "from tensorflow.keras.preprocessing.sequence import pad_sequences\n",
    "from sklearn.metrics import classification_report\n",
    "from collections import Counter\n"
   ]
  },
  {
   "cell_type": "markdown",
   "metadata": {
    "id": "Swhc9NwqpUs8"
   },
   "source": [
    "<h1><a name=\"section-one\"> 1. Inspecció del conjunt de dades </a></h1>"
   ]
  },
  {
   "cell_type": "code",
   "execution_count": 2,
   "metadata": {
    "colab": {
     "base_uri": "https://localhost:8080/"
    },
    "executionInfo": {
     "elapsed": 8688,
     "status": "ok",
     "timestamp": 1760536104885,
     "user": {
      "displayName": "Carlos Escolano",
      "userId": "02024451886670542795"
     },
     "user_tz": -120
    },
    "id": "SSM223cvp7wJ",
    "outputId": "4f8fcaf4-0559-4845-ed22-25fc4c6092d7"
   },
   "outputs": [
    {
     "name": "stdout",
     "output_type": "stream",
     "text": [
      "Requirement already satisfied: gdown in /usr/local/lib/python3.12/dist-packages (5.2.0)\n",
      "Requirement already satisfied: beautifulsoup4 in /usr/local/lib/python3.12/dist-packages (from gdown) (4.13.5)\n",
      "Requirement already satisfied: filelock in /usr/local/lib/python3.12/dist-packages (from gdown) (3.20.0)\n",
      "Requirement already satisfied: requests[socks] in /usr/local/lib/python3.12/dist-packages (from gdown) (2.32.4)\n",
      "Requirement already satisfied: tqdm in /usr/local/lib/python3.12/dist-packages (from gdown) (4.67.1)\n",
      "Requirement already satisfied: soupsieve>1.2 in /usr/local/lib/python3.12/dist-packages (from beautifulsoup4->gdown) (2.8)\n",
      "Requirement already satisfied: typing-extensions>=4.0.0 in /usr/local/lib/python3.12/dist-packages (from beautifulsoup4->gdown) (4.15.0)\n",
      "Requirement already satisfied: charset_normalizer<4,>=2 in /usr/local/lib/python3.12/dist-packages (from requests[socks]->gdown) (3.4.3)\n",
      "Requirement already satisfied: idna<4,>=2.5 in /usr/local/lib/python3.12/dist-packages (from requests[socks]->gdown) (3.10)\n",
      "Requirement already satisfied: urllib3<3,>=1.21.1 in /usr/local/lib/python3.12/dist-packages (from requests[socks]->gdown) (2.5.0)\n",
      "Requirement already satisfied: certifi>=2017.4.17 in /usr/local/lib/python3.12/dist-packages (from requests[socks]->gdown) (2025.10.5)\n",
      "Requirement already satisfied: PySocks!=1.5.7,>=1.5.6 in /usr/local/lib/python3.12/dist-packages (from requests[socks]->gdown) (1.7.1)\n",
      "Downloading...\n",
      "From: https://drive.google.com/uc?id=1u2wzXvsuscLeFHwXcDwMDaNDy0u_99-t\n",
      "To: /content/nlu_ATIS_data.tar.gz\n",
      "100% 122k/122k [00:00<00:00, 2.95MB/s]\n"
     ]
    }
   ],
   "source": [
    "!pip install gdown\n",
    "!gdown \"https://drive.google.com/uc?id=1u2wzXvsuscLeFHwXcDwMDaNDy0u_99-t\"\n",
    "!tar -zxf nlu_ATIS_data.tar.gz"
   ]
  },
  {
   "cell_type": "code",
   "execution_count": 2,
   "metadata": {
    "colab": {
     "base_uri": "https://localhost:8080/"
    },
    "executionInfo": {
     "elapsed": 113,
     "status": "ok",
     "timestamp": 1760536111702,
     "user": {
      "displayName": "Carlos Escolano",
      "userId": "02024451886670542795"
     },
     "user_tz": -120
    },
    "id": "OAp0lemwjd71",
    "outputId": "c2dfb77b-52b9-4fdc-a2c3-b451f9d072e2"
   },
   "outputs": [
    {
     "name": "stderr",
     "output_type": "stream",
     "text": [
      "\"ls\" no se reconoce como un comando interno o externo,\n",
      "programa o archivo por lotes ejecutable.\n"
     ]
    }
   ],
   "source": [
    "!ls data"
   ]
  },
  {
   "cell_type": "markdown",
   "metadata": {
    "id": "sqKtLqYUpWkZ"
   },
   "source": [
    "En aquesta segona part de la pràctica utilitzarem el mateix dataset que a la primera part, però en aquest cas utilitzarem la **primera columna** que correspon a les **oracions** introduïdes pels usuaris i la **segona columna** on trobarem les oracions d'entrada en format **BILOU**.\n",
    "\n",
    "El format BILOU  és un esquema d'etiquetatge que es fa servir a les tasques de reconeixement d'entitats anomenades. El nom *BILOU* representa les etiquetes utilitzades en aquest esquema:\n",
    "\n",
    "*   **B** - Beginning: primer token d'una entitat.\n",
    "*   **I** - Inside: token dins d'una entitat.\n",
    "*   **L** - Last: últim token de l'entitat.\n",
    "*   **O** - Outside: token que no pertany a cap entitat.\n",
    "*   **U** - Unit: entitats d'un sol token\n",
    "\n",
    "A continuació, carregarem les dades per visualitzar i poder entendre millor aquestes etiquetes."
   ]
  },
  {
   "cell_type": "markdown",
   "metadata": {
    "id": "4fUGDuD9wUfm"
   },
   "source": [
    "---\n",
    "\n",
    " <h1><a name=\"ex-one\"><center> ✏ Exercici 1 ✏</a></h1>\n",
    "\n",
    "A continuació us demanem que carregueu els dos CSVs de la carpeta `data`: `train.csv`, `test.csv` utilitzant pandas. Recorda que aquests CSVs no tenen capçalera. Agafeu les 900 últimes lineas del fitxer `train.csv` per crear un dataframe per validació."
   ]
  },
  {
   "cell_type": "code",
   "execution_count": 3,
   "metadata": {
    "colab": {
     "base_uri": "https://localhost:8080/"
    },
    "executionInfo": {
     "elapsed": 11,
     "status": "ok",
     "timestamp": 1729339842515,
     "user": {
      "displayName": "Jordi Luque",
      "userId": "10816317814088701546"
     },
     "user_tz": -120
    },
    "id": "93lI2dDVxmST",
    "outputId": "d0a460e8-21c5-4c45-cd82-3d5f0eb25fee"
   },
   "outputs": [
    {
     "name": "stdout",
     "output_type": "stream",
     "text": [
      "Training size: 4078\n",
      "Validation dataset size: 900\n",
      "Test dataset size: 893\n"
     ]
    }
   ],
   "source": [
    "#TODO\n",
    "train_data = pd.read_csv('data/train.csv', header=None)\n",
    "val_data = train_data.tail(900)\n",
    "train_data = pd.read_csv('./data/train.csv', header=None, nrows=4078)\n",
    "test_data = pd.read_csv('data/test.csv', header=None)\n",
    "\n",
    "print('Training size:', len(train_data))\n",
    "print('Validation dataset size:', len(val_data))\n",
    "print('Test dataset size:', len(test_data))\n",
    "\n",
    "train_data = train_data.map(lambda x: x.replace('\"', ''))\n",
    "val_data = val_data.map(lambda x: x.replace('\"', ''))\n",
    "test_data = test_data.map(lambda x: x.replace('\"', ''))"
   ]
  },
  {
   "cell_type": "markdown",
   "metadata": {
    "id": "CugYB4oNyFju"
   },
   "source": [
    "---\n",
    "\n",
    " <h1><a name=\"ex-two\"><center> ✏ Exercici 2 ✏</a></h1>\n",
    "\n",
    "Tal com hem introduït abans, per a aquest exercici ens centrarem en la **primera** i la **segona** columna. Per tant, ara us demanem que guardeu en les següents variables, les llistes corresponents a les oracions i a les etiquetes de les tres particions (`train`, `validation` i `test`)."
   ]
  },
  {
   "cell_type": "code",
   "execution_count": 22,
   "metadata": {
    "colab": {
     "base_uri": "https://localhost:8080/"
    },
    "executionInfo": {
     "elapsed": 9,
     "status": "ok",
     "timestamp": 1729339842515,
     "user": {
      "displayName": "Jordi Luque",
      "userId": "10816317814088701546"
     },
     "user_tz": -120
    },
    "id": "edw3mK_Hy-M3",
    "outputId": "b57ed5d1-7219-4806-af3c-4629fbb5f5ed"
   },
   "outputs": [],
   "source": [
    "#TODO\n",
    "train_sentences = train_data[0].tolist()\n",
    "train_labels = train_data[1].tolist()\n",
    "\n",
    "val_sentences = val_data[0].tolist()\n",
    "val_labels = val_data[1].tolist()\n",
    "\n",
    "test_sentences = test_data[0].tolist()\n",
    "test_labels = test_data[1].tolist()\n"
   ]
  },
  {
   "cell_type": "markdown",
   "metadata": {
    "id": "eKgiGo7UzYDU"
   },
   "source": [
    "---\n",
    "\n",
    "Si tot ha anat bé ja podem analitzar quin aspecte té el format BILOU."
   ]
  },
  {
   "cell_type": "code",
   "execution_count": 5,
   "metadata": {
    "colab": {
     "base_uri": "https://localhost:8080/"
    },
    "executionInfo": {
     "elapsed": 7,
     "status": "ok",
     "timestamp": 1729339842515,
     "user": {
      "displayName": "Jordi Luque",
      "userId": "10816317814088701546"
     },
     "user_tz": -120
    },
    "id": "lgjKAyCUzp_M",
    "outputId": "378a6225-456b-4e5f-d8fb-b14ababe1d74"
   },
   "outputs": [
    {
     "name": "stdout",
     "output_type": "stream",
     "text": [
      "i need a flight tomorrow from columbus to minneapolis\n",
      " O O O O B-depart_date.today_relative O B-fromloc.city_name O B-toloc.city_name\n"
     ]
    }
   ],
   "source": [
    "print(train_sentences[5])\n",
    "print(train_labels[5])"
   ]
  },
  {
   "cell_type": "markdown",
   "metadata": {
    "id": "oWzA_MPL02kk"
   },
   "source": [
    "Aquest hauria de ser el resultat obtingut si executeu la cel·la anterior:\n",
    "\n",
    "```\n",
    "\n",
    "\n",
    "i want to fly from boston at 838 am and arrive in denver at 1110 in the morning\n",
    " \"O O O O O B-fromloc.city_name O B-depart_time.time I-depart_time.time O O O B-toloc.city_name O B-arrive_time.time O O B-arrive_time.period_of_day\"\n",
    "\n",
    "\n",
    "```\n",
    "\n",
    "En aquest exemple, `boston` i `838 am` corresponen a l'entitat \"ciutat de sortida\" i a l'entitat \"hora de sortida\" respectivament (`fromloc.city_name`,`depart_time.time`). `838` correspon al primer token que pertany la entitat `depart_time.time` i `am` al segon de la mateixa entitat. Els tokens com `i` o `want` no pertanyen a cap entitat."
   ]
  },
  {
   "cell_type": "code",
   "execution_count": 16,
   "metadata": {
    "colab": {
     "base_uri": "https://localhost:8080/"
    },
    "executionInfo": {
     "elapsed": 6,
     "status": "ok",
     "timestamp": 1729339842515,
     "user": {
      "displayName": "Jordi Luque",
      "userId": "10816317814088701546"
     },
     "user_tz": -120
    },
    "id": "7BuHmIx62MUA",
    "outputId": "27503c1e-11e3-486f-a72b-ed784b186dae"
   },
   "outputs": [
    {
     "name": "stdout",
     "output_type": "stream",
     "text": [
      "what flights are available from pittsburgh to baltimore on thursday morning\n",
      " O O O O O B-fromloc.city_name O B-toloc.city_name O B-depart_date.day_name B-depart_time.period_of_day\n"
     ]
    }
   ],
   "source": [
    "print(train_sentences[1])\n",
    "print(train_labels[1])"
   ]
  },
  {
   "cell_type": "markdown",
   "metadata": {
    "id": "tSWlVauS2gll"
   },
   "source": [
    "I aquest hauria de ser el resultat de la cel·la anterior:\n",
    "\n",
    "```\n",
    "what flights are available from pittsburgh to baltimore on thursday morning\n",
    " O O O O O B-fromloc.city_name O B-toloc.city_name O B-depart_date.day_name B-depart_time.period_of_day\n",
    "```\n",
    "\n",
    "En l'anterior exemple, `what`, `flights`, `are`, `available`, `from`, `to` i `on` estan etiquetades com a no pertanyents a cap entitat. I, en canvi, `pittsburgh` pertany a l'entitat d'un sol token anomenada ciutat d'arribada (`toloc.city_name`). També hi ha entitats compostes com `baltimore` que pertany a l'entitat ciutat de sortida (`fromloc.city_name`) i `thursday morning` que pertanyen a les entitats data de sortida (`depart_date.day_name`, `depart_time.period_of_day`)."
   ]
  },
  {
   "cell_type": "markdown",
   "metadata": {
    "id": "0hwZtqaI7rOQ"
   },
   "source": [
    "Vegem-ne la llista completa d'entitats."
   ]
  },
  {
   "cell_type": "code",
   "execution_count": null,
   "metadata": {
    "colab": {
     "base_uri": "https://localhost:8080/"
    },
    "executionInfo": {
     "elapsed": 402,
     "status": "ok",
     "timestamp": 1729339842912,
     "user": {
      "displayName": "Jordi Luque",
      "userId": "10816317814088701546"
     },
     "user_tz": -120
    },
    "id": "2VDzOwWk4Ee2",
    "outputId": "8ba5bb79-8345-4cab-fbf2-d1ecb46c0fa4"
   },
   "outputs": [
    {
     "name": "stdout",
     "output_type": "stream",
     "text": [
      "Number of different entities: 119\n",
      "Unique entities: ['O', 'B-fromloc.city_name', 'B-depart_time.time', 'I-depart_time.time', 'B-toloc.city_name', 'B-arrive_time.time', 'B-arrive_time.period_of_day', 'B-depart_date.day_name', 'B-depart_time.period_of_day', 'B-flight_time', 'I-flight_time', 'I-fromloc.city_name', 'B-cost_relative', 'B-round_trip', 'I-round_trip', 'B-fare_amount', 'I-fare_amount', 'B-depart_date.today_relative', 'I-toloc.city_name', 'B-city_name', 'B-stoploc.city_name', 'B-toloc.airport_code', 'B-depart_time.time_relative', 'B-class_type', 'I-class_type', 'B-depart_date.date_relative', 'B-airline_name', 'I-airline_name', 'B-arrive_time.time_relative', 'B-depart_time.start_time', 'I-depart_time.start_time', 'B-depart_time.end_time', 'I-depart_time.end_time', 'B-fromloc.airport_name', 'I-fromloc.airport_name', 'B-toloc.state_name', 'B-depart_date.day_number', 'I-depart_date.day_number', 'B-depart_date.month_name', 'B-mod', 'B-fare_basis_code', 'B-transport_type', 'B-flight_mod', 'I-cost_relative', 'B-arrive_date.month_name', 'B-arrive_date.day_number', 'B-meal', 'B-toloc.state_code', 'B-meal_description', 'B-return_date.month_name', 'B-return_date.day_number', 'B-airline_code', 'B-depart_time.period_mod', 'I-arrive_time.time', 'B-flight_stop', 'I-city_name', 'B-fromloc.airport_code', 'B-arrive_date.day_name', 'B-time', 'B-or', 'I-arrive_date.day_number', 'B-economy', 'I-economy', 'B-flight_number', 'B-arrive_time.period_mod', 'I-transport_type', 'B-flight_days', 'I-stoploc.city_name', 'B-toloc.airport_name', 'I-toloc.airport_name', 'B-state_code', 'I-flight_stop', 'B-arrive_time.start_time', 'B-arrive_time.end_time', 'I-arrive_time.end_time', 'B-fromloc.state_name', 'I-fromloc.state_name', 'B-arrive_date.date_relative', 'B-depart_date.year', 'B-return_date.date_relative', 'B-airport_code', 'B-aircraft_code', 'B-fromloc.state_code', 'B-connect', 'I-arrive_time.start_time', 'B-restriction_code', 'I-restriction_code', 'I-toloc.state_name', 'B-airport_name', 'I-airport_name', 'B-toloc.country_name', 'B-days_code', 'I-fare_basis_code', 'I-arrive_time.time_relative', 'I-arrive_time.period_of_day', 'I-depart_time.time_relative', 'B-day_name', 'B-period_of_day', 'I-depart_date.day_name', 'B-today_relative', 'B-stoploc.state_code', 'B-meal_code', 'I-meal_code', 'I-today_relative', 'I-flight_mod', 'B-state_name', 'B-stoploc.airport_name', 'B-arrive_date.today_relative', 'B-time_relative', 'I-time', 'B-return_time.period_of_day', 'I-return_date.day_number', 'I-depart_time.period_of_day', 'B-return_time.period_mod', 'I-depart_date.today_relative', 'I-mod', 'B-month_name', 'B-day_number', 'I-return_date.date_relative']\n"
     ]
    }
   ],
   "source": [
    "\n",
    "def count_unique_entities(list_of_label_sentences):\n",
    "  flat_labels = []\n",
    "  for labels in list_of_label_sentences:\n",
    "    flat_labels += labels.split()\n",
    "  c = Counter(flat_labels)\n",
    "  return len(c), list(c.keys())\n",
    "\n",
    "num_unique_entities, unique_entities = count_unique_entities(train_labels)\n",
    "\n",
    "print(\"Number of different entities:\", num_unique_entities)\n",
    "\n",
    "print(\"Unique entities:\", unique_entities)"
   ]
  },
  {
   "cell_type": "markdown",
   "metadata": {
    "id": "1wlsgR88_D8g"
   },
   "source": [
    "<h1><a name=\"section-two\"> 2. Preprocessament de dades </a></h1>"
   ]
  },
  {
   "cell_type": "markdown",
   "metadata": {
    "id": "e8yM79_n_OPA"
   },
   "source": [
    "El processament de les dades serà semblant al de la primera part d'aquesta pràctica."
   ]
  },
  {
   "cell_type": "markdown",
   "metadata": {
    "id": "bLrvW1frMus9"
   },
   "source": [
    "---\n",
    "\n",
    " <h1><a name=\"ex-three\"><center> ✏ Exercici 3 ✏</a></h1>\n",
    "\n",
    "En aquest exercici us demanem que realitzeu els passos següents per preparar les dades.\n",
    "\n",
    " 1. El primer pas serà construir el vocabulari a partir de les paraules presents a les oracions d'entrenament.\n",
    "\n",
    "2. El segon pas serà convertir les oracions en seqüències de nombres enters usant el tokenitzador.\n",
    "\n",
    "3. El tercer pas serà guardar la longitud original de cada oració. Això ens serà útil per evaluar el nostre model sense tenir en compte el padding.\n",
    "\n",
    "3. Finalment, per aconseguir que totes les seqüències tinguen la mateixa longitud, fixarem la longitud segons la màxima trobada a l'entrenament i afegirem zeros a les oracions de menor longitud.\n",
    "\n",
    "Recordeu que podeu consultar com fer-ho a la documentació de la llibrería:\n",
    "* <a href=\"https://www.tensorflow.org/api_docs/python/tf/keras/preprocessing/text/Tokenizer\"> Tokenizer </a>\n",
    "* <a href=\"https://www.tensorflow.org/api_docs/python/tf/keras/utils/pad_sequences\"> Pad Sequences </a>\n",
    "\n",
    "\n"
   ]
  },
  {
   "cell_type": "code",
   "execution_count": 33,
   "metadata": {
    "id": "e0zOvP3UI_CE"
   },
   "outputs": [
    {
     "name": "stdout",
     "output_type": "stream",
     "text": [
      "Max sequence length: 46\n"
     ]
    }
   ],
   "source": [
    "#TODO\n",
    "tokenizer = Tokenizer()\n",
    "tokenizer.fit_on_texts(train_sentences)\n",
    "\n",
    "train_sequences = tokenizer.texts_to_sequences(train_sentences)\n",
    "len_train_sequences = [len(seq) for seq in train_sequences]\n",
    "max_sequence_length = max(len_train_sequences)\n",
    "print(\"Max sequence length:\", max_sequence_length)\n",
    "train_pad_sequences = pad_sequences(train_sequences, maxlen=max_sequence_length, padding='post')\n",
    "\n",
    "val_sequences = tokenizer.texts_to_sequences(val_sentences)\n",
    "len_val_sequences = [len(seq) for seq in val_sequences]\n",
    "val_pad_sequences = pad_sequences(val_sequences, maxlen=max_sequence_length, padding='post')\n",
    "\n",
    "test_sequences = tokenizer.texts_to_sequences(test_sentences)\n",
    "len_test_sequences = [len(seq) for seq in test_sequences]\n",
    "test_pad_sequences = pad_sequences(test_sequences, maxlen=max_sequence_length, padding='post')"
   ]
  },
  {
   "cell_type": "code",
   "execution_count": 34,
   "metadata": {
    "colab": {
     "base_uri": "https://localhost:8080/"
    },
    "executionInfo": {
     "elapsed": 6,
     "status": "ok",
     "timestamp": 1729339842912,
     "user": {
      "displayName": "Jordi Luque",
      "userId": "10816317814088701546"
     },
     "user_tz": -120
    },
    "id": "UQPTc0CyOzLh",
    "outputId": "11200186-8274-4c8a-f948-9e119d71305b"
   },
   "outputs": [
    {
     "name": "stdout",
     "output_type": "stream",
     "text": [
      "-------------Sequences shape------------\n",
      "Train sequences padded shape: (4078, 46)\n",
      "Test sequences padded shape: (893, 46)\n",
      "Validation sequences padded shape: (900, 46)\n"
     ]
    }
   ],
   "source": [
    "print(\"-------------Sequences shape------------\")\n",
    "print(\"Train sequences padded shape:\", train_pad_sequences.shape)\n",
    "print(\"Test sequences padded shape:\", test_pad_sequences.shape)\n",
    "print(\"Validation sequences padded shape:\", val_pad_sequences.shape)\n"
   ]
  },
  {
   "cell_type": "markdown",
   "metadata": {
    "id": "n55MNuHfMegM"
   },
   "source": [
    "\n",
    "---\n",
    "\n"
   ]
  },
  {
   "cell_type": "markdown",
   "metadata": {
    "id": "1wNo-X61OyRc"
   },
   "source": [
    "Tal com vam fer a la primera part, aquí també hem de convertir les diferents classes d'entitats en vectors one-hot."
   ]
  },
  {
   "cell_type": "markdown",
   "metadata": {
    "id": "pD9_A1RJP1LZ"
   },
   "source": [
    "---\n",
    "\n",
    " <h1><a name=\"ex-four\"><center> ✏ Exercici 4 ✏</a></h1>\n",
    "\n",
    "Per aconseguir-ho haureu de seguir els passos següents.\n",
    "\n",
    " 1. En primer lloc, haureu d'esbrinar quantes etiquetes diferents hi ha. Podeu prendre com a exemple la funció `count_unique_entities` per fer-ho. Tingueu en compte que haureu de modificar la funció, ja que per exemple aquesta funció considera que `B-depart_time.time`, `I-depart_time.time`, `L-depart_time.time`, `U-depart_time.time` són la mateixa entitat. En aquest exercici, necessitarem comptar-les per separat. També l'entitat O ha de ser considerada com una classe.\n",
    "\n",
    " 2. El segon pas serà codificar les diferents classes trobades en etiquetes numèriques. Tingueu en compte que cada paraula de l'oració té una etiqueta i, per tant, per a cada oració tindrem una llista d'etiquetes. El *padding* el codificarem amb l'etiqueta corresponent a **O** (outside). Per ajudar-vos hem preparat el processament per a les etiquetes d'entrenament, intenteu comprendre el que es fa i així repetir-ho per a la partició de validació i test.\n",
    "\n",
    " 3. Finalment, haureu de convertir les diferents classes a vectors one-hot. Recordeu de nou que per a cada oració tindrem una llista de vectors one-hot.\n",
    "\n",
    "\n",
    " Podeu consultar els apartats de la documentació:\n",
    " * <a href=https://www.tensorflow.org/guide/keras/understanding_masking_and_padding> Masking and Padding </a>\n",
    "\n",
    " * <a href=https://www.tensorflow.org/api_docs/python/tf/keras/utils/to_categorical> To Categorical </a>\n",
    "\n"
   ]
  },
  {
   "cell_type": "code",
   "execution_count": 45,
   "metadata": {
    "colab": {
     "base_uri": "https://localhost:8080/",
     "height": 502
    },
    "executionInfo": {
     "elapsed": 3003,
     "status": "error",
     "timestamp": 1729339845912,
     "user": {
      "displayName": "Jordi Luque",
      "userId": "10816317814088701546"
     },
     "user_tz": -120
    },
    "id": "Xl8GyFz4MgY3",
    "outputId": "534922cc-2c49-4b35-a3e2-c6c387128a4f"
   },
   "outputs": [
    {
     "name": "stdout",
     "output_type": "stream",
     "text": [
      "-------------Train labels exploration------------\n",
      "Number of different entities: 119\n",
      "Unique entities: Counter({'O': 29586, 'B-toloc.city_name': 3571, 'B-fromloc.city_name': 3549, 'I-toloc.city_name': 898, 'B-depart_date.day_name': 745, 'B-airline_name': 575, 'I-fromloc.city_name': 564, 'B-depart_time.period_of_day': 491, 'I-airline_name': 352, 'B-depart_date.day_number': 316, 'B-depart_time.time': 307, 'B-depart_date.month_name': 303, 'B-round_trip': 275, 'B-flight_mod': 275, 'B-cost_relative': 273, 'B-depart_time.time_relative': 271, 'I-round_trip': 268, 'I-depart_time.time': 249, 'B-stoploc.city_name': 205, 'B-arrive_time.time': 178, 'B-city_name': 177, 'B-class_type': 177, 'B-arrive_time.time_relative': 161, 'I-class_type': 148, 'B-flight_stop': 140, 'I-arrive_time.time': 139, 'B-airline_code': 114, 'I-depart_date.day_number': 96, 'I-fromloc.airport_name': 88, 'B-toloc.state_code': 71, 'B-arrive_date.day_name': 70, 'B-depart_date.today_relative': 66, 'B-fromloc.airport_name': 66, 'B-toloc.state_name': 66, 'B-depart_date.date_relative': 65, 'B-fare_basis_code': 64, 'B-flight_number': 64, 'B-flight_time': 61, 'B-or': 56, 'B-arrive_time.period_of_day': 50, 'I-airport_name': 48, 'B-fare_amount': 47, 'B-meal_description': 46, 'I-fare_amount': 45, 'I-cost_relative': 44, 'I-toloc.airport_name': 43, 'I-city_name': 42, 'B-arrive_date.month_name': 40, 'B-arrive_date.day_number': 40, 'B-meal': 39, 'B-fromloc.state_code': 38, 'B-transport_type': 37, 'I-stoploc.city_name': 36, 'B-toloc.airport_name': 34, 'B-connect': 33, 'B-airport_name': 33, 'B-flight_days': 32, 'B-fromloc.state_name': 32, 'B-economy': 31, 'B-depart_time.period_mod': 29, 'B-aircraft_code': 27, 'I-flight_time': 26, 'B-mod': 24, 'B-depart_time.start_time': 22, 'B-depart_time.end_time': 22, 'B-depart_date.year': 22, 'B-airport_code': 21, 'B-arrive_time.start_time': 16, 'B-restriction_code': 16, 'I-depart_time.end_time': 15, 'I-transport_type': 15, 'I-flight_stop': 15, 'B-arrive_time.end_time': 15, 'I-arrive_time.end_time': 15, 'B-toloc.airport_code': 14, 'I-depart_time.start_time': 12, 'I-restriction_code': 12, 'B-fromloc.airport_code': 11, 'I-toloc.state_name': 11, 'I-flight_mod': 11, 'B-arrive_date.date_relative': 10, 'I-economy': 9, 'B-return_date.date_relative': 9, 'I-fromloc.state_name': 7, 'I-arrive_time.start_time': 6, 'I-depart_date.today_relative': 6, 'I-arrive_date.day_number': 5, 'B-state_code': 5, 'B-day_name': 5, 'B-period_of_day': 5, 'B-stoploc.state_code': 5, 'B-meal_code': 5, 'I-depart_time.period_of_day': 4, 'B-return_date.month_name': 3, 'B-return_date.day_number': 3, 'B-arrive_time.period_mod': 3, 'B-days_code': 3, 'I-arrive_time.period_of_day': 3, 'I-meal_code': 3, 'I-today_relative': 3, 'B-return_time.period_of_day': 3, 'B-time': 2, 'B-toloc.country_name': 2, 'I-fare_basis_code': 2, 'I-arrive_time.time_relative': 2, 'I-depart_time.time_relative': 2, 'I-depart_date.day_name': 2, 'B-today_relative': 2, 'B-return_time.period_mod': 2, 'B-month_name': 2, 'B-day_number': 2, 'I-return_date.date_relative': 2, 'B-state_name': 1, 'B-stoploc.airport_name': 1, 'B-arrive_date.today_relative': 1, 'B-time_relative': 1, 'I-time': 1, 'I-return_date.day_number': 1, 'I-mod': 1})\n",
      "-------------Test labels codification------------\n",
      "Original size: 893\n",
      "Removed sentences: 8\n",
      "Labels removed: {'B-compartment', 'B-stoploc.airport_code', 'I-flight_number', 'I-state_name', 'B-booking_class', 'B-flight', 'B-return_date.day_name'}\n",
      "-------------Validation labels codification------------\n",
      "Original size: 900\n",
      "Removed sentences: 5\n",
      "Labels removed: {'B-return_date.today_relative', 'I-meal_description', 'I-return_date.today_relative', 'B-return_date.day_name'}\n",
      "-------------One-hot encoding shapes------------\n",
      "Train labels one-hot shape: (4078, 46, 119)\n",
      "Test labels one-hot shape: (885, 46, 119)\n",
      "Validation labels one-hot shape: (897, 46, 119)\n",
      "-------------Sequence shapes------------\n",
      "Train sequences shape: (4078, 46)\n",
      "Test sequences shape: (885, 46)\n",
      "Validation sequences shape: (897, 46)\n"
     ]
    }
   ],
   "source": [
    "#TODO\n",
    "#Step 1\n",
    "def count_unique_entities(list_of_label_sentences):\n",
    "  flat_labels = []\n",
    "  for labels in list_of_label_sentences:\n",
    "    flat_labels += labels.split()\n",
    "  unique_entities = Counter(flat_labels)\n",
    "  return len(unique_entities), unique_entities\n",
    "\n",
    "num_unique_entities, unique_entities = count_unique_entities(train_labels)\n",
    "print(\"-------------Train labels exploration------------\")\n",
    "print(\"Number of different entities:\", num_unique_entities)\n",
    "print(\"Unique entities:\", unique_entities)\n",
    "\n",
    "#Step 2\n",
    "label_encoder = LabelEncoder()\n",
    "label_encoder.fit(list(unique_entities.keys()))\n",
    "train_numerical_labels = [label_encoder.transform(labels.split()).tolist() for labels in train_labels]\n",
    "train_pad_labels = pad_sequences(train_numerical_labels, maxlen=max_sequence_length, padding='post', value=label_encoder.transform(['O']))\n",
    "\n",
    "def remove_sentences(list_labels, list_sequences):\n",
    "  idx_to_remove = []\n",
    "  labels_to_remove = set()\n",
    "  for idx, labels in enumerate(list_labels):\n",
    "    for label in labels.split():\n",
    "      if label not in unique_entities:\n",
    "        idx_to_remove.append(idx)\n",
    "        labels_to_remove.add(label)\n",
    "\n",
    "  labels = [elem for i, elem in enumerate(list_labels) if i not in idx_to_remove]\n",
    "  sequences = [elem for i, elem in enumerate(list_sequences) if i not in idx_to_remove]\n",
    "  print(\"Original size:\", len(list_labels))\n",
    "  print(\"Removed sentences:\", len(idx_to_remove))\n",
    "  print(\"Labels removed:\", set(labels_to_remove))\n",
    "  return labels, np.array(sequences)\n",
    "\n",
    "print(\"-------------Test labels codification------------\")\n",
    "test_labels_cleaned, test_pad_sequences = remove_sentences(test_labels, test_pad_sequences)\n",
    "test_numerical_labels = [label_encoder.transform(labels.split()).tolist() for labels in test_labels_cleaned]\n",
    "test_pad_labels = pad_sequences(test_numerical_labels, maxlen=max_sequence_length, padding='post', value=label_encoder.transform(['O']))\n",
    "\n",
    "print(\"-------------Validation labels codification------------\")\n",
    "val_labels_cleaned, val_pad_sequences = remove_sentences(val_labels, val_pad_sequences)\n",
    "val_numerical_labels = [label_encoder.transform(labels.split()).tolist() for labels in val_labels_cleaned]\n",
    "val_pad_labels = pad_sequences(val_numerical_labels, maxlen=max_sequence_length, padding='post', value=label_encoder.transform(['O']))\n",
    "\n",
    "#Step 3\n",
    "train_labels_one_hot = to_categorical(train_pad_labels, num_classes=len(label_encoder.classes_))\n",
    "test_labels_one_hot = to_categorical(test_pad_labels, num_classes=len(label_encoder.classes_))\n",
    "val_labels_one_hot = to_categorical(val_pad_labels, num_classes=len(label_encoder.classes_))\n",
    "print(\"-------------One-hot encoding shapes------------\")\n",
    "print(\"Train labels one-hot shape:\", train_labels_one_hot.shape)\n",
    "print(\"Test labels one-hot shape:\", test_labels_one_hot.shape)\n",
    "print(\"Validation labels one-hot shape:\", val_labels_one_hot.shape)\n",
    "print(\"-------------Sequence shapes------------\")\n",
    "print(\"Train sequences shape:\", train_pad_sequences.shape)\n",
    "print(\"Test sequences shape:\", test_pad_sequences.shape)\n",
    "print(\"Validation sequences shape:\", val_pad_sequences.shape)"
   ]
  },
  {
   "cell_type": "markdown",
   "metadata": {
    "id": "975GjI0tp7_9"
   },
   "source": [
    "<h1><a name=\"section-three\"> 3. Disseny del model i entrenament </a></h1>"
   ]
  },
  {
   "cell_type": "markdown",
   "metadata": {
    "id": "UMY7LjpHv7GZ"
   },
   "source": [
    "---\n",
    "<h1><a name=\"ex-five\"><center> ✏ Exercici 5 ✏</a></h1>\n",
    "\n",
    "De forma similar com féreu a la primera part de la pràctica us demanem que dissenyeu l'arquitectura i entreneu el model. Podeu fer servir una arquitectura similar. Ara bé, per capturar les dependències seqüencials podeu canviar la capa de GlobalMaxPooling1D per una LSTM."
   ]
  },
  {
   "cell_type": "code",
   "execution_count": 38,
   "metadata": {
    "executionInfo": {
     "elapsed": 5,
     "status": "aborted",
     "timestamp": 1729339845913,
     "user": {
      "displayName": "Jordi Luque",
      "userId": "10816317814088701546"
     },
     "user_tz": -120
    },
    "id": "O8Ed4x77t_4d",
    "outputId": "260aadd4-e692-46cc-e612-cbc4d43e6602"
   },
   "outputs": [
    {
     "name": "stdout",
     "output_type": "stream",
     "text": [
      "(187588,) [  0   1   2   3   4   5   6   7   8   9  10  11  12  13  14  15  16  17\n",
      "  18  19  20  21  22  23  24  25  26  27  28  29  30  31  32  33  34  35\n",
      "  36  37  38  39  40  41  42  43  44  45  46  47  48  49  50  51  52  53\n",
      "  54  55  56  57  58  59  60  61  62  63  64  65  66  67  68  69  70  71\n",
      "  72  73  74  75  76  77  78  79  80  81  82  83  84  85  86  87  88  89\n",
      "  90  91  92  93  94  95  96  97  98  99 100 101 102 103 104 105 106 107\n",
      " 108 109 110 111 112 113 114 115 116 117 118]\n",
      "(40710,) [  0   1   2   3   4   5   6   7   8  10  12  13  14  15  16  17  18  19\n",
      "  20  22  23  24  25  26  27  28  29  30  31  32  33  34  35  36  37  38\n",
      "  39  40  41  42  43  44  45  46  47  48  49  50  51  53  54  55  56  61\n",
      "  62  63  65  70  71  72  73  74  75  76  77  78  80  82  83  84  85  86\n",
      "  87  89  91  92  93  94  95  97  99 101 102 103 104 107 108 110 111 114\n",
      " 115 116 117 118]\n",
      "(41262,) [  0   1   2   3   4   5   6   7   8   9  10  11  12  13  14  15  16  17\n",
      "  18  19  23  24  25  26  27  28  29  30  31  32  33  34  35  36  37  38\n",
      "  39  40  41  42  43  44  45  46  47  48  49  50  51  53  55  56  57  58\n",
      "  61  62  63  65  70  71  72  73  74  75  76  77  78  79  80  82  83  85\n",
      "  86  87  88  89  90  91  92  93  94  96  97 100 101 102 103 104 105 107\n",
      " 110 111 114 115 116 117 118]\n"
     ]
    }
   ],
   "source": [
    "s = train_pad_labels.shape\n",
    "train_flat_labels = train_pad_labels.reshape(s[0]*s[1])\n",
    "train_unq_labels = np.unique(train_flat_labels)\n",
    "print(train_flat_labels.shape, train_unq_labels)\n",
    "\n",
    "s = test_pad_labels.shape\n",
    "test_flat_labels = test_pad_labels.reshape(s[0]*s[1])\n",
    "test_unq_labels = np.unique(test_flat_labels)\n",
    "print(test_flat_labels.shape, test_unq_labels)\n",
    "\n",
    "s = val_pad_labels.shape\n",
    "val_flat_labels = val_pad_labels.reshape(s[0]*s[1])\n",
    "val_unq_labels = np.unique(val_flat_labels)\n",
    "print(val_flat_labels.shape, val_unq_labels)"
   ]
  },
  {
   "cell_type": "code",
   "execution_count": 9,
   "metadata": {
    "id": "XMPaZzX4sdH4"
   },
   "outputs": [],
   "source": [
    "class TransformerBlock(keras.layers.Layer):\n",
    "    def __init__(self, embed_dim, num_heads, ff_dim, rate=0.1): #num_heads no es full attention\n",
    "        super().__init__()\n",
    "        self.att = keras.layers.MultiHeadAttention(\n",
    "            num_heads=num_heads, key_dim=embed_dim\n",
    "        )\n",
    "        self.ffn = keras.Sequential(\n",
    "            [\n",
    "                keras.layers.Dense(ff_dim, activation=\"relu\"),\n",
    "                keras.layers.Dense(embed_dim),\n",
    "            ]\n",
    "        )\n",
    "        self.layernorm1 = keras.layers.LayerNormalization(epsilon=1e-6)\n",
    "        self.layernorm2 = keras.layers.LayerNormalization(epsilon=1e-6)\n",
    "        self.dropout1 = keras.layers.Dropout(rate)\n",
    "        self.dropout2 = keras.layers.Dropout(rate)\n",
    "\n",
    "    def call(self, inputs, training=False): #Training argument for dropout layers when training\n",
    "        attn_output = self.att(inputs, inputs) #Self-attention\n",
    "        attn_output = self.dropout1(attn_output, training=training)\n",
    "        out1 = self.layernorm1(inputs + attn_output)\n",
    "        ffn_output = self.ffn(out1)\n",
    "        ffn_output = self.dropout2(ffn_output, training=training)\n",
    "        return self.layernorm2(out1 + ffn_output)\n",
    "\n",
    "\n",
    "class TokenAndPositionEmbedding(keras.layers.Layer):\n",
    "    def __init__(self, maxlen, vocab_size, embed_dim):\n",
    "        super().__init__()\n",
    "        self.token_emb = keras.layers.Embedding(\n",
    "            input_dim=vocab_size, output_dim=embed_dim\n",
    "        )\n",
    "        self.pos_emb = keras.layers.Embedding(input_dim=maxlen, output_dim=embed_dim)\n",
    "\n",
    "    def call(self, inputs):\n",
    "        maxlen = tf.shape(inputs)[-1]\n",
    "        positions = tf.range(start=0, limit=maxlen, delta=1)\n",
    "        position_embeddings = self.pos_emb(positions)\n",
    "        token_embeddings = self.token_emb(inputs)\n",
    "        return token_embeddings + position_embeddings\n",
    "\n",
    "\n",
    "\n"
   ]
  },
  {
   "cell_type": "code",
   "execution_count": 46,
   "metadata": {},
   "outputs": [
    {
     "name": "stdout",
     "output_type": "stream",
     "text": [
      "-------------Shapes of one-hot labels and padded sequences------------\n",
      "Train labels one-hot shape: (4078, 46, 119)\n",
      "Train sequences padded shape: (4078, 46)\n",
      "Test labels one-hot shape: (885, 46, 119)\n",
      "Test sequences padded shape: (885, 46)\n",
      "Validation labels one-hot shape: (897, 46, 119)\n",
      "Validation sequences padded shape: (897, 46)\n"
     ]
    }
   ],
   "source": [
    "print(\"-------------Shapes of one-hot labels and padded sequences------------\")\n",
    "print(\"Train labels one-hot shape:\", train_labels_one_hot.shape)\n",
    "print(\"Train sequences padded shape:\", train_pad_sequences.shape)\n",
    "print(\"Test labels one-hot shape:\", test_labels_one_hot.shape)\n",
    "print(\"Test sequences padded shape:\", test_pad_sequences.shape)\n",
    "print(\"Validation labels one-hot shape:\", val_labels_one_hot.shape)\n",
    "print(\"Validation sequences padded shape:\", val_pad_sequences.shape)\n"
   ]
  },
  {
   "cell_type": "code",
   "execution_count": 47,
   "metadata": {
    "executionInfo": {
     "elapsed": 5,
     "status": "aborted",
     "timestamp": 1729339845913,
     "user": {
      "displayName": "Jordi Luque",
      "userId": "10816317814088701546"
     },
     "user_tz": -120
    },
    "id": "PcWiSLm3nvdW",
    "outputId": "c78992d5-2225-4e73-ef9a-54793194fa1a"
   },
   "outputs": [
    {
     "name": "stdout",
     "output_type": "stream",
     "text": [
      "Parameters:\n",
      "Embedding Dimension: 128\n",
      "Vocabulary Size: 831\n",
      "Number of Heads: 4\n",
      "Feed Forward Dimension: 128\n",
      "Number of Classes: 119\n",
      "Epoch 1/10\n",
      "\u001b[1m128/128\u001b[0m \u001b[32m━━━━━━━━━━━━━━━━━━━━\u001b[0m\u001b[37m\u001b[0m \u001b[1m7s\u001b[0m 37ms/step - accuracy: 0.8993 - loss: 0.5430 - val_accuracy: 0.9683 - val_loss: 0.1327\n",
      "Epoch 2/10\n",
      "\u001b[1m128/128\u001b[0m \u001b[32m━━━━━━━━━━━━━━━━━━━━\u001b[0m\u001b[37m\u001b[0m \u001b[1m4s\u001b[0m 33ms/step - accuracy: 0.9741 - loss: 0.0754 - val_accuracy: 0.9716 - val_loss: 0.1215\n",
      "Epoch 3/10\n",
      "\u001b[1m128/128\u001b[0m \u001b[32m━━━━━━━━━━━━━━━━━━━━\u001b[0m\u001b[37m\u001b[0m \u001b[1m4s\u001b[0m 33ms/step - accuracy: 0.9778 - loss: 0.0600 - val_accuracy: 0.9752 - val_loss: 0.1165\n",
      "Epoch 4/10\n",
      "\u001b[1m128/128\u001b[0m \u001b[32m━━━━━━━━━━━━━━━━━━━━\u001b[0m\u001b[37m\u001b[0m \u001b[1m4s\u001b[0m 33ms/step - accuracy: 0.9824 - loss: 0.0492 - val_accuracy: 0.9799 - val_loss: 0.1074\n",
      "Epoch 5/10\n",
      "\u001b[1m128/128\u001b[0m \u001b[32m━━━━━━━━━━━━━━━━━━━━\u001b[0m\u001b[37m\u001b[0m \u001b[1m4s\u001b[0m 33ms/step - accuracy: 0.9871 - loss: 0.0385 - val_accuracy: 0.9824 - val_loss: 0.1034\n",
      "Epoch 6/10\n",
      "\u001b[1m128/128\u001b[0m \u001b[32m━━━━━━━━━━━━━━━━━━━━\u001b[0m\u001b[37m\u001b[0m \u001b[1m4s\u001b[0m 33ms/step - accuracy: 0.9905 - loss: 0.0301 - val_accuracy: 0.9836 - val_loss: 0.1035\n",
      "Epoch 7/10\n",
      "\u001b[1m128/128\u001b[0m \u001b[32m━━━━━━━━━━━━━━━━━━━━\u001b[0m\u001b[37m\u001b[0m \u001b[1m4s\u001b[0m 33ms/step - accuracy: 0.9922 - loss: 0.0247 - val_accuracy: 0.9849 - val_loss: 0.1011\n",
      "Epoch 8/10\n",
      "\u001b[1m128/128\u001b[0m \u001b[32m━━━━━━━━━━━━━━━━━━━━\u001b[0m\u001b[37m\u001b[0m \u001b[1m4s\u001b[0m 33ms/step - accuracy: 0.9941 - loss: 0.0203 - val_accuracy: 0.9859 - val_loss: 0.0995\n",
      "Epoch 9/10\n",
      "\u001b[1m128/128\u001b[0m \u001b[32m━━━━━━━━━━━━━━━━━━━━\u001b[0m\u001b[37m\u001b[0m \u001b[1m4s\u001b[0m 34ms/step - accuracy: 0.9949 - loss: 0.0168 - val_accuracy: 0.9863 - val_loss: 0.1008\n",
      "Epoch 10/10\n",
      "\u001b[1m128/128\u001b[0m \u001b[32m━━━━━━━━━━━━━━━━━━━━\u001b[0m\u001b[37m\u001b[0m \u001b[1m4s\u001b[0m 34ms/step - accuracy: 0.9955 - loss: 0.0148 - val_accuracy: 0.9866 - val_loss: 0.1023\n",
      "\u001b[1m28/28\u001b[0m \u001b[32m━━━━━━━━━━━━━━━━━━━━\u001b[0m\u001b[37m\u001b[0m \u001b[1m0s\u001b[0m 11ms/step - accuracy: 0.9857 - loss: 0.1059\n",
      "Test accuracy: 0.99\n"
     ]
    }
   ],
   "source": [
    "#TODO\n",
    "embedding_dim = 128\n",
    "vocab_size = len(tokenizer.word_index) + 1\n",
    "num_heads = 4\n",
    "ff_dim = 128\n",
    "num_classes = len(label_encoder.classes_)\n",
    "print(\"Parameters:\")\n",
    "print(\"Embedding Dimension:\", embedding_dim)\n",
    "print(\"Vocabulary Size:\", vocab_size)\n",
    "print(\"Number of Heads:\", num_heads)\n",
    "print(\"Feed Forward Dimension:\", ff_dim)\n",
    "print(\"Number of Classes:\", num_classes)\n",
    "\n",
    "model = Sequential()\n",
    "model.add(TokenAndPositionEmbedding(max_sequence_length, vocab_size, embedding_dim))\n",
    "model.add(TransformerBlock(embedding_dim, num_heads, ff_dim))\n",
    "#model.add(keras.layers.GlobalAveragePooling1D())\n",
    "model.add(keras.layers.Dense(num_classes, activation=\"softmax\"))\n",
    "\n",
    "model.compile(loss=\"categorical_crossentropy\", optimizer=\"adam\", metrics=[\"accuracy\"])\n",
    "\n",
    "# Train the model\n",
    "batch_size = 32\n",
    "epochs = 10\n",
    "model.fit(train_pad_sequences, train_labels_one_hot, batch_size=batch_size, epochs=epochs, validation_data=(val_pad_sequences, val_labels_one_hot))\n",
    "\n",
    "# Evaluate the model on the test set\n",
    "loss, accuracy = model.evaluate(test_pad_sequences, test_labels_one_hot)\n",
    "print(f\"Test accuracy: {accuracy:.2f}\")\n"
   ]
  },
  {
   "cell_type": "code",
   "execution_count": 48,
   "metadata": {
    "executionInfo": {
     "elapsed": 5,
     "status": "aborted",
     "timestamp": 1729339845913,
     "user": {
      "displayName": "Jordi Luque",
      "userId": "10816317814088701546"
     },
     "user_tz": -120
    },
    "id": "-ts_03xMaADp",
    "outputId": "8ca6b805-d682-43e6-98e7-a78ac14682ea"
   },
   "outputs": [
    {
     "name": "stdout",
     "output_type": "stream",
     "text": [
      "\u001b[1m28/28\u001b[0m \u001b[32m━━━━━━━━━━━━━━━━━━━━\u001b[0m\u001b[37m\u001b[0m \u001b[1m1s\u001b[0m 15ms/step\n"
     ]
    }
   ],
   "source": [
    "preds = model.predict(test_pad_sequences)"
   ]
  },
  {
   "cell_type": "code",
   "execution_count": 49,
   "metadata": {
    "executionInfo": {
     "elapsed": 5,
     "status": "aborted",
     "timestamp": 1729339845913,
     "user": {
      "displayName": "Jordi Luque",
      "userId": "10816317814088701546"
     },
     "user_tz": -120
    },
    "id": "4cP_IiZFmFK8",
    "outputId": "8fd62240-9089-4164-c836-53bc234a9834"
   },
   "outputs": [
    {
     "data": {
      "text/plain": [
       "(885, 46, 119)"
      ]
     },
     "execution_count": 49,
     "metadata": {},
     "output_type": "execute_result"
    }
   ],
   "source": [
    "preds.shape"
   ]
  },
  {
   "cell_type": "code",
   "execution_count": 12,
   "metadata": {
    "id": "nxFoy2UBktFS"
   },
   "outputs": [],
   "source": [
    "def preds_to_index(preds, seq_lens):\n",
    "  '''\n",
    "  Turn predictions to numerical indexes, flatten the sentences and discard padding.\n",
    "  '''\n",
    "  idx_preds = []\n",
    "  for pred, seq_len in zip(preds,seq_lens):\n",
    "      for l in range(seq_len):\n",
    "        idx_preds.append(np.argmax(pred[l]))\n",
    "  return idx_preds\n",
    "\n"
   ]
  },
  {
   "cell_type": "markdown",
   "metadata": {
    "id": "LeVIzSA4NYgD"
   },
   "source": [
    "Com ja sabeu, NER es una tasca on les dades estan molt desbalancejades. La gran majoria de les nostres etiquetes serán 'O' (outside). Es pot donar el cas on el model tingui una accuracy molt alta predint sempre 'O'.\n",
    "\n",
    "Per mesurar millor com de bó és el nostre model, calcularem la F1 score per cada classe, així com la mitjana (macro average). Quan prepareu el vostre document, heu de reportar aquesta mitjana com a mètrica del vostre model, no l'acuracy."
   ]
  },
  {
   "cell_type": "code",
   "execution_count": 53,
   "metadata": {
    "executionInfo": {
     "elapsed": 4,
     "status": "aborted",
     "timestamp": 1729339845913,
     "user": {
      "displayName": "Jordi Luque",
      "userId": "10816317814088701546"
     },
     "user_tz": -120
    },
    "id": "f4DL7Tota13v",
    "outputId": "174eab75-10d9-4093-fbb3-6c88710cdc11"
   },
   "outputs": [
    {
     "name": "stdout",
     "output_type": "stream",
     "text": [
      "              precision    recall  f1-score   support\n",
      "\n",
      "           0       1.00      0.71      0.83        24\n",
      "           1       0.89      0.83      0.86        29\n",
      "           2       0.95      0.96      0.96        79\n",
      "           3       1.00      0.12      0.22         8\n",
      "           4       0.86      0.33      0.48        18\n",
      "           5       1.00      1.00      1.00         1\n",
      "           6       0.50      0.29      0.36         7\n",
      "           7       0.50      0.33      0.40         3\n",
      "           8       1.00      0.67      0.80         3\n",
      "          12       0.67      1.00      0.80         2\n",
      "          13       1.00      0.00      0.00         3\n",
      "          14       0.58      0.85      0.69        13\n",
      "          15       0.86      0.86      0.86        14\n",
      "          16       0.71      0.63      0.67        43\n",
      "          17       0.92      1.00      0.96        24\n",
      "          18       1.00      0.67      0.80         6\n",
      "          19       1.00      1.00      1.00        33\n",
      "          20       1.00      0.00      0.00         2\n",
      "          23       1.00      1.00      1.00        10\n",
      "          24       0.94      0.98      0.96       140\n",
      "          25       0.97      0.91      0.94        33\n",
      "          26       0.98      1.00      0.99        41\n",
      "          27       1.00      0.83      0.91         6\n",
      "          29       1.00      0.00      0.00         3\n",
      "          30       0.00      0.00      0.00         1\n",
      "          31       0.98      0.93      0.95        85\n",
      "          32       0.50      0.33      0.40         3\n",
      "          33       0.74      0.89      0.81        19\n",
      "          34       0.97      0.94      0.95        32\n",
      "          35       1.00      1.00      1.00         5\n",
      "          37       1.00      0.71      0.83        14\n",
      "          38       1.00      1.00      1.00         7\n",
      "          39       0.96      1.00      0.98        22\n",
      "          40       1.00      0.17      0.29         6\n",
      "          41       0.94      1.00      0.97        17\n",
      "          42       1.00      1.00      1.00         1\n",
      "          43       1.00      1.00      1.00         3\n",
      "          44       0.20      0.25      0.22         8\n",
      "          45       0.94      0.97      0.96       613\n",
      "          46       1.00      0.94      0.97        18\n",
      "          47       1.00      0.75      0.86        12\n",
      "          48       0.92      1.00      0.96        11\n",
      "          49       1.00      0.00      0.00         1\n",
      "          50       1.00      0.60      0.75         5\n",
      "          51       1.00      0.00      0.00         1\n",
      "          53       0.00      1.00      0.00         0\n",
      "          54       1.00      0.00      0.00         3\n",
      "          55       1.00      0.75      0.86         4\n",
      "          61       0.98      1.00      0.99        62\n",
      "          62       1.00      0.00      0.00         1\n",
      "          63       1.00      0.00      0.00         7\n",
      "          65       1.00      0.43      0.60         7\n",
      "          70       1.00      0.50      0.67         2\n",
      "          71       1.00      0.33      0.50         3\n",
      "          72       0.94      0.96      0.95       519\n",
      "          74       0.86      1.00      0.92        12\n",
      "          75       0.86      0.92      0.89        13\n",
      "          76       1.00      1.00      1.00        10\n",
      "          77       0.94      0.90      0.92        52\n",
      "          78       1.00      0.14      0.24        22\n",
      "          80       0.00      1.00      0.00         0\n",
      "          83       0.78      0.78      0.78         9\n",
      "          85       0.69      0.39      0.50        23\n",
      "          86       1.00      1.00      1.00        16\n",
      "          87       1.00      1.00      1.00         2\n",
      "          89       1.00      0.83      0.91         6\n",
      "          91       1.00      0.33      0.50         3\n",
      "          93       0.00      0.00      0.00         1\n",
      "          94       0.67      0.86      0.75        14\n",
      "          95       1.00      0.00      0.00         1\n",
      "          99       1.00      0.17      0.29         6\n",
      "         101       1.00      1.00      1.00         1\n",
      "         102       0.28      0.62      0.38         8\n",
      "         103       0.93      0.95      0.94       143\n",
      "         107       1.00      0.67      0.80         3\n",
      "         110       0.97      1.00      0.98        58\n",
      "         111       1.00      0.50      0.67         4\n",
      "         114       0.75      1.00      0.86         3\n",
      "         115       0.91      0.95      0.93       147\n",
      "         116       1.00      1.00      1.00         1\n",
      "         117       1.00      0.00      0.00         1\n",
      "         118       0.99      0.99      0.99      6414\n",
      "\n",
      "    accuracy                           0.97      9010\n",
      "   macro avg       0.87      0.66      0.66      9010\n",
      "weighted avg       0.97      0.97      0.97      9010\n",
      "\n"
     ]
    }
   ],
   "source": [
    "test_labels_idx = preds_to_index(test_labels_one_hot,len_test_sequences)\n",
    "preds_idx = preds_to_index(preds, len_test_sequences)\n",
    "\n",
    "print(classification_report(test_labels_idx, preds_idx, zero_division=1.0))"
   ]
  },
  {
   "cell_type": "markdown",
   "metadata": {
    "id": "VArxTPJgEaTx"
   },
   "source": [
    "A continuació podeu veure algunes prediccions del model."
   ]
  },
  {
   "cell_type": "code",
   "execution_count": 54,
   "metadata": {
    "executionInfo": {
     "elapsed": 4,
     "status": "aborted",
     "timestamp": 1729339845913,
     "user": {
      "displayName": "Jordi Luque",
      "userId": "10816317814088701546"
     },
     "user_tz": -120
    },
    "id": "_S4H2EqYmiqs",
    "outputId": "4dd0bfcf-6a6e-4d3b-a537-bd5e02474cc6"
   },
   "outputs": [
    {
     "name": "stdout",
     "output_type": "stream",
     "text": [
      "\u001b[1m28/28\u001b[0m \u001b[32m━━━━━━━━━━━━━━━━━━━━\u001b[0m\u001b[37m\u001b[0m \u001b[1m0s\u001b[0m 10ms/step\n",
      "Sentence:  i would like to find a flight from charlotte to las vegas that makes a stop in st. louis\n",
      "Original label:   O O O O O O O O B-fromloc.city_name O B-toloc.city_name I-toloc.city_name O O O O O B-stoploc.city_name I-stoploc.city_name\n",
      "Predicted label:  ['O', 'O', 'O', 'O', 'O', 'O', 'O', 'O', 'B-fromloc.city_name', 'O', 'B-toloc.city_name', 'I-toloc.city_name', 'O', 'O', 'O', 'O', 'O', 'B-stoploc.city_name', 'I-stoploc.city_name', 'O', 'O', 'O', 'O', 'O', 'O', 'O', 'O', 'O', 'O', 'O', 'O', 'O', 'O', 'O', 'O', 'O', 'O', 'O', 'O', 'O', 'O', 'O', 'O', 'O', 'O', 'O']\n",
      "\n",
      "Sentence:  on april first i need a ticket from tacoma to san jose departing before 7 am\n",
      "Original label:   O B-depart_date.month_name B-depart_date.day_number O O O O O B-fromloc.city_name O B-toloc.city_name I-toloc.city_name O B-depart_time.time_relative B-depart_time.time I-depart_time.time\n",
      "Predicted label:  ['O', 'B-depart_date.month_name', 'B-class_type', 'O', 'O', 'O', 'O', 'O', 'B-fromloc.city_name', 'O', 'B-toloc.city_name', 'I-toloc.city_name', 'O', 'B-depart_time.time_relative', 'B-depart_time.time', 'I-depart_time.time', 'O', 'O', 'O', 'O', 'O', 'O', 'O', 'O', 'O', 'O', 'O', 'O', 'O', 'O', 'O', 'O', 'O', 'O', 'O', 'O', 'O', 'O', 'O', 'O', 'O', 'O', 'O', 'O', 'O', 'O']\n",
      "\n",
      "Sentence:  on april first i need a flight going from phoenix to san diego\n",
      "Original label:   O B-depart_date.month_name B-depart_date.day_number O O O O O O B-fromloc.city_name O B-toloc.city_name I-toloc.city_name\n",
      "Predicted label:  ['O', 'B-depart_date.month_name', 'B-flight_mod', 'O', 'O', 'O', 'O', 'O', 'O', 'B-fromloc.city_name', 'O', 'B-toloc.city_name', 'I-toloc.city_name', 'O', 'O', 'O', 'O', 'O', 'O', 'O', 'O', 'O', 'O', 'O', 'O', 'O', 'O', 'O', 'O', 'O', 'O', 'O', 'O', 'O', 'O', 'O', 'O', 'O', 'O', 'O', 'O', 'O', 'O', 'O', 'O', 'O']\n",
      "\n",
      "Sentence:  i would like a flight traveling one way from phoenix to san diego on april first\n",
      "Original label:   O O O O O O B-round_trip I-round_trip O B-fromloc.city_name O B-toloc.city_name I-toloc.city_name O B-depart_date.month_name B-depart_date.day_number\n",
      "Predicted label:  ['O', 'O', 'O', 'O', 'O', 'O', 'B-round_trip', 'I-round_trip', 'O', 'B-fromloc.city_name', 'O', 'B-toloc.city_name', 'I-toloc.city_name', 'O', 'B-depart_date.month_name', 'B-depart_date.day_number', 'O', 'O', 'O', 'O', 'O', 'O', 'O', 'O', 'O', 'O', 'O', 'O', 'O', 'O', 'O', 'O', 'O', 'O', 'O', 'O', 'O', 'O', 'O', 'O', 'O', 'O', 'O', 'O', 'O', 'O']\n",
      "\n",
      "Sentence:  i would like a flight from orlando to salt lake city for april first on delta airlines\n",
      "Original label:   O O O O O O B-fromloc.city_name O B-toloc.city_name I-toloc.city_name I-toloc.city_name O B-depart_date.month_name B-depart_date.day_number O B-airline_name I-airline_name\n",
      "Predicted label:  ['O', 'O', 'O', 'O', 'O', 'O', 'B-fromloc.city_name', 'O', 'B-toloc.city_name', 'I-toloc.city_name', 'I-toloc.city_name', 'O', 'B-depart_date.month_name', 'B-depart_date.day_number', 'O', 'B-airline_name', 'I-airline_name', 'O', 'O', 'O', 'O', 'O', 'O', 'O', 'O', 'O', 'O', 'O', 'O', 'O', 'O', 'O', 'O', 'O', 'O', 'O', 'O', 'O', 'O', 'O', 'O', 'O', 'O', 'O', 'O', 'O']\n",
      "\n",
      "Sentence:  i need a flight from toronto to newark one way leaving wednesday evening or thursday morning\n",
      "Original label:   O O O O O B-fromloc.city_name O B-toloc.city_name B-round_trip I-round_trip O B-depart_date.day_name B-depart_time.period_of_day O B-depart_date.day_name B-depart_time.period_of_day\n",
      "Predicted label:  ['O', 'O', 'O', 'O', 'O', 'B-fromloc.city_name', 'O', 'B-toloc.city_name', 'B-round_trip', 'I-round_trip', 'O', 'B-depart_date.day_name', 'B-depart_time.period_of_day', 'B-or', 'B-depart_date.day_name', 'B-depart_time.period_of_day', 'O', 'O', 'O', 'O', 'O', 'O', 'O', 'O', 'O', 'O', 'O', 'O', 'O', 'O', 'O', 'O', 'O', 'O', 'O', 'O', 'O', 'O', 'O', 'O', 'O', 'O', 'O', 'O', 'O', 'O']\n",
      "\n",
      "Sentence:  monday morning i would like to fly from columbus to indianapolis\n",
      "Original label:   B-depart_date.day_name B-depart_time.period_of_day O O O O O O B-fromloc.city_name O B-toloc.city_name\n",
      "Predicted label:  ['B-depart_date.day_name', 'B-depart_time.period_of_day', 'O', 'O', 'O', 'O', 'O', 'O', 'B-fromloc.city_name', 'O', 'B-toloc.city_name', 'O', 'O', 'O', 'O', 'O', 'O', 'O', 'O', 'O', 'O', 'O', 'O', 'O', 'O', 'O', 'O', 'O', 'O', 'O', 'O', 'O', 'O', 'O', 'O', 'O', 'O', 'O', 'O', 'O', 'O', 'O', 'O', 'O', 'O', 'O']\n",
      "\n",
      "Sentence:  on wednesday april sixth i would like to fly from long beach to columbus after 3 pm\n",
      "Original label:   O B-depart_date.day_name B-depart_date.month_name B-depart_date.day_number O O O O O O B-fromloc.city_name I-fromloc.city_name O B-toloc.city_name B-depart_time.time_relative B-depart_time.time I-depart_time.time\n",
      "Predicted label:  ['O', 'B-depart_date.day_name', 'B-depart_date.month_name', 'B-depart_date.day_number', 'O', 'O', 'O', 'O', 'O', 'O', 'B-fromloc.city_name', 'I-fromloc.city_name', 'O', 'B-toloc.city_name', 'B-depart_time.time_relative', 'B-depart_time.time', 'I-depart_time.time', 'O', 'O', 'O', 'O', 'O', 'O', 'O', 'O', 'O', 'O', 'O', 'O', 'O', 'O', 'O', 'O', 'O', 'O', 'O', 'O', 'O', 'O', 'O', 'O', 'O', 'O', 'O', 'O', 'O']\n",
      "\n",
      "Sentence:  after 12 pm on wednesday april sixth i would like to fly from long beach to columbus\n",
      "Original label:   B-depart_time.time_relative B-depart_time.time I-depart_time.time O B-depart_date.day_name B-depart_date.month_name B-depart_date.day_number O O O O O O B-fromloc.city_name I-fromloc.city_name O B-toloc.city_name\n",
      "Predicted label:  ['B-depart_time.time_relative', 'B-depart_time.time', 'I-depart_time.time', 'O', 'B-depart_date.day_name', 'B-depart_date.month_name', 'B-depart_date.day_number', 'O', 'O', 'O', 'O', 'O', 'O', 'B-toloc.city_name', 'I-fromloc.city_name', 'O', 'B-toloc.city_name', 'O', 'O', 'O', 'O', 'O', 'O', 'O', 'O', 'O', 'O', 'O', 'O', 'O', 'O', 'O', 'O', 'O', 'O', 'O', 'O', 'O', 'O', 'O', 'O', 'O', 'O', 'O', 'O', 'O']\n",
      "\n",
      "Sentence:  are there any flights from long beach to columbus on wednesday april sixth\n",
      "Original label:   O O O O O B-fromloc.city_name I-fromloc.city_name O B-toloc.city_name O B-depart_date.day_name B-depart_date.month_name B-depart_date.day_number\n",
      "Predicted label:  ['O', 'O', 'O', 'O', 'O', 'B-fromloc.city_name', 'I-fromloc.city_name', 'O', 'B-toloc.city_name', 'O', 'B-depart_date.day_name', 'B-depart_date.month_name', 'B-depart_date.day_number', 'O', 'O', 'O', 'O', 'O', 'O', 'O', 'O', 'O', 'O', 'O', 'O', 'O', 'O', 'O', 'O', 'O', 'O', 'O', 'O', 'O', 'O', 'O', 'O', 'O', 'O', 'O', 'O', 'O', 'O', 'O', 'O', 'O']\n",
      "\n"
     ]
    }
   ],
   "source": [
    "probs = model.predict(test_pad_sequences)\n",
    "_predicted_labels = np.argmax(probs, axis=2)\n",
    "\n",
    "predicted_labels = [list(label_encoder.inverse_transform(label)) for label in _predicted_labels]\n",
    "\n",
    "for i in range(0, 10):\n",
    "    print('Sentence: ', test_sentences[i])\n",
    "    print('Original label: ', test_labels[i])\n",
    "    print('Predicted label: ', predicted_labels[i])\n",
    "    print()"
   ]
  },
  {
   "cell_type": "markdown",
   "metadata": {
    "id": "65EQLymROmPX"
   },
   "source": [
    "---\n",
    "\n",
    " <h1><a name=\"ex-six\"><center> ✏ Exercici 6 ✏ </a></h1>\n",
    "\n",
    "Modifiqueu els següents paràmetres del model anterior i analitzeu com afecten a la seva *accuracy*:\n",
    "\n",
    " 1. **Mida dels Embeddings.** Proveu diferents mides d'*Embeddings* i observeu com canvia l'*accuracy* del model. Heu d'explicar les vostres conclusions.\n",
    "\n",
    " 2. **Xarxes Convolucionals.** Afegiu capes convolucionals al vostre model. Expliqueu amb detall els valors que heu provat i la vostra motivació a l'hora d'escollir-los. Recordeu, que també podeu provar diferents configuracions de *pooling*.\n",
    "\n",
    " 3. **Xarxes Recurrents.**  Afegiu capes recurrents al vostre model (LSTM, GRU). Expliqueu amb detall els valors que heu provat i la vostra motivació.\n",
    "\n",
    " 4. ** Transformer.** Afegiu blocs de Transformer al vostre model. Expliqueu amb detall els valors que heu provat i la vostra motivació.\n",
    "\n",
    " 5. **Regularització.** Quan proveu configuracions amb més paràmetres veureu que el model comença a tenir *overfitting* molt prompte durant l'entrenament. Afegiu *Dropout* al vostre model. Heu d'explicar la vostra decisió de valors i de posició dins de la xarxa.\n",
    "\n",
    "\n",
    " 6. **Balancejat de les classes.** Si analitzeu el dataset, veureu que la freqüència de les classes està molt desbalancejada. Keras us permet afegir un pes per a cada classe a l'hora de calcular la loss (Mireu el paràmetre \"class_weigth\" a la documentació https://keras.io/api/models/model_training_apis/). Calculeu un pes per a cada classe i afegiu-lo al mètode fit del vostre model.\n",
    "\n",
    " ---"
   ]
  },
  {
   "cell_type": "code",
   "execution_count": 15,
   "metadata": {},
   "outputs": [],
   "source": [
    "def iniciar_datoset():\n",
    "    #Download and extract dataset\n",
    "    train_data = pd.read_csv('data/train.csv', header=None)\n",
    "    val_data = train_data.tail(900)\n",
    "    train_data = pd.read_csv('./data/train.csv', header=None, nrows=4078)\n",
    "    test_data = pd.read_csv('data/test.csv', header=None)\n",
    "\n",
    "    train_data = train_data.map(lambda x: x.replace('\"', ''))\n",
    "    val_data = val_data.map(lambda x: x.replace('\"', ''))\n",
    "    test_data = test_data.map(lambda x: x.replace('\"', ''))\n",
    "\n",
    "    train_sentences = train_data[0].tolist()\n",
    "    train_labels = train_data[1].tolist()\n",
    "\n",
    "    val_sentences = val_data[0].tolist()\n",
    "    val_labels = val_data[1].tolist()\n",
    "\n",
    "    test_sentences = test_data[0].tolist()\n",
    "    test_labels = test_data[1].tolist()\n",
    "    #Preprocess datasets\n",
    "    tokenizer = Tokenizer()\n",
    "    tokenizer.fit_on_texts(train_sentences)\n",
    "    train_sequences = tokenizer.texts_to_sequences(train_sentences)\n",
    "    val_sequences = tokenizer.texts_to_sequences(val_sentences)\n",
    "    test_sequences = tokenizer.texts_to_sequences(test_sentences)\n",
    "\n",
    "    max_sequence_length = max(len(seq) for seq in train_sequences)\n",
    "    train_pad_sequences = pad_sequences(train_sequences, maxlen=max_sequence_length)\n",
    "    val_pad_sequences = pad_sequences(val_sequences, maxlen=max_sequence_length)\n",
    "    test_pad_sequences = pad_sequences(test_sequences, maxlen=max_sequence_length)\n",
    "\n",
    "    def count_unique_entities(list_of_label_sentences):\n",
    "        flat_labels = []\n",
    "        for labels in list_of_label_sentences:\n",
    "            flat_labels += labels.split()\n",
    "        unique_entities = Counter(flat_labels)\n",
    "        return len(unique_entities), unique_entities\n",
    "    num_unique_entities, unique_entities = count_unique_entities(train_labels)\n",
    "    label_encoder = LabelEncoder()\n",
    "    label_encoder.fit(list(unique_entities.keys()))\n",
    "    train_numerical_labels = [label_encoder.transform(labels.split()).tolist() for labels in train_labels]\n",
    "    train_pad_labels = pad_sequences(train_numerical_labels, maxlen=max_sequence_length, padding='post', value=label_encoder.transform(['O']))\n",
    "\n",
    "    def remove_sentences(list_labels, list_sequences):\n",
    "        idx_to_remove = []\n",
    "        labels_to_remove = set()\n",
    "        for idx, labels in enumerate(list_labels):\n",
    "            for label in labels.split():\n",
    "                if label not in unique_entities:\n",
    "                    idx_to_remove.append(idx)\n",
    "                    labels_to_remove.add(label)\n",
    "        labels = [elem for i, elem in enumerate(list_labels) if i not in idx_to_remove]\n",
    "        sequences = [elem for i, elem in enumerate(list_sequences) if i not in idx_to_remove]\n",
    "        return labels, np.array(sequences)\n",
    "    test_labels_cleaned, test_pad_sequences = remove_sentences(test_labels, test_pad_sequences)\n",
    "    test_numerical_labels = [label_encoder.transform(labels.split()).tolist() for labels in test_labels_cleaned]\n",
    "    test_pad_labels = pad_sequences(test_numerical_labels, maxlen=max_sequence_length, padding='post', value=label_encoder.transform(['O']))\n",
    "\n",
    "    val_labels_cleaned, val_pad_sequences = remove_sentences(val_labels, val_pad_sequences)\n",
    "    val_numerical_labels = [label_encoder.transform(labels.split()).tolist() for labels in val_labels_cleaned]\n",
    "    val_pad_labels = pad_sequences(val_numerical_labels, maxlen=max_sequence_length, padding='post', value=label_encoder.transform(['O']))\n",
    "\n",
    "    train_labels_one_hot = to_categorical(train_pad_labels, num_classes=len(label_encoder.classes_))\n",
    "    test_labels_one_hot = to_categorical(test_pad_labels, num_classes=len(label_encoder.classes_))\n",
    "    val_labels_one_hot = to_categorical(val_pad_labels, num_classes=len(label_encoder.classes_))\n",
    "\n",
    "    len_test_sequences = [len(seq) for seq in test_sequences]\n",
    "    \n",
    "    return (train_pad_sequences, train_labels_one_hot,\n",
    "            val_pad_sequences, val_labels_one_hot,\n",
    "            test_pad_sequences, test_labels_one_hot,\n",
    "            tokenizer, label_encoder, max_sequence_length,len_test_sequences)\n",
    "    \n",
    "    \n"
   ]
  },
  {
   "cell_type": "code",
   "execution_count": 16,
   "metadata": {},
   "outputs": [],
   "source": [
    "def preds_to_index(preds, seq_lens):\n",
    "  '''\n",
    "  Turn predictions to numerical indexes, flatten the sentences and discard padding.\n",
    "  '''\n",
    "  idx_preds = []\n",
    "  for pred, seq_len in zip(preds,seq_lens):\n",
    "      for l in range(seq_len):\n",
    "        idx_preds.append(np.argmax(pred[l]))\n",
    "  return idx_preds\n",
    "\n"
   ]
  },
  {
   "cell_type": "code",
   "execution_count": 17,
   "metadata": {},
   "outputs": [],
   "source": [
    "(train_pad_sequences, train_labels_one_hot,\n",
    "val_pad_sequences, val_labels_one_hot,\n",
    "test_pad_sequences, test_labels_one_hot,\n",
    "tokenizer, label_encoder, max_sequence_length,len_test_sequences) = iniciar_datoset()"
   ]
  },
  {
   "cell_type": "code",
   "execution_count": 21,
   "metadata": {},
   "outputs": [
    {
     "name": "stdout",
     "output_type": "stream",
     "text": [
      "Training model with embedding dimension: 32\n",
      "Epoch 1/10\n",
      "\u001b[1m128/128\u001b[0m \u001b[32m━━━━━━━━━━━━━━━━━━━━\u001b[0m\u001b[37m\u001b[0m \u001b[1m4s\u001b[0m 15ms/step - accuracy: 0.8468 - loss: 1.5170 - val_accuracy: 0.9109 - val_loss: 0.5945\n",
      "Epoch 2/10\n",
      "\u001b[1m128/128\u001b[0m \u001b[32m━━━━━━━━━━━━━━━━━━━━\u001b[0m\u001b[37m\u001b[0m \u001b[1m1s\u001b[0m 10ms/step - accuracy: 0.9098 - loss: 0.5790 - val_accuracy: 0.9109 - val_loss: 0.4869\n",
      "Epoch 3/10\n",
      "\u001b[1m128/128\u001b[0m \u001b[32m━━━━━━━━━━━━━━━━━━━━\u001b[0m\u001b[37m\u001b[0m \u001b[1m1s\u001b[0m 10ms/step - accuracy: 0.9105 - loss: 0.4758 - val_accuracy: 0.9108 - val_loss: 0.4571\n",
      "Epoch 4/10\n",
      "\u001b[1m128/128\u001b[0m \u001b[32m━━━━━━━━━━━━━━━━━━━━\u001b[0m\u001b[37m\u001b[0m \u001b[1m1s\u001b[0m 10ms/step - accuracy: 0.9098 - loss: 0.4545 - val_accuracy: 0.9109 - val_loss: 0.4296\n",
      "Epoch 5/10\n",
      "\u001b[1m128/128\u001b[0m \u001b[32m━━━━━━━━━━━━━━━━━━━━\u001b[0m\u001b[37m\u001b[0m \u001b[1m1s\u001b[0m 10ms/step - accuracy: 0.9098 - loss: 0.4212 - val_accuracy: 0.9102 - val_loss: 0.3929\n",
      "Epoch 6/10\n",
      "\u001b[1m128/128\u001b[0m \u001b[32m━━━━━━━━━━━━━━━━━━━━\u001b[0m\u001b[37m\u001b[0m \u001b[1m1s\u001b[0m 10ms/step - accuracy: 0.9088 - loss: 0.3886 - val_accuracy: 0.9119 - val_loss: 0.3606\n",
      "Epoch 7/10\n",
      "\u001b[1m128/128\u001b[0m \u001b[32m━━━━━━━━━━━━━━━━━━━━\u001b[0m\u001b[37m\u001b[0m \u001b[1m1s\u001b[0m 10ms/step - accuracy: 0.9118 - loss: 0.3545 - val_accuracy: 0.9144 - val_loss: 0.3345\n",
      "Epoch 8/10\n",
      "\u001b[1m128/128\u001b[0m \u001b[32m━━━━━━━━━━━━━━━━━━━━\u001b[0m\u001b[37m\u001b[0m \u001b[1m1s\u001b[0m 10ms/step - accuracy: 0.9143 - loss: 0.3316 - val_accuracy: 0.9179 - val_loss: 0.3162\n",
      "Epoch 9/10\n",
      "\u001b[1m128/128\u001b[0m \u001b[32m━━━━━━━━━━━━━━━━━━━━\u001b[0m\u001b[37m\u001b[0m \u001b[1m1s\u001b[0m 11ms/step - accuracy: 0.9166 - loss: 0.3143 - val_accuracy: 0.9211 - val_loss: 0.2940\n",
      "Epoch 10/10\n",
      "\u001b[1m128/128\u001b[0m \u001b[32m━━━━━━━━━━━━━━━━━━━━\u001b[0m\u001b[37m\u001b[0m \u001b[1m1s\u001b[0m 11ms/step - accuracy: 0.9208 - loss: 0.2928 - val_accuracy: 0.9210 - val_loss: 0.2853\n",
      "\u001b[1m28/28\u001b[0m \u001b[32m━━━━━━━━━━━━━━━━━━━━\u001b[0m\u001b[37m\u001b[0m \u001b[1m0s\u001b[0m 6ms/step - accuracy: 0.9134 - loss: 0.3141\n",
      "Test accuracy with embedding dimension 32: 0.92\n",
      "\u001b[1m28/28\u001b[0m \u001b[32m━━━━━━━━━━━━━━━━━━━━\u001b[0m\u001b[37m\u001b[0m \u001b[1m0s\u001b[0m 9ms/step\n",
      "Training model with embedding dimension: 64\n",
      "Epoch 1/10\n",
      "\u001b[1m128/128\u001b[0m \u001b[32m━━━━━━━━━━━━━━━━━━━━\u001b[0m\u001b[37m\u001b[0m \u001b[1m5s\u001b[0m 20ms/step - accuracy: 0.8634 - loss: 0.9546 - val_accuracy: 0.9109 - val_loss: 0.4946\n",
      "Epoch 2/10\n",
      "\u001b[1m128/128\u001b[0m \u001b[32m━━━━━━━━━━━━━━━━━━━━\u001b[0m\u001b[37m\u001b[0m \u001b[1m2s\u001b[0m 17ms/step - accuracy: 0.9100 - loss: 0.4782 - val_accuracy: 0.9109 - val_loss: 0.4481\n",
      "Epoch 3/10\n",
      "\u001b[1m128/128\u001b[0m \u001b[32m━━━━━━━━━━━━━━━━━━━━\u001b[0m\u001b[37m\u001b[0m \u001b[1m2s\u001b[0m 17ms/step - accuracy: 0.9103 - loss: 0.4389 - val_accuracy: 0.9100 - val_loss: 0.4080\n",
      "Epoch 4/10\n",
      "\u001b[1m128/128\u001b[0m \u001b[32m━━━━━━━━━━━━━━━━━━━━\u001b[0m\u001b[37m\u001b[0m \u001b[1m2s\u001b[0m 17ms/step - accuracy: 0.9099 - loss: 0.3921 - val_accuracy: 0.9124 - val_loss: 0.3606\n",
      "Epoch 5/10\n",
      "\u001b[1m128/128\u001b[0m \u001b[32m━━━━━━━━━━━━━━━━━━━━\u001b[0m\u001b[37m\u001b[0m \u001b[1m2s\u001b[0m 18ms/step - accuracy: 0.9121 - loss: 0.3521 - val_accuracy: 0.9149 - val_loss: 0.3312\n",
      "Epoch 6/10\n",
      "\u001b[1m128/128\u001b[0m \u001b[32m━━━━━━━━━━━━━━━━━━━━\u001b[0m\u001b[37m\u001b[0m \u001b[1m3s\u001b[0m 23ms/step - accuracy: 0.9139 - loss: 0.3207 - val_accuracy: 0.9194 - val_loss: 0.2997\n",
      "Epoch 7/10\n",
      "\u001b[1m128/128\u001b[0m \u001b[32m━━━━━━━━━━━━━━━━━━━━\u001b[0m\u001b[37m\u001b[0m \u001b[1m2s\u001b[0m 18ms/step - accuracy: 0.9190 - loss: 0.2882 - val_accuracy: 0.9232 - val_loss: 0.2774\n",
      "Epoch 8/10\n",
      "\u001b[1m128/128\u001b[0m \u001b[32m━━━━━━━━━━━━━━━━━━━━\u001b[0m\u001b[37m\u001b[0m \u001b[1m2s\u001b[0m 18ms/step - accuracy: 0.9217 - loss: 0.2683 - val_accuracy: 0.9272 - val_loss: 0.2542\n",
      "Epoch 9/10\n",
      "\u001b[1m128/128\u001b[0m \u001b[32m━━━━━━━━━━━━━━━━━━━━\u001b[0m\u001b[37m\u001b[0m \u001b[1m2s\u001b[0m 19ms/step - accuracy: 0.9255 - loss: 0.2471 - val_accuracy: 0.9295 - val_loss: 0.2375\n",
      "Epoch 10/10\n",
      "\u001b[1m128/128\u001b[0m \u001b[32m━━━━━━━━━━━━━━━━━━━━\u001b[0m\u001b[37m\u001b[0m \u001b[1m2s\u001b[0m 17ms/step - accuracy: 0.9307 - loss: 0.2222 - val_accuracy: 0.9336 - val_loss: 0.2263\n",
      "\u001b[1m28/28\u001b[0m \u001b[32m━━━━━━━━━━━━━━━━━━━━\u001b[0m\u001b[37m\u001b[0m \u001b[1m0s\u001b[0m 8ms/step - accuracy: 0.9264 - loss: 0.2513\n",
      "Test accuracy with embedding dimension 64: 0.93\n",
      "\u001b[1m28/28\u001b[0m \u001b[32m━━━━━━━━━━━━━━━━━━━━\u001b[0m\u001b[37m\u001b[0m \u001b[1m0s\u001b[0m 11ms/step\n",
      "Training model with embedding dimension: 128\n",
      "Epoch 1/10\n",
      "\u001b[1m128/128\u001b[0m \u001b[32m━━━━━━━━━━━━━━━━━━━━\u001b[0m\u001b[37m\u001b[0m \u001b[1m8s\u001b[0m 44ms/step - accuracy: 0.8681 - loss: 0.8344 - val_accuracy: 0.9109 - val_loss: 0.4571\n",
      "Epoch 2/10\n",
      "\u001b[1m128/128\u001b[0m \u001b[32m━━━━━━━━━━━━━━━━━━━━\u001b[0m\u001b[37m\u001b[0m \u001b[1m5s\u001b[0m 39ms/step - accuracy: 0.9096 - loss: 0.4444 - val_accuracy: 0.9098 - val_loss: 0.3961\n",
      "Epoch 3/10\n",
      "\u001b[1m128/128\u001b[0m \u001b[32m━━━━━━━━━━━━━━━━━━━━\u001b[0m\u001b[37m\u001b[0m \u001b[1m5s\u001b[0m 39ms/step - accuracy: 0.9097 - loss: 0.3871 - val_accuracy: 0.9129 - val_loss: 0.3372\n",
      "Epoch 4/10\n",
      "\u001b[1m128/128\u001b[0m \u001b[32m━━━━━━━━━━━━━━━━━━━━\u001b[0m\u001b[37m\u001b[0m \u001b[1m5s\u001b[0m 40ms/step - accuracy: 0.9122 - loss: 0.3299 - val_accuracy: 0.9176 - val_loss: 0.2975\n",
      "Epoch 5/10\n",
      "\u001b[1m128/128\u001b[0m \u001b[32m━━━━━━━━━━━━━━━━━━━━\u001b[0m\u001b[37m\u001b[0m \u001b[1m5s\u001b[0m 38ms/step - accuracy: 0.9190 - loss: 0.2796 - val_accuracy: 0.9212 - val_loss: 0.2675\n",
      "Epoch 6/10\n",
      "\u001b[1m128/128\u001b[0m \u001b[32m━━━━━━━━━━━━━━━━━━━━\u001b[0m\u001b[37m\u001b[0m \u001b[1m5s\u001b[0m 41ms/step - accuracy: 0.9231 - loss: 0.2491 - val_accuracy: 0.9289 - val_loss: 0.2366\n",
      "Epoch 7/10\n",
      "\u001b[1m128/128\u001b[0m \u001b[32m━━━━━━━━━━━━━━━━━━━━\u001b[0m\u001b[37m\u001b[0m \u001b[1m5s\u001b[0m 39ms/step - accuracy: 0.9293 - loss: 0.2220 - val_accuracy: 0.9331 - val_loss: 0.2205\n",
      "Epoch 8/10\n",
      "\u001b[1m128/128\u001b[0m \u001b[32m━━━━━━━━━━━━━━━━━━━━\u001b[0m\u001b[37m\u001b[0m \u001b[1m5s\u001b[0m 40ms/step - accuracy: 0.9334 - loss: 0.2045 - val_accuracy: 0.9279 - val_loss: 0.2257\n",
      "Epoch 9/10\n",
      "\u001b[1m128/128\u001b[0m \u001b[32m━━━━━━━━━━━━━━━━━━━━\u001b[0m\u001b[37m\u001b[0m \u001b[1m5s\u001b[0m 39ms/step - accuracy: 0.9364 - loss: 0.1900 - val_accuracy: 0.9364 - val_loss: 0.2047\n",
      "Epoch 10/10\n",
      "\u001b[1m128/128\u001b[0m \u001b[32m━━━━━━━━━━━━━━━━━━━━\u001b[0m\u001b[37m\u001b[0m \u001b[1m5s\u001b[0m 39ms/step - accuracy: 0.9392 - loss: 0.1828 - val_accuracy: 0.9420 - val_loss: 0.1932\n",
      "\u001b[1m28/28\u001b[0m \u001b[32m━━━━━━━━━━━━━━━━━━━━\u001b[0m\u001b[37m\u001b[0m \u001b[1m0s\u001b[0m 12ms/step - accuracy: 0.9316 - loss: 0.2253\n",
      "Test accuracy with embedding dimension 128: 0.94\n",
      "\u001b[1m28/28\u001b[0m \u001b[32m━━━━━━━━━━━━━━━━━━━━\u001b[0m\u001b[37m\u001b[0m \u001b[1m1s\u001b[0m 19ms/step\n",
      "Training model with embedding dimension: 256\n",
      "Epoch 1/10\n",
      "\u001b[1m128/128\u001b[0m \u001b[32m━━━━━━━━━━━━━━━━━━━━\u001b[0m\u001b[37m\u001b[0m \u001b[1m16s\u001b[0m 108ms/step - accuracy: 0.8719 - loss: 0.8406 - val_accuracy: 0.9109 - val_loss: 0.4542\n",
      "Epoch 2/10\n",
      "\u001b[1m128/128\u001b[0m \u001b[32m━━━━━━━━━━━━━━━━━━━━\u001b[0m\u001b[37m\u001b[0m \u001b[1m13s\u001b[0m 101ms/step - accuracy: 0.9097 - loss: 0.4342 - val_accuracy: 0.9104 - val_loss: 0.3672\n",
      "Epoch 3/10\n",
      "\u001b[1m128/128\u001b[0m \u001b[32m━━━━━━━━━━━━━━━━━━━━\u001b[0m\u001b[37m\u001b[0m \u001b[1m12s\u001b[0m 95ms/step - accuracy: 0.9099 - loss: 0.3504 - val_accuracy: 0.9156 - val_loss: 0.3020\n",
      "Epoch 4/10\n",
      "\u001b[1m128/128\u001b[0m \u001b[32m━━━━━━━━━━━━━━━━━━━━\u001b[0m\u001b[37m\u001b[0m \u001b[1m12s\u001b[0m 95ms/step - accuracy: 0.9142 - loss: 0.2886 - val_accuracy: 0.9239 - val_loss: 0.2539\n",
      "Epoch 5/10\n",
      "\u001b[1m128/128\u001b[0m \u001b[32m━━━━━━━━━━━━━━━━━━━━\u001b[0m\u001b[37m\u001b[0m \u001b[1m13s\u001b[0m 99ms/step - accuracy: 0.9230 - loss: 0.2410 - val_accuracy: 0.9232 - val_loss: 0.2448\n",
      "Epoch 6/10\n",
      "\u001b[1m128/128\u001b[0m \u001b[32m━━━━━━━━━━━━━━━━━━━━\u001b[0m\u001b[37m\u001b[0m \u001b[1m12s\u001b[0m 95ms/step - accuracy: 0.9291 - loss: 0.2154 - val_accuracy: 0.9326 - val_loss: 0.2138\n",
      "Epoch 7/10\n",
      "\u001b[1m128/128\u001b[0m \u001b[32m━━━━━━━━━━━━━━━━━━━━\u001b[0m\u001b[37m\u001b[0m \u001b[1m12s\u001b[0m 95ms/step - accuracy: 0.9360 - loss: 0.1910 - val_accuracy: 0.9384 - val_loss: 0.2015\n",
      "Epoch 8/10\n",
      "\u001b[1m128/128\u001b[0m \u001b[32m━━━━━━━━━━━━━━━━━━━━\u001b[0m\u001b[37m\u001b[0m \u001b[1m12s\u001b[0m 97ms/step - accuracy: 0.9398 - loss: 0.1787 - val_accuracy: 0.9437 - val_loss: 0.1866\n",
      "Epoch 9/10\n",
      "\u001b[1m128/128\u001b[0m \u001b[32m━━━━━━━━━━━━━━━━━━━━\u001b[0m\u001b[37m\u001b[0m \u001b[1m12s\u001b[0m 96ms/step - accuracy: 0.9436 - loss: 0.1671 - val_accuracy: 0.9497 - val_loss: 0.1722\n",
      "Epoch 10/10\n",
      "\u001b[1m128/128\u001b[0m \u001b[32m━━━━━━━━━━━━━━━━━━━━\u001b[0m\u001b[37m\u001b[0m \u001b[1m13s\u001b[0m 98ms/step - accuracy: 0.9502 - loss: 0.1467 - val_accuracy: 0.9450 - val_loss: 0.1867\n",
      "\u001b[1m28/28\u001b[0m \u001b[32m━━━━━━━━━━━━━━━━━━━━\u001b[0m\u001b[37m\u001b[0m \u001b[1m1s\u001b[0m 23ms/step - accuracy: 0.9370 - loss: 0.2156\n",
      "Test accuracy with embedding dimension 256: 0.94\n",
      "\u001b[1m28/28\u001b[0m \u001b[32m━━━━━━━━━━━━━━━━━━━━\u001b[0m\u001b[37m\u001b[0m \u001b[1m1s\u001b[0m 28ms/step\n"
     ]
    }
   ],
   "source": [
    "#----------------------Diferents mides d'embedding----------------------\n",
    "batch_size = 32\n",
    "epochs = 10\n",
    "vocab_size = len(tokenizer.word_index) + 1\n",
    "num_heads = 4\n",
    "ff_dim = 128\n",
    "num_classes = len(label_encoder.classes_)\n",
    "\n",
    "embedding_dims = [32, 64, 128, 256]\n",
    "\n",
    "results = {} #To store results(f1-score and macro average) for different embedding dimensions\n",
    "for embedding_dim in embedding_dims:\n",
    "    print(f\"Training model with embedding dimension: {embedding_dim}\")\n",
    "    model = Sequential()\n",
    "    model.add(TokenAndPositionEmbedding(max_sequence_length, vocab_size, embedding_dim))\n",
    "    model.add(TransformerBlock(embedding_dim, num_heads, ff_dim))\n",
    "    model.add(keras.layers.Dense(num_classes, activation=\"softmax\"))\n",
    "\n",
    "    model.compile(loss=\"categorical_crossentropy\", optimizer=\"adam\", metrics=[\"accuracy\"])\n",
    "\n",
    "    # Train the model\n",
    "    model.fit(train_pad_sequences, train_labels_one_hot, batch_size=batch_size, epochs=epochs, validation_data=(val_pad_sequences, val_labels_one_hot))\n",
    "\n",
    "    # Evaluate the model on the test set\n",
    "    loss, accuracy = model.evaluate(test_pad_sequences, test_labels_one_hot)\n",
    "    print(f\"Test accuracy with embedding dimension {embedding_dim}: {accuracy:.2f}\")\n",
    "\n",
    "    preds = model.predict(test_pad_sequences)\n",
    "\n",
    "    \n",
    "    test_labels_idx = preds_to_index(test_labels_one_hot,len_test_sequences)\n",
    "    preds_idx = preds_to_index(preds, len_test_sequences)\n",
    "\n",
    "    report = classification_report(test_labels_idx, preds_idx, zero_division=1.0, output_dict=True)\n",
    "    results[embedding_dim] = report"
   ]
  },
  {
   "cell_type": "code",
   "execution_count": 37,
   "metadata": {},
   "outputs": [
    {
     "name": "stdout",
     "output_type": "stream",
     "text": [
      "-------------Plot results (f1-score and macro average)------------\n"
     ]
    },
    {
     "data": {
      "image/png": "[encoded data removed]",
      "text/plain": [
       "<Figure size 800x400 with 1 Axes>"
      ]
     },
     "metadata": {},
     "output_type": "display_data"
    },
    {
     "data": {
      "image/png": "[encoded data removed]",
      "text/plain": [
       "<Figure size 800x2000 with 3 Axes>"
      ]
     },
     "metadata": {},
     "output_type": "display_data"
    }
   ],
   "source": [
    "print(\"-------------Plot results (f1-score and macro average)------------\")\n",
    "# Tengo los reports para cada embedding dimension en el diccionario results\n",
    "# ...existing code...\n",
    "import numpy as np\n",
    "import matplotlib.pyplot as plt\n",
    "import seaborn as sns\n",
    "\n",
    "# results debe existir: results[embedding_dim] = classification_report(..., output_dict=True)\n",
    "embedding_dims_sorted = sorted(results.keys())\n",
    "\n",
    "# identificar etiquetas (excluyendo agregados)\n",
    "agg_keys = {'accuracy', 'macro avg', 'weighted avg', 'micro avg'}\n",
    "all_labels = set()\n",
    "for rep in results.values():\n",
    "    all_labels.update(rep.keys())\n",
    "class_labels = sorted([l for l in all_labels if l not in agg_keys])\n",
    "\n",
    "# construir DataFrame con f1 por clase\n",
    "df = pd.DataFrame(index=embedding_dims_sorted, columns=class_labels, dtype=float)\n",
    "for dim in embedding_dims_sorted:\n",
    "    rep = results[dim]\n",
    "    for lbl in class_labels:\n",
    "        val = rep.get(lbl, {})\n",
    "        if isinstance(val, dict):\n",
    "            f1 = val.get('f1-score', val.get('f1_score', np.nan))\n",
    "        else:\n",
    "            f1 = np.nan\n",
    "        df.at[dim, lbl] = float(f1) if not pd.isna(f1) else np.nan\n",
    "\n",
    "# serie con macro average f1\n",
    "macro = pd.Series(\n",
    "    [results[d].get('macro avg', {}).get('f1-score', results[d].get('macro avg', {}).get('f1_score', np.nan))\n",
    "     for d in embedding_dims_sorted],\n",
    "    index=embedding_dims_sorted\n",
    ")\n",
    "# Plot: macro average\n",
    "plt.figure(figsize=(8,4))\n",
    "plt.plot(embedding_dims_sorted, macro.values, marker='o', linestyle='-', label='macro avg')\n",
    "plt.title('Macro F1 vs Embedding dimension')\n",
    "plt.xlabel('Embedding dimension')\n",
    "plt.ylabel('F1 (macro)')\n",
    "plt.xticks(embedding_dims_sorted)\n",
    "plt.ylim(0, 1.05)\n",
    "plt.grid(alpha=0.3)\n",
    "plt.legend()\n",
    "plt.tight_layout()\n",
    "plt.show()\n",
    "\n",
    "def idx_to_label(k):\n",
    "    # k puede ser string (p. ej. '0') o int\n",
    "    try:\n",
    "        # intentar convertir a entero\n",
    "        i = int(str(k))\n",
    "        return label_encoder.inverse_transform([i])[0]\n",
    "    except Exception:\n",
    "        # si no se puede convertir, devolver tal cual (es probable que ya sea nombre)\n",
    "        return k \n",
    "\n",
    "# Para visualizar todas las clases en el eje y, reorientar: filas=clases, cols=embedding dims\n",
    "heat_df = df.T  # ahora index = clases, columns = embedding dims\n",
    "\n",
    "# Opcional: ordenar clases por F1 promedio descendente (más informativo)\n",
    "heat_df['mean_f1'] = heat_df.mean(axis=1)\n",
    "heat_df = heat_df.sort_values('mean_f1', ascending=False).drop(columns='mean_f1')\n",
    "\n",
    "# Preparar etiquetas: izquierda = nombre decodificado, derecha = código original\n",
    "# heat_df.index contiene las claves usadas en el classification_report (p. ej. '0','1' o nombres)\n",
    "codes = list(heat_df.index)\n",
    "names = [idx_to_label(c) for c in codes]\n",
    "\n",
    "fig, ax = plt.subplots(figsize=(max(8, 0.4 * heat_df.shape[1] + 4),\n",
    "                                min(20, 0.25 * heat_df.shape[0] + 4)))\n",
    "sns.set(font_scale=0.8)\n",
    "sns.heatmap(heat_df, annot=False, fmt='.2f', cmap='viridis',\n",
    "            vmin=0.0, vmax=1.0, cbar_kws={'label': 'F1-score'}, ax=ax)\n",
    "\n",
    "# posiciones y-ticks bien alineadas con filas del dataframe\n",
    "n = len(codes)\n",
    "yticks_pos = np.arange(n) + 0.5\n",
    "ax.set_yticks(yticks_pos)\n",
    "ax.set_yticklabels(names, rotation=0, fontsize='small')\n",
    "ax.set_xlabel('Embedding dimension')\n",
    "ax.set_ylabel('Class name (decoded)')\n",
    "\n",
    "# eje derecho con los códigos\n",
    "ax2 = ax.twinx()\n",
    "ax2.set_ylim(ax.get_ylim())\n",
    "ax2.set_yticks(yticks_pos)\n",
    "ax2.set_yticklabels([str(c) for c in codes], rotation=0, fontsize='small')\n",
    "ax2.set_ylabel('Class code', labelpad=10)\n",
    "\n",
    "plt.title('F1-score por clase — izquierda: nombre decodificado, derecha: código')\n",
    "plt.xticks(rotation=0)\n",
    "plt.tight_layout()\n",
    "plt.show()\n",
    "\n"
   ]
  },
  {
   "cell_type": "markdown",
   "metadata": {
    "id": "Dr2eNm7qJr4F"
   },
   "source": [
    "---\n",
    "\n",
    "<h1><a name=\"section-four\"> 4. Lliurable </a></h1>\n",
    "\n",
    "Heu d'entregar un document PDF de com a **màxim 10 pàgines** que incloga els resultats de tots els exercicis així com una explicació de cadascun dels resultats i de la modificació que heu fet. L'estructura del document és:\n",
    "\n",
    "1. Introducció.\n",
    "2. Experiments i Resultats (amb raonament).\n",
    "3. Conclusions.\n",
    "\n",
    "No cal que afegiu el vostre codi al document, podeu entregar el *notebook* juntament amb el document.\n",
    "\n",
    " ---"
   ]
  }
 ],
 "metadata": {
  "accelerator": "GPU",
  "colab": {
   "gpuType": "T4",
   "provenance": []
  },
  "kernelspec": {
   "display_name": "Python 3",
   "name": "python3"
  },
  "language_info": {
   "codemirror_mode": {
    "name": "ipython",
    "version": 3
   },
   "file_extension": ".py",
   "mimetype": "text/x-python",
   "name": "python",
   "nbconvert_exporter": "python",
   "pygments_lexer": "ipython3",
   "version": "3.12.10"
  }
 },
 "nbformat": 4,
 "nbformat_minor": 0
}
