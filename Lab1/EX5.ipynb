{
 "cells": [
  {
   "cell_type": "markdown",
   "metadata": {
    "id": "nrD713VgwE3A"
   },
   "source": [
    "<center>\n",
    "<h1 style=\"font-family:verdana\">\n",
    " 🏘 Sistema de diàleg basat en regles 🏘 <h1>\n",
    "\n",
    "\n",
    "\n",
    "\n",
    "\n",
    "\n"
   ]
  },
  {
   "cell_type": "markdown",
   "metadata": {
    "id": "VOK-8Oq6zpUS"
   },
   "source": [
    "<p>   🎯 <b>Objectiu</b>: en aquesta pràctica aprendrem a crear un assistent senzill de compra d'habitatges. El sistema haurà d'identificar i mostrar les cases que coincideixen amb les preferències de l'usuari. A poc a poc anirem afegint-hi funcionalitats, perquè el sistema siga més complet. </p>\n",
    "\n",
    "<p> ✨ <b>Contingut</b>: en primer lloc, començarem amb un exemple senzill en què el sistema llançarà unes preguntes i respostes predefinides i l'usuari haurà d'escollir. A poc a poc anirem afegint-hi funcionalitats, perquè el sistema siga més complet. </p>\n",
    "\n",
    "✏ <b>Exercicis</b>: en cada secció anireu trobant exercicis que haureu d'anar resolent.\n",
    "\n",
    "---\n",
    "\n",
    "<h2> Índex </h2>\n",
    "\n",
    "\n",
    "1. [Fitxer JSON](#section-one)\n",
    "  * [Exercici 1](#ex-one)\n",
    "2. [Sistema de diàleg senzill](#section-two)\n",
    "  * [Exercici 2](#ex-two)\n",
    "  * [Exercici 3](#ex-three)\n",
    "  * [Exercici 4](#ex-four)\n",
    "3. [Millorem el sistema de diàleg](#section-three)\n",
    "  * [Exercici 5](#ex-five)\n",
    "  * [Exercici 6](#ex-six)\n",
    "4. [Lliurable](#section-four)\n",
    "---\n"
   ]
  },
  {
   "cell_type": "code",
   "execution_count": 125,
   "metadata": {
    "colab": {
     "base_uri": "https://localhost:8080/"
    },
    "id": "IlPoWdgTrQX9",
    "outputId": "2f7aed60-3e5a-4476-9916-14ebcf81f17b"
   },
   "outputs": [],
   "source": [
    "import nltk\n",
    "\n",
    "from nltk.tokenize.treebank import TreebankWordTokenizer\n",
    "from nltk.corpus import stopwords\n",
    "from nltk.stem.porter import PorterStemmer\n",
    "from nltk.stem import WordNetLemmatizer\n",
    "from nltk.tokenize import TweetTokenizer\n",
    "\n",
    "import json\n",
    "import sys\n",
    "import random"
   ]
  },
  {
   "cell_type": "markdown",
   "metadata": {
    "id": "Zy3WwD_FPJFW"
   },
   "source": [
    "<h1><a name=\"section-one\"> 1. Fitxer JSON </a></h1>\n",
    "\n",
    "En primer lloc, carregarem el fitxer JSON per analitzar-ne l'estructura."
   ]
  },
  {
   "cell_type": "code",
   "execution_count": 126,
   "metadata": {
    "id": "kR5ovNENrER1"
   },
   "outputs": [
    {
     "name": "stdout",
     "output_type": "stream",
     "text": [
      "Start message:  Welcome to the House Buying Assistant! My name is Bothome, and I'm here to help you find your ideal house. You can type 'quite', and only 'quite', at any time to exit the program.\n",
      "May I have your name? If no, just click the 'Enter' or 'Space' button.\n",
      "End message:  Thank you for using the House Buying Assistant. Goodbye!\n",
      "Questions:  [{'question': 'How many bedrooms do you need?', 'type': 'numerical', 'prompt': 'Enter your choice (1 - 5 bedrooms): ', 'invalid_response': \"Invalid input. Please try again or write 'quite' to exit.\", 'answer_key': 'bedrooms'}, {'question': 'How many bathrooms do you need?', 'type': 'numerical', 'prompt': 'Enter your choice (1 - 3 bathrooms): ', 'invalid_response': \"Invalid input. Please try again or write 'quite' to exit.\", 'answer_key': 'bathrooms'}, {'question': 'What is your budget for the house?', 'type': 'numerical', 'prompt': 'Enter your choice (1k - 999k euros):', 'invalid_response': \"Invalid input. Please try again or write 'quite' to exit.\", 'answer_key': 'price'}, {'question': 'How many square meters do you need?', 'type': 'numerical', 'prompt': 'Enter your choice (30 - 200 meters)', 'invalid_response': \"Invalid input. Please try again or write 'quite' to exit.\", 'answer_key': 'square_meters'}, {'question': 'Which city or neighborhood would you prefer?', 'type': 'multichoice', 'prompt': 'Enter your choice', 'invalid_response': \"Invalid input. Please try again or write 'quite' to exit.\", 'answer_key': 'location'}, {'question': 'Do you want a house for buying or renting?', 'type': 'multichoice', 'prompt': \"Type 'sale' to buy or 'rent' to rent:\", 'invalid_response': \"Invalid input. Please try again or write 'quite' to exit.\", 'answer_key': 'type'}, {'question': \"What is your household's monthly income?\", 'type': 'numerical', 'prompt': 'Enter your monthly income in euros: (Only if you want to rent a house)', 'invalid_response': \"Invalid input. Please try again or write 'quite' to exit.\", 'answer_key': 'income'}, {'question': 'From which floor would you like to live?', 'type': 'numerical', 'prompt': 'Enter the minimum floor number (0 = ground floor):', 'invalid_response': \"Invalid input. Please try again or write 'quite' to exit.\", 'answer_key': 'floor'}, {'question': 'Do you want the house to have a terrace?', 'type': 'multichoice', 'prompt': \"Answer 'Yes' or 'No':\", 'invalid_response': \"Invalid input. Please try again or write 'quite' to exit.\", 'answer_key': 'terrace'}, {'question': 'Do you want the house to have an elevator?', 'type': 'multichoice', 'prompt': \"Answer 'Yes' or 'No':\", 'invalid_response': \"Invalid input. Please try again or write 'quite' to exit.\", 'answer_key': 'elevator'}, {'question': 'Do you need the house to be suitable for commercial use?', 'type': 'multichoice', 'prompt': \"Answer 'Yes' or 'No':\", 'invalid_response': \"Invalid input. Please try again or write 'quite' to exit.\", 'answer_key': 'commercial_use'}]\n",
      "House:  [{'id': 1, 'type': 'rent', 'bedrooms': '3', 'bathrooms': '2', 'price': '1200', 'square_meters': '100', 'floor': '3', 'elevator': 'Yes', 'commercial_use': 'No', 'terrace': 'No', 'location': 'Santa Coloma de Gramenet'}, {'id': 2, 'type': 'sale', 'bedrooms': '4', 'bathrooms': '2', 'price': '250k', 'square_meters': '120', 'floor': '0', 'elevator': 'No', 'commercial_use': 'Yes', 'terrace': 'Yes', 'location': 'Santa Coloma de Gramenet'}, {'id': 3, 'type': 'rent', 'bedrooms': '2', 'bathrooms': '1', 'price': '800', 'square_meters': '80', 'floor': '8', 'elevator': 'Yes', 'commercial_use': 'No', 'terrace': 'No', 'location': 'Santa Coloma de Gramenet'}, {'id': 4, 'type': 'sale', 'bedrooms': '1', 'bathrooms': '1', 'price': '100k', 'square_meters': '50', 'floor': '1', 'elevator': 'No', 'commercial_use': 'No', 'terrace': 'No', 'location': 'Santa Coloma de Gramenet'}, {'id': 5, 'type': 'rent', 'bedrooms': '1', 'bathrooms': '1', 'price': '650', 'square_meters': '55', 'floor': '2', 'elevator': 'No', 'commercial_use': 'Yes', 'terrace': 'No', 'location': 'Santa Coloma de Gramenet'}, {'id': 6, 'type': 'sale', 'bedrooms': '2', 'bathrooms': '1', 'price': '120k', 'square_meters': '80', 'floor': '4', 'elevator': 'No', 'commercial_use': 'No', 'terrace': 'No', 'location': 'Santa Coloma de Gramenet'}, {'id': 7, 'type': 'rent', 'bedrooms': '5', 'bathrooms': '2', 'price': '2000', 'square_meters': '150', 'floor': '2', 'elevator': 'Yes', 'commercial_use': 'No', 'terrace': 'Yes', 'location': 'Santa Coloma de Gramenet'}, {'id': 8, 'type': 'sale', 'bedrooms': '4', 'bathrooms': '2', 'price': '400k', 'square_meters': '150', 'floor': '5', 'elevator': 'Yes', 'commercial_use': 'Yes', 'terrace': 'Yes', 'location': 'Esplugues de Llobregat'}, {'id': 9, 'type': 'rent', 'bedrooms': '1', 'bathrooms': '1', 'price': '700', 'square_meters': '55', 'floor': '3', 'elevator': 'No', 'commercial_use': 'No', 'terrace': 'Yes', 'location': 'Esplugues de Llobregat'}, {'id': 10, 'type': 'sale', 'bedrooms': '4', 'bathrooms': '3', 'price': '262k', 'square_meters': '75', 'floor': '1', 'elevator': 'Yes', 'commercial_use': 'Yes', 'terrace': 'No', 'location': 'Esplugues de Llobregat'}, {'id': 11, 'type': 'rent', 'bedrooms': '3', 'bathrooms': '1', 'price': '1100', 'square_meters': '60', 'floor': '2', 'elevator': 'No', 'commercial_use': 'No', 'terrace': 'Yes', 'location': 'Esplugues de Llobregat'}, {'id': 12, 'type': 'sale', 'bedrooms': '4', 'bathrooms': '2', 'price': '350k', 'square_meters': '100', 'floor': '6', 'elevator': 'Yes', 'commercial_use': 'Yes', 'terrace': 'Yes', 'location': 'Esplugues de Llobregat'}, {'id': 13, 'type': 'sale', 'bedrooms': '4', 'bathrooms': '2', 'price': '330k', 'square_meters': '150', 'floor': '2', 'elevator': 'Yes', 'commercial_use': 'Yes', 'terrace': 'Yes', 'location': \"L'Hospitalet de Llobregat\"}, {'id': 14, 'type': 'rent', 'bedrooms': '3', 'bathrooms': '1', 'price': '1500', 'square_meters': '100', 'floor': '3', 'elevator': 'No', 'commercial_use': 'No', 'terrace': 'No', 'location': \"L'Hospitalet de Llobregat\"}, {'id': 15, 'type': 'sale', 'bedrooms': '2', 'bathrooms': '1', 'price': '190k', 'square_meters': '75', 'floor': '0', 'elevator': 'No', 'commercial_use': 'Yes', 'terrace': 'Yes', 'location': \"L'Hospitalet de Llobregat\"}, {'id': 16, 'type': 'sale', 'bedrooms': '3', 'bathrooms': '2', 'price': '176k', 'square_meters': '80', 'floor': '1', 'elevator': 'No', 'commercial_use': 'No', 'terrace': 'No', 'location': \"L'Hospitalet de Llobregat\"}, {'id': 17, 'type': 'rent', 'bedrooms': '1', 'bathrooms': '1', 'price': '450', 'square_meters': '45', 'floor': '6', 'elevator': 'No', 'commercial_use': 'No', 'terrace': 'No', 'location': 'Barcelona'}, {'id': 18, 'type': 'rent', 'bedrooms': '1', 'bathrooms': '1', 'price': '850', 'square_meters': '50', 'floor': '4', 'elevator': 'Yes', 'commercial_use': 'No', 'terrace': 'Yes', 'location': 'Barcelona'}, {'id': 19, 'type': 'rent', 'bedrooms': '3', 'bathrooms': '1', 'price': '600', 'square_meters': '75', 'floor': '1', 'elevator': 'No', 'commercial_use': 'Yes', 'terrace': 'Yes', 'location': 'Barcelona'}, {'id': 20, 'type': 'sale', 'bedrooms': '3', 'bathrooms': '2', 'price': '360k', 'square_meters': '90', 'floor': '2', 'elevator': 'No', 'commercial_use': 'No', 'terrace': 'Yes', 'location': 'Barcelona'}, {'id': 21, 'type': 'sale', 'bedrooms': '4', 'bathrooms': '2', 'price': '480k', 'square_meters': '120', 'floor': '3', 'elevator': 'Yes', 'commercial_use': 'Yes', 'terrace': 'Yes', 'location': 'Barcelona'}, {'id': 22, 'type': 'rent', 'bedrooms': '4', 'bathrooms': '2', 'price': '3000', 'square_meters': '100', 'floor': '0', 'elevator': 'No', 'commercial_use': 'Yes', 'terrace': 'No', 'location': 'Barcelona'}, {'id': 23, 'type': 'sale', 'bedrooms': '3', 'bathrooms': '2', 'price': '285k', 'square_meters': '95', 'floor': '1', 'elevator': 'Yes', 'commercial_use': 'No', 'terrace': 'No', 'location': 'Barcelona'}, {'id': 24, 'type': 'sale', 'bedrooms': '1', 'bathrooms': '1', 'price': '200k', 'square_meters': '50', 'floor': '2', 'elevator': 'No', 'commercial_use': 'No', 'terrace': 'Yes', 'location': 'Barcelona'}, {'id': 25, 'type': 'sale', 'bedrooms': '2', 'bathrooms': '1', 'price': '180k', 'square_meters': '60', 'floor': '3', 'elevator': 'No', 'commercial_use': 'Yes', 'terrace': 'No', 'location': 'Barcelona'}, {'id': 26, 'type': 'rent', 'bedrooms': '4', 'bathrooms': '2', 'price': '2500', 'square_meters': '90', 'floor': '5', 'elevator': 'Yes', 'commercial_use': 'Yes', 'terrace': 'Yes', 'location': 'Santa Coloma de Gramenet'}]\n"
     ]
    }
   ],
   "source": [
    "# El nostre base de coneixement (plantilles de respostes)\n",
    "with open('data_base.json') as f:\n",
    "  data = json.load(f)\n",
    "\n",
    "print('Start message: ', data['start_message'])\n",
    "print('End message: ', data['end_message'])\n",
    "# Decideix quina pregunta fa ==> detectar info relevant de la resposta(entitats) == Context\n",
    "print('Questions: ', data['questions'])\n",
    "# S'afegeix Context al json (és dinàmic)\n",
    "print('House: ', data['houses'])\n"
   ]
  },
  {
   "cell_type": "markdown",
   "metadata": {
    "id": "44cDB0gnrnCF"
   },
   "source": [
    "Podeu veure com al fitxer JSON podem trobar el missatge de benvinguda i el missatge de comiat. Les diferents preguntes predefinides que el sistema demanarà a l'usuari. I les cases que l'agència té disponibles per a oferir a l'usuari.\n",
    "\n",
    "Si no acabeu d'entendre el format, podeu copiar el contingut del fitxer JSON [aquí](https://jsonviewer.stack.hu/) per visualitzar millor l'estructura."
   ]
  },
  {
   "cell_type": "markdown",
   "metadata": {
    "id": "VY74xa6_PdJ5"
   },
   "source": [
    "---\n",
    "\n",
    "\n",
    "\n",
    " <h1><a name=\"ex-one\"><center> ✏ Exercici 1 ✏</a></h1>\n"
   ]
  },
  {
   "cell_type": "markdown",
   "metadata": {
    "id": "203gq-tFsp3n"
   },
   "source": [
    "En aquest primer exercici us demanem que afegiu una nova casa manualment al fitxer JSON amb l'id 26. La resta de camps els podeu emplenar com vulgueu.\n",
    "\n",
    "Si ho heu fet correctament podreu veure al següent *print* les dades que heu introduït."
   ]
  },
  {
   "cell_type": "code",
   "execution_count": 127,
   "metadata": {
    "id": "djlcHiwQIRAU"
   },
   "outputs": [
    {
     "data": {
      "text/plain": [
       "'id = 26\\nhouse = data[\\'houses\\'][id-1]\\n\\nprint(f\"House ID: {house[\\'id\\']}\")\\nprint(f\"Bedrooms: {house[\\'bedrooms\\']}\")\\nprint(f\"Bathrooms: {house[\\'bathrooms\\']}\")\\nprint(f\"Price: {house[\\'price\\']}\")\\nprint(f\"Square Meters: {house[\\'square_meters\\']}\")\\nprint(f\"Location: {house[\\'location\\']}\")'"
      ]
     },
     "execution_count": 127,
     "metadata": {},
     "output_type": "execute_result"
    }
   ],
   "source": [
    "'''id = 26\n",
    "house = data['houses'][id-1]\n",
    "\n",
    "print(f\"House ID: {house['id']}\")\n",
    "print(f\"Bedrooms: {house['bedrooms']}\")\n",
    "print(f\"Bathrooms: {house['bathrooms']}\")\n",
    "print(f\"Price: {house['price']}\")\n",
    "print(f\"Square Meters: {house['square_meters']}\")\n",
    "print(f\"Location: {house['location']}\")'''"
   ]
  },
  {
   "cell_type": "markdown",
   "metadata": {
    "id": "KHihCXXdWvJJ"
   },
   "source": [
    "---"
   ]
  },
  {
   "cell_type": "markdown",
   "metadata": {
    "id": "K1F0NWgvPUdG"
   },
   "source": [
    "<h1><a name=\"section-two\"> 2. Sistema de diàleg senzill </a></h1>\n"
   ]
  },
  {
   "cell_type": "markdown",
   "metadata": {
    "id": "vqkW23xFMzx-"
   },
   "source": [
    "En aquesta primera part crearem un sistema senzill que mostrarà les preguntes predefinides i, a continuació l'usuari haurà d'introduir la resposta. Tractarem de manera diferent les preguntes en què la resposta siga un número i les preguntes d'opció múltiple.\n",
    "\n",
    "Intenteu entendre el funcionament, ja que treballarem sobre aquest codi."
   ]
  },
  {
   "cell_type": "code",
   "execution_count": 128,
   "metadata": {
    "id": "9B892KaLOG_M"
   },
   "outputs": [
    {
     "name": "stdout",
     "output_type": "stream",
     "text": [
      "['Vull', 'un', 'pis', 'de', '35k', '€']\n"
     ]
    }
   ],
   "source": [
    "# Print question\n",
    "def print_question(prompt, possible_options = []):\n",
    "    print(prompt)\n",
    "    if not len(possible_options) == 0:\n",
    "      print(\"Options:\", \", \".join(possible_options))\n",
    "\n",
    "# Omplint la base de knowledge\n",
    "def initialize_available_options(house_data, available_options):\n",
    "    for house in house_data['houses']:\n",
    "        for key, value in house.items():\n",
    "            available_options.setdefault(key, set()).add(value)\n",
    "\n",
    "def preprocess_answer(answer):\n",
    "    answer = nltk.word_tokenize(answer)\n",
    "    return answer\n",
    "\n",
    "# Detectar entitats\n",
    "def get_numerical_value(tok_answer):\n",
    "    for token in tok_answer:\n",
    "        if token.isnumeric() or token[:-1].isnumeric():\n",
    "            return token\n",
    "    return ''\n",
    "\n",
    "#Exemple de frase tokenitzada\n",
    "print(preprocess_answer('Vull un pis de 35k €'))"
   ]
  },
  {
   "cell_type": "code",
   "execution_count": 129,
   "metadata": {
    "id": "-HVQvjfyrbTr"
   },
   "outputs": [
    {
     "data": {
      "text/plain": [
       "\"# 2 tipus de preguntas (resposta numèriques y textuals)\\ndef process_numerical_question(question):\\n    print_question(question['question'])\\n    while True:\\n      answer = input(question['prompt'])\\n      tok_answer = preprocess_answer(answer)\\n      value = get_numerical_value(tok_answer)\\n      if not value == '':\\n        return value\\n\\ndef process_multichoice_question(question, options):\\n    print_question(question['question'], options)\\n    while True:\\n      answer = input(question['prompt'])\\n      if answer in options:\\n        return answer\\n\\nuser_preferences, available_options = {}, {}\\ninitialize_available_options(data, available_options)\\nprint(available_options)\\n\\n################ BOT ###################\\n\\nfor question in data['questions']:\\n  answer_key = question['answer_key']\\n  print(answer_key)\\n  possible_options = list(available_options.get(answer_key))\\n  \\n\\n  if question['type'] == 'numerical':\\n    answer = process_numerical_question(question)\\n  else:\\n    answer = process_multichoice_question(question, possible_options)\\n\\n  user_preferences[answer_key] = answer\\n\""
      ]
     },
     "execution_count": 129,
     "metadata": {},
     "output_type": "execute_result"
    }
   ],
   "source": [
    "'''# 2 tipus de preguntas (resposta numèriques y textuals)\n",
    "def process_numerical_question(question):\n",
    "    print_question(question['question'])\n",
    "    while True:\n",
    "      answer = input(question['prompt'])\n",
    "      tok_answer = preprocess_answer(answer)\n",
    "      value = get_numerical_value(tok_answer)\n",
    "      if not value == '':\n",
    "        return value\n",
    "\n",
    "def process_multichoice_question(question, options):\n",
    "    print_question(question['question'], options)\n",
    "    while True:\n",
    "      answer = input(question['prompt'])\n",
    "      if answer in options:\n",
    "        return answer\n",
    "\n",
    "user_preferences, available_options = {}, {}\n",
    "initialize_available_options(data, available_options)\n",
    "print(available_options)\n",
    "\n",
    "################ BOT ###################\n",
    "\n",
    "for question in data['questions']:\n",
    "  answer_key = question['answer_key']\n",
    "  print(answer_key)\n",
    "  possible_options = list(available_options.get(answer_key))\n",
    "  \n",
    "\n",
    "  if question['type'] == 'numerical':\n",
    "    answer = process_numerical_question(question)\n",
    "  else:\n",
    "    answer = process_multichoice_question(question, possible_options)\n",
    "\n",
    "  user_preferences[answer_key] = answer\n",
    "'''\n",
    "# Un cop acabat, és necessari provar-ho amb camins feliços y no feliços.'''"
   ]
  },
  {
   "cell_type": "markdown",
   "metadata": {
    "id": "YBznMtYjPwAT"
   },
   "source": [
    "\n",
    "\n",
    "---\n",
    "\n",
    "\n",
    " <h1><a name=\"ex-two\"><center> ✏ Exercici 2 ✏ </a></h1>"
   ]
  },
  {
   "cell_type": "markdown",
   "metadata": {
    "id": "H0fcTQe1XlmV"
   },
   "source": [
    "A continuació millorarem un poc el sistema. Us proposem que afegiu la frase de benvinguda que tenim guardada al fitxer JSON. És a dir, abans de mostrar la primera pregunta el sistema ens donarà la benvinguda."
   ]
  },
  {
   "cell_type": "markdown",
   "metadata": {
    "id": "_ygcX-SXPy__"
   },
   "source": [
    "---\n",
    "\n",
    "\n",
    " <h1><a name=\"ex-three\"><center> ✏ Exercici 3 ✏ </a></h1>\n",
    "\n",
    "En aquest exercici us demanem que permeteu a l'usuari abandonar el programa quan ho desitge. Per exemple, si l'usuari escriu `quit`, que el sistema s'acomiade amb l'oració de comiat que trobareu al JSON i finalitze el programa.\n",
    "\n",
    "\n",
    "🙃 `sys.exit()` genera una excepció SystemExit."
   ]
  },
  {
   "cell_type": "code",
   "execution_count": null,
   "metadata": {
    "id": "e7gUiHk6EeYc"
   },
   "outputs": [],
   "source": []
  },
  {
   "cell_type": "markdown",
   "metadata": {
    "id": "6-mx4dwNmthd"
   },
   "source": [
    "Funciona també si escriviu `Quit`?"
   ]
  },
  {
   "cell_type": "markdown",
   "metadata": {
    "id": "QcOE82F-P1lQ"
   },
   "source": [
    "---\n",
    "\n",
    " <h1><a name=\"ex-four\"><center> ✏ Exercici 4 ✏ </a></h1>"
   ]
  },
  {
   "cell_type": "markdown",
   "metadata": {
    "id": "F-is-nYIZVop"
   },
   "source": [
    "Fins ara tenim a `user_preferences` les opcions que l'usuari ha escollit.\n",
    "\n",
    "\n",
    "\n",
    "\n",
    "\n"
   ]
  },
  {
   "cell_type": "code",
   "execution_count": 130,
   "metadata": {
    "id": "1GSRF2RiTarQ"
   },
   "outputs": [
    {
     "data": {
      "text/plain": [
       "'user_preferences'"
      ]
     },
     "execution_count": 130,
     "metadata": {},
     "output_type": "execute_result"
    }
   ],
   "source": [
    "'''user_preferences'''"
   ]
  },
  {
   "cell_type": "markdown",
   "metadata": {
    "id": "pxX2XqAsMjvq"
   },
   "source": [
    "Per tant, ara haurem de revisar si l'agència disposa d'alguna casa disponible amb aquestes característiques. Per això us proposem completar la funció `find_suitable_houses`. Aquesta funció tornarà una llista amb tants diccionaris com cases disponibles. Per exemple si segons les preferències de l'usuari només està disponible la casa amb id 3, `suitable_house` serà:\n",
    "\n",
    "\n",
    "```\n",
    "[{'id': 3, 'bedrooms': '2', 'bathrooms': '1', 'price': '160k', 'square_meters': '80', 'location': 'Santa Coloma de Gramenet'}]\n",
    "```"
   ]
  },
  {
   "cell_type": "code",
   "execution_count": 131,
   "metadata": {
    "id": "0GOWOCnuaN5f"
   },
   "outputs": [],
   "source": [
    "#TODO\n",
    "#def find_suitable_houses(data, user_preferences):\n",
    "    #...\n",
    "    #return suitable_houses"
   ]
  },
  {
   "cell_type": "markdown",
   "metadata": {
    "id": "Fo-4vsc2WIPx"
   },
   "source": [
    "---\n",
    "\n"
   ]
  },
  {
   "cell_type": "markdown",
   "metadata": {
    "id": "EJ08m-3T21eS"
   },
   "source": [
    "Una vegada tingueu la funció `find_suitable_houses` programada, podreu executar el següent *script* que us mostrarà, si n'hi ha, la casa o cases disponibles amb les característiques que heu triat."
   ]
  },
  {
   "cell_type": "code",
   "execution_count": 132,
   "metadata": {
    "id": "UyT1h1hcakNl"
   },
   "outputs": [
    {
     "data": {
      "text/plain": [
       "'def print_suitable_houses(suitable_houses):\\n  if suitable_houses:\\n    print(\"\\nBased on your preferences, the most suitable houses are:\")\\n    for house in suitable_houses:\\n      print(f\"House ID: {house[\\'id\\']}\")\\n      print(f\"Type: {house[\\'type\\']}\")\\n      print(\"Bedrooms:\", house[\\'bedrooms\\'])\\n      print(\"Bathrooms:\", house[\\'bathrooms\\'])\\n      print(\"Price:\", house[\\'price\\'], \"euros\")\\n      print(\"Square Meters:\", house[\\'square_meters\\'], \"m^2\")\\n      print(\"Location:\", house[\\'location\\'])\\n      print()\\n  else:\\n    print(\"\\nSorry, no suitable houses match your preferences. \\n\")\\n\\n\\nsuitable_houses = find_suitable_houses(data, user_preferences)\\nprint_suitable_houses(suitable_houses)'"
      ]
     },
     "execution_count": 132,
     "metadata": {},
     "output_type": "execute_result"
    }
   ],
   "source": [
    "'''def print_suitable_houses(suitable_houses):\n",
    "  if suitable_houses:\n",
    "    print(\"\\nBased on your preferences, the most suitable houses are:\")\n",
    "    for house in suitable_houses:\n",
    "      print(f\"House ID: {house['id']}\")\n",
    "      print(f\"Type: {house['type']}\")\n",
    "      print(\"Bedrooms:\", house['bedrooms'])\n",
    "      print(\"Bathrooms:\", house['bathrooms'])\n",
    "      print(\"Price:\", house['price'], \"euros\")\n",
    "      print(\"Square Meters:\", house['square_meters'], \"m^2\")\n",
    "      print(\"Location:\", house['location'])\n",
    "      print()\n",
    "  else:\n",
    "    print(\"\\nSorry, no suitable houses match your preferences. \\n\")\n",
    "\n",
    "\n",
    "suitable_houses = find_suitable_houses(data, user_preferences)\n",
    "print_suitable_houses(suitable_houses)'''"
   ]
  },
  {
   "cell_type": "markdown",
   "metadata": {
    "id": "TCiN1L6SP4sU"
   },
   "source": [
    "<h1><a name=\"section-three\"> 3. Millorem el sistema de diàleg </a></h1>\n"
   ]
  },
  {
   "cell_type": "markdown",
   "metadata": {
    "id": "quqFEbxvQEmV"
   },
   "source": [
    "---\n",
    "\n",
    "\n",
    " <h1><a name=\"ex-five\"><center> ✏ Exercici 5 ✏ </a></h1>\n",
    "\n",
    "Tal com haureu comprovat sempre esteu obligats a triar una opció. En aquest últim exercici proposem que afegiu l'opció de no triar-ne cap. És a dir, si ens és igual el nombre d'habitacions, podrem posar per exemple `any` i el sistema ens farà la següent pregunta."
   ]
  },
  {
   "cell_type": "code",
   "execution_count": 133,
   "metadata": {
    "id": "t_OJqUoF5NE-"
   },
   "outputs": [
    {
     "data": {
      "text/plain": [
       "\"# Complete Exercici 5 implementation with improved features\\nuser_preferences, available_options = {}, {}\\ninitialize_available_options(data, available_options)\\nprint(available_options)\\n\\ndef process_numerical_question(question):\\n    print_question(question['question'])\\n    while True:\\n        answer = input(question['prompt'])\\n        \\n        if answer.lower() == 'quite':\\n            return 'quite'\\n        \\n        if answer.strip() == '' or answer.lower() == 'any':\\n            return 'any'\\n        \\n        tok_answer = preprocess_answer(answer)\\n        value = get_numerical_value(tok_answer)\\n        \\n        if not value == '':\\n            return value\\n        \\n        print(question['invalid_response'])\\n\\ndef process_multichoice_question(question, options):\\n    print_question(question['question'], options)\\n    while True:\\n        answer = input(question['prompt'])\\n        \\n        if answer.lower() == 'quite':\\n            return 'quite'\\n        \\n        if answer.strip() == '' or answer.lower() == 'any':\\n            return 'any'\\n        \\n        if answer in options:\\n            return answer\\n        \\n        print(question['invalid_response'])\\n\\ndef chatbox_withANYoption():\\n    # Get user name\\n    user_name = get_user_name()\\n    \\n    for question in data['questions']:\\n        answer_key = question['answer_key']\\n        \\n        # Skip income question if user chose 'sale' or 'any' for house type\\n        if answer_key == 'income':\\n            if user_preferences.get('type') == 'sale' or user_preferences.get('type') == 'any':\\n                user_preferences['income'] = 'any'\\n                continue\\n        \\n        if answer_key == 'income':\\n          possible_options = []\\n        else:\\n          possible_options = list(available_options.get(answer_key))\\n\\n        if question['type'] == 'numerical':\\n            answer = process_numerical_question(question)\\n        else:\\n            answer = process_multichoice_question(question, possible_options)\\n\\n        user_preferences[answer_key] = answer\\n\\nchatbox_withANYoption()\""
      ]
     },
     "execution_count": 133,
     "metadata": {},
     "output_type": "execute_result"
    }
   ],
   "source": [
    "'''# Complete Exercici 5 implementation with improved features\n",
    "user_preferences, available_options = {}, {}\n",
    "initialize_available_options(data, available_options)\n",
    "print(available_options)\n",
    "\n",
    "def process_numerical_question(question):\n",
    "    print_question(question['question'])\n",
    "    while True:\n",
    "        answer = input(question['prompt'])\n",
    "        \n",
    "        if answer.lower() == 'quite':\n",
    "            return 'quite'\n",
    "        \n",
    "        if answer.strip() == '' or answer.lower() == 'any':\n",
    "            return 'any'\n",
    "        \n",
    "        tok_answer = preprocess_answer(answer)\n",
    "        value = get_numerical_value(tok_answer)\n",
    "        \n",
    "        if not value == '':\n",
    "            return value\n",
    "        \n",
    "        print(question['invalid_response'])\n",
    "\n",
    "def process_multichoice_question(question, options):\n",
    "    print_question(question['question'], options)\n",
    "    while True:\n",
    "        answer = input(question['prompt'])\n",
    "        \n",
    "        if answer.lower() == 'quite':\n",
    "            return 'quite'\n",
    "        \n",
    "        if answer.strip() == '' or answer.lower() == 'any':\n",
    "            return 'any'\n",
    "        \n",
    "        if answer in options:\n",
    "            return answer\n",
    "        \n",
    "        print(question['invalid_response'])\n",
    "\n",
    "def chatbox_withANYoption():\n",
    "    # Get user name\n",
    "    user_name = get_user_name()\n",
    "    \n",
    "    for question in data['questions']:\n",
    "        answer_key = question['answer_key']\n",
    "        \n",
    "        # Skip income question if user chose 'sale' or 'any' for house type\n",
    "        if answer_key == 'income':\n",
    "            if user_preferences.get('type') == 'sale' or user_preferences.get('type') == 'any':\n",
    "                user_preferences['income'] = 'any'\n",
    "                continue\n",
    "        \n",
    "        if answer_key == 'income':\n",
    "          possible_options = []\n",
    "        else:\n",
    "          possible_options = list(available_options.get(answer_key))\n",
    "\n",
    "        if question['type'] == 'numerical':\n",
    "            answer = process_numerical_question(question)\n",
    "        else:\n",
    "            answer = process_multichoice_question(question, possible_options)\n",
    "\n",
    "        user_preferences[answer_key] = answer\n",
    "\n",
    "chatbox_withANYoption()'''"
   ]
  },
  {
   "cell_type": "code",
   "execution_count": 134,
   "metadata": {},
   "outputs": [
    {
     "data": {
      "text/plain": [
       "'print(user_preferences)'"
      ]
     },
     "execution_count": 134,
     "metadata": {},
     "output_type": "execute_result"
    }
   ],
   "source": [
    "'''print(user_preferences)'''"
   ]
  },
  {
   "cell_type": "markdown",
   "metadata": {
    "id": "6wP9PsI0tLKd"
   },
   "source": [
    "---\n",
    "\n",
    "\n",
    "\n",
    " <h1><a name=\"ex-six\"><center> ✏ Exercici 6 ✏ </a></h1>\n",
    "\n",
    "Amplieu el vostre xatbot perquè tinga en compte la següent informació sobre:\n",
    "\n",
    "1. **Tipus d'habitatge:** Pregunteu a l'usuari si vol una casa per a compra (tipus *\"sale\"* a les dades) o per llogar (tipus *\"rent\"*). Al final de l'execució, el sistema haurá de mostrar habitatges amb el tipus seleccionat.\n",
    "\n",
    "2. **Ingressos:** S'aconsella no dedicar més del 35% dels ingressos a l'habitatge. En cas d'escollir lloguer, preguntar a l'usuari els ingressos mensuals de la seua llar, i només mostrar aquells que estiguen per sota del 35%.\n",
    "\n",
    "3. **Planta:** Preguntar als usuaris a quina planta volen viure. Al final de l'execució, només s'oferiràn habitatges que estiguen en aquella planta o superior.\n",
    "\n",
    "4. **Terrassa:** Preguntar a l'usuari si vol un habitatge amb terrassa o no. En cas de voler terrassa, només s'oferiran habitatges amb terrassa. En cas contrari, oferir habitatges amb terrassa o sense.\n",
    "\n",
    "5. **Ascensor:** Preguntar a l'usuari si vol un habitatge amb ascensor o no. En cas de voler ascensor, només s'oferiran habitatges amb ascensor. En cas contrari, oferir habitatges amb ascensor o sense.\n",
    "\n",
    "6. **Us comercial:** Preguntar a l'usuari si vol fer servir l'habitatge com a negoci. En cas afirmatiu, només oferir habitatges amb la propietat *\"commercial use\"*\n",
    "\n",
    "\n",
    "EXTRA: AÑADIR CONECTORES ==> PERSONALIDAD BOT \n",
    "---\n",
    "\n",
    "\n",
    "\n"
   ]
  },
  {
   "cell_type": "code",
   "execution_count": 135,
   "metadata": {},
   "outputs": [],
   "source": [
    "#TO DO\n",
    "\n",
    "#TODO\n",
    "def find_suitable_houses(data, user_preferences):\n",
    "    def extract_number(text):\n",
    "        digits = ''.join(filter(str.isdigit, str(text)))\n",
    "        if digits and text[-1] in ['K', 'k']:\n",
    "            return int(digits) * 1000\n",
    "        return int(digits) if digits else text\n",
    "\n",
    "    def mayor_mejor(house_value, pref_value):\n",
    "        return house_value >= pref_value\n",
    "    def igual_mejor (house_value, pref_value):\n",
    "        return house_value == pref_value\n",
    "    def menor_mejor (house_value, pref_value):\n",
    "        return house_value <= pref_value\n",
    "\n",
    "    # Para tratar las características binarias que son más restrictivos con 'Yes', se podría implementar poniendo un 'any'\n",
    "    def binario(house_value: str, pref_value: str) -> bool:  \n",
    "        if pref_value.lower() in (\"yes\", \"y\", \"true\", \"1\"):\n",
    "            return house_value == 'Yes'\n",
    "        else:\n",
    "            return True\n",
    "\n",
    "    # CASO EXTREMO SI EL USUARIO NO TIENE NINGÚN CRITERIO.\n",
    "    all_any = all(value == 'any' for value in user_preferences.values())\n",
    "    if all_any:\n",
    "        return data['houses']\n",
    "    \n",
    "    criterio = {\n",
    "        'mayor_mejor': {'bedrooms', 'bathrooms', 'square_meters', 'floor'}, \n",
    "        'igual_mejor': {'location', 'type'}, \n",
    "        'menor_mejor': {'price'}, \n",
    "        'preguntas_binarias': {'terrace', 'elevator', 'commercial_use'}\n",
    "    }\n",
    "    \n",
    "    comparacion = {\n",
    "        'mayor_mejor': mayor_mejor, \n",
    "        'igual_mejor': igual_mejor, \n",
    "        'menor_mejor': menor_mejor, \n",
    "        'preguntas_binarias': binario\n",
    "    }\n",
    "    \n",
    "    suitable_houses = []\n",
    "    for house in data['houses']:\n",
    "        match = True\n",
    "        for key, value in user_preferences.items():\n",
    "            if value == 'any':\n",
    "                continue\n",
    "            if key == 'income' and value != 'any':\n",
    "                if house['type'] == 'rent':\n",
    "                    income = extract_number(value)\n",
    "                    price = extract_number(house['price'])\n",
    "                    if price > income * 0.35:  # 35% rule\n",
    "                        match = False\n",
    "                        break\n",
    "                continue\n",
    "            \n",
    "            # Regular criteria matching\n",
    "            for crit, keys in criterio.items():\n",
    "                if key in keys:\n",
    "                    house_value = extract_number(house[key])\n",
    "                    pref_value = extract_number(value)\n",
    "                    if not comparacion[crit](house_value, pref_value):\n",
    "                        match = False\n",
    "                        break\n",
    "            if not match:                \n",
    "                break          \n",
    "        if match:\n",
    "            suitable_houses.append(house)\n",
    "    return suitable_houses"
   ]
  },
  {
   "cell_type": "code",
   "execution_count": 136,
   "metadata": {},
   "outputs": [
    {
     "data": {
      "text/plain": [
       "'suitable_houses = find_suitable_houses(data, user_preferences)\\n\\n# Display results with personalized message if name was provided\\nif \\'user_name\\' in locals() and user_name:\\n    print(f\"\\n{user_name}, here are the suitable houses based on your preferences:\")\\nelse:\\n    print(\"\\nSuitable houses based on your preferences:\")\\n\\nif suitable_houses:\\n    for house in suitable_houses:\\n        print(f\"House ID: {house[\\'id\\']}, Type: {house[\\'type\\']}, Bedrooms: {house[\\'bedrooms\\']}, Bathrooms: {house[\\'bathrooms\\']}, Price: {house[\\'price\\']}, Square Meters: {house[\\'square_meters\\']}, Location: {house[\\'location\\']}\")\\nelse:\\n    print(data[\\'no_suitable_houses_message\\'])\\n\\n# Personalized goodbye\\nif \\'user_name\\' in locals() and user_name:\\n    print(f\"\\nThank you for using our service, {user_name}! Have a great day!\")'"
      ]
     },
     "execution_count": 136,
     "metadata": {},
     "output_type": "execute_result"
    }
   ],
   "source": [
    "'''suitable_houses = find_suitable_houses(data, user_preferences)\n",
    "\n",
    "# Display results with personalized message if name was provided\n",
    "if 'user_name' in locals() and user_name:\n",
    "    print(f\"\\n{user_name}, here are the suitable houses based on your preferences:\")\n",
    "else:\n",
    "    print(\"\\nSuitable houses based on your preferences:\")\n",
    "\n",
    "if suitable_houses:\n",
    "    for house in suitable_houses:\n",
    "        print(f\"House ID: {house['id']}, Type: {house['type']}, Bedrooms: {house['bedrooms']}, Bathrooms: {house['bathrooms']}, Price: {house['price']}, Square Meters: {house['square_meters']}, Location: {house['location']}\")\n",
    "else:\n",
    "    print(data['no_suitable_houses_message'])\n",
    "\n",
    "# Personalized goodbye\n",
    "if 'user_name' in locals() and user_name:\n",
    "    print(f\"\\nThank you for using our service, {user_name}! Have a great day!\")'''"
   ]
  },
  {
   "cell_type": "markdown",
   "metadata": {
    "id": "AwPm38lDDGNB"
   },
   "source": [
    " <h1><a name=\"ex-seven\"><center> ✏ Exercici 7 ✏ </a></h1>\n",
    "\n",
    "Ara ja teniu un sistema funcional. Aplicant el mètode vist a classe (Exemples, Camins, Prototipat i Proves) milloreu aquest sistema per donar una millor experiència als usuaris.    \n"
   ]
  },
  {
   "cell_type": "code",
   "execution_count": null,
   "metadata": {},
   "outputs": [
    {
     "name": "stdout",
     "output_type": "stream",
     "text": [
      "Welcome to the House Buying Assistant! My name is Bothome, and I'm here to help you find your ideal house. You can type 'quite', and only 'quite', at any time to exit the program.\n",
      "May I have your name? If no, just click the 'Enter' or 'Space' button.\n",
      "How many bedrooms do you need?\n",
      "How many bathrooms do you need?\n",
      "What is your budget for the house?\n",
      "How many square meters do you need?\n",
      "Which city or neighborhood would you prefer?\n",
      "Options: Esplugues de Llobregat, Santa Coloma de Gramenet, Barcelona, L'Hospitalet de Llobregat\n",
      "Do you want a house for buying or renting?\n",
      "Options: sale, rent\n",
      "From which floor would you like to live?\n",
      "Do you want the house to have a terrace?\n",
      "Options: Yes, No\n",
      "Do you want the house to have an elevator?\n",
      "Options: Yes, No\n",
      "Do you need the house to be suitable for commercial use?\n",
      "Options: Yes, No\n",
      "\n",
      "Based on your preferences, here are the most suitable houses:\n",
      "🏠 House ID: 1\n",
      "   Type: rent\n",
      "   Bedrooms: 3, Bathrooms: 2\n",
      "   Price: 1200, Size: 100 m²\n",
      "   Location: Santa Coloma de Gramenet\n",
      "   Floor: 3, Elevator: Yes\n",
      "   Terrace: No, Commercial use: No\n",
      "\n",
      "🏠 House ID: 2\n",
      "   Type: sale\n",
      "   Bedrooms: 4, Bathrooms: 2\n",
      "   Price: 250k, Size: 120 m²\n",
      "   Location: Santa Coloma de Gramenet\n",
      "   Floor: 0, Elevator: No\n",
      "   Terrace: Yes, Commercial use: Yes\n",
      "\n",
      "🏠 House ID: 3\n",
      "   Type: rent\n",
      "   Bedrooms: 2, Bathrooms: 1\n",
      "   Price: 800, Size: 80 m²\n",
      "   Location: Santa Coloma de Gramenet\n",
      "   Floor: 8, Elevator: Yes\n",
      "   Terrace: No, Commercial use: No\n",
      "\n",
      "🏠 House ID: 4\n",
      "   Type: sale\n",
      "   Bedrooms: 1, Bathrooms: 1\n",
      "   Price: 100k, Size: 50 m²\n",
      "   Location: Santa Coloma de Gramenet\n",
      "   Floor: 1, Elevator: No\n",
      "   Terrace: No, Commercial use: No\n",
      "\n",
      "🏠 House ID: 5\n",
      "   Type: rent\n",
      "   Bedrooms: 1, Bathrooms: 1\n",
      "   Price: 650, Size: 55 m²\n",
      "   Location: Santa Coloma de Gramenet\n",
      "   Floor: 2, Elevator: No\n",
      "   Terrace: No, Commercial use: Yes\n",
      "\n",
      "🏠 House ID: 6\n",
      "   Type: sale\n",
      "   Bedrooms: 2, Bathrooms: 1\n",
      "   Price: 120k, Size: 80 m²\n",
      "   Location: Santa Coloma de Gramenet\n",
      "   Floor: 4, Elevator: No\n",
      "   Terrace: No, Commercial use: No\n",
      "\n",
      "🏠 House ID: 7\n",
      "   Type: rent\n",
      "   Bedrooms: 5, Bathrooms: 2\n",
      "   Price: 2000, Size: 150 m²\n",
      "   Location: Santa Coloma de Gramenet\n",
      "   Floor: 2, Elevator: Yes\n",
      "   Terrace: Yes, Commercial use: No\n",
      "\n",
      "🏠 House ID: 8\n",
      "   Type: sale\n",
      "   Bedrooms: 4, Bathrooms: 2\n",
      "   Price: 400k, Size: 150 m²\n",
      "   Location: Esplugues de Llobregat\n",
      "   Floor: 5, Elevator: Yes\n",
      "   Terrace: Yes, Commercial use: Yes\n",
      "\n",
      "🏠 House ID: 9\n",
      "   Type: rent\n",
      "   Bedrooms: 1, Bathrooms: 1\n",
      "   Price: 700, Size: 55 m²\n",
      "   Location: Esplugues de Llobregat\n",
      "   Floor: 3, Elevator: No\n",
      "   Terrace: Yes, Commercial use: No\n",
      "\n",
      "🏠 House ID: 10\n",
      "   Type: sale\n",
      "   Bedrooms: 4, Bathrooms: 3\n",
      "   Price: 262k, Size: 75 m²\n",
      "   Location: Esplugues de Llobregat\n",
      "   Floor: 1, Elevator: Yes\n",
      "   Terrace: No, Commercial use: Yes\n",
      "\n",
      "🏠 House ID: 11\n",
      "   Type: rent\n",
      "   Bedrooms: 3, Bathrooms: 1\n",
      "   Price: 1100, Size: 60 m²\n",
      "   Location: Esplugues de Llobregat\n",
      "   Floor: 2, Elevator: No\n",
      "   Terrace: Yes, Commercial use: No\n",
      "\n",
      "🏠 House ID: 12\n",
      "   Type: sale\n",
      "   Bedrooms: 4, Bathrooms: 2\n",
      "   Price: 350k, Size: 100 m²\n",
      "   Location: Esplugues de Llobregat\n",
      "   Floor: 6, Elevator: Yes\n",
      "   Terrace: Yes, Commercial use: Yes\n",
      "\n",
      "🏠 House ID: 13\n",
      "   Type: sale\n",
      "   Bedrooms: 4, Bathrooms: 2\n",
      "   Price: 330k, Size: 150 m²\n",
      "   Location: L'Hospitalet de Llobregat\n",
      "   Floor: 2, Elevator: Yes\n",
      "   Terrace: Yes, Commercial use: Yes\n",
      "\n",
      "🏠 House ID: 14\n",
      "   Type: rent\n",
      "   Bedrooms: 3, Bathrooms: 1\n",
      "   Price: 1500, Size: 100 m²\n",
      "   Location: L'Hospitalet de Llobregat\n",
      "   Floor: 3, Elevator: No\n",
      "   Terrace: No, Commercial use: No\n",
      "\n",
      "🏠 House ID: 15\n",
      "   Type: sale\n",
      "   Bedrooms: 2, Bathrooms: 1\n",
      "   Price: 190k, Size: 75 m²\n",
      "   Location: L'Hospitalet de Llobregat\n",
      "   Floor: 0, Elevator: No\n",
      "   Terrace: Yes, Commercial use: Yes\n",
      "\n",
      "🏠 House ID: 16\n",
      "   Type: sale\n",
      "   Bedrooms: 3, Bathrooms: 2\n",
      "   Price: 176k, Size: 80 m²\n",
      "   Location: L'Hospitalet de Llobregat\n",
      "   Floor: 1, Elevator: No\n",
      "   Terrace: No, Commercial use: No\n",
      "\n",
      "🏠 House ID: 17\n",
      "   Type: rent\n",
      "   Bedrooms: 1, Bathrooms: 1\n",
      "   Price: 450, Size: 45 m²\n",
      "   Location: Barcelona\n",
      "   Floor: 6, Elevator: No\n",
      "   Terrace: No, Commercial use: No\n",
      "\n",
      "🏠 House ID: 18\n",
      "   Type: rent\n",
      "   Bedrooms: 1, Bathrooms: 1\n",
      "   Price: 850, Size: 50 m²\n",
      "   Location: Barcelona\n",
      "   Floor: 4, Elevator: Yes\n",
      "   Terrace: Yes, Commercial use: No\n",
      "\n",
      "🏠 House ID: 19\n",
      "   Type: rent\n",
      "   Bedrooms: 3, Bathrooms: 1\n",
      "   Price: 600, Size: 75 m²\n",
      "   Location: Barcelona\n",
      "   Floor: 1, Elevator: No\n",
      "   Terrace: Yes, Commercial use: Yes\n",
      "\n",
      "🏠 House ID: 20\n",
      "   Type: sale\n",
      "   Bedrooms: 3, Bathrooms: 2\n",
      "   Price: 360k, Size: 90 m²\n",
      "   Location: Barcelona\n",
      "   Floor: 2, Elevator: No\n",
      "   Terrace: Yes, Commercial use: No\n",
      "\n",
      "🏠 House ID: 21\n",
      "   Type: sale\n",
      "   Bedrooms: 4, Bathrooms: 2\n",
      "   Price: 480k, Size: 120 m²\n",
      "   Location: Barcelona\n",
      "   Floor: 3, Elevator: Yes\n",
      "   Terrace: Yes, Commercial use: Yes\n",
      "\n",
      "🏠 House ID: 22\n",
      "   Type: rent\n",
      "   Bedrooms: 4, Bathrooms: 2\n",
      "   Price: 3000, Size: 100 m²\n",
      "   Location: Barcelona\n",
      "   Floor: 0, Elevator: No\n",
      "   Terrace: No, Commercial use: Yes\n",
      "\n",
      "🏠 House ID: 23\n",
      "   Type: sale\n",
      "   Bedrooms: 3, Bathrooms: 2\n",
      "   Price: 285k, Size: 95 m²\n",
      "   Location: Barcelona\n",
      "   Floor: 1, Elevator: Yes\n",
      "   Terrace: No, Commercial use: No\n",
      "\n",
      "🏠 House ID: 24\n",
      "   Type: sale\n",
      "   Bedrooms: 1, Bathrooms: 1\n",
      "   Price: 200k, Size: 50 m²\n",
      "   Location: Barcelona\n",
      "   Floor: 2, Elevator: No\n",
      "   Terrace: Yes, Commercial use: No\n",
      "\n",
      "🏠 House ID: 25\n",
      "   Type: sale\n",
      "   Bedrooms: 2, Bathrooms: 1\n",
      "   Price: 180k, Size: 60 m²\n",
      "   Location: Barcelona\n",
      "   Floor: 3, Elevator: No\n",
      "   Terrace: No, Commercial use: Yes\n",
      "\n",
      "🏠 House ID: 26\n",
      "   Type: rent\n",
      "   Bedrooms: 4, Bathrooms: 2\n",
      "   Price: 2500, Size: 90 m²\n",
      "   Location: Santa Coloma de Gramenet\n",
      "   Floor: 5, Elevator: Yes\n",
      "   Terrace: Yes, Commercial use: Yes\n",
      "\n",
      "Thank you for using the House Buying Assistant. Goodbye!\n"
     ]
    }
   ],
   "source": [
    "\n",
    "# Exercici 3 - Complete implementation with name support\n",
    "def get_user_name():\n",
    "    \"\"\"Get user's name and return personalized greeting\"\"\"\n",
    "    print(data['start_message'])\n",
    "    name = input().strip()\n",
    "    \n",
    "    if name.lower() == 'quite':\n",
    "        print(data['end_message'])\n",
    "        return 'quite'\n",
    "    \n",
    "    if name == '' or name == ' ':\n",
    "        return None\n",
    "    \n",
    "    # Random personalized greeting\n",
    "    if name:\n",
    "        greeting = random.choice(data['name_prompts']).format(name=name)\n",
    "        print(greeting)\n",
    "    \n",
    "    return name\n",
    "\n",
    "def process_numerical_question_with_name(question, user_name=None):\n",
    "    \"\"\"Process numerical questions with optional personalized messages\"\"\"\n",
    "    print_question(question['question'])\n",
    "    \n",
    "    while True:\n",
    "        answer = input(question['prompt'])\n",
    "        \n",
    "        if answer.lower() == 'quite':\n",
    "            return 'quite'\n",
    "        \n",
    "        if answer.strip() == '' or answer.lower() == 'any':\n",
    "            # 30% chance to use personalized message if user has name\n",
    "            if user_name and random.random() < 0.3:\n",
    "                print(random.choice(data['personalized_messages']).format(name=user_name))\n",
    "            return 'any'\n",
    "        \n",
    "        tok_answer = preprocess_answer(answer)\n",
    "        value = get_numerical_value(tok_answer)\n",
    "        \n",
    "        if not value == '':\n",
    "            # 40% chance to use personalized message if user has name\n",
    "            if user_name and random.random() < 0.4:\n",
    "                print(random.choice(data['personalized_messages']).format(name=user_name))\n",
    "            return value\n",
    "        \n",
    "        print(question['invalid_response'])\n",
    "\n",
    "def process_multichoice_question_with_name(question, options, user_name=None):\n",
    "    \"\"\"Process multichoice questions with optional personalized messages\"\"\"\n",
    "    print_question(question['question'], options)\n",
    "    \n",
    "    while True:\n",
    "        answer = input(question['prompt'])\n",
    "        \n",
    "        if answer.lower() == 'quite':\n",
    "            return 'quite'\n",
    "        \n",
    "        if answer.strip() == '' or answer.lower() == 'any':\n",
    "            # 30% chance to use personalized message if user has name\n",
    "            if user_name and random.random() < 0.5:\n",
    "                print(random.choice(data['personalized_messages']).format(name=user_name))\n",
    "            return 'any'\n",
    "        \n",
    "        if answer in options:\n",
    "            # 40% chance to use personalized message if user has name\n",
    "            if user_name and random.random() < 0.4:\n",
    "                print(random.choice(data['personalized_messages']).format(name=user_name))\n",
    "            return answer\n",
    "        \n",
    "        print(question['invalid_response'])\n",
    "\n",
    "\n",
    "\n",
    "# Test the enhanced system\n",
    "def test_enhanced_system():\n",
    "    \"\"\"Complete chatbot system with name memory and personalization\"\"\"\n",
    "    \n",
    "    def complete_chatbot():\n",
    "        user_preferences, available_options = {}, {}\n",
    "        initialize_available_options(data, available_options)\n",
    "        \n",
    "        # Get user name with welcome message\n",
    "        user_name = get_user_name()\n",
    "\n",
    "        if user_name == 'quite':\n",
    "            print(data['end_message'])\n",
    "            return\n",
    "\n",
    "        \n",
    "        # Process all questions with personalization\n",
    "        for question in data['questions']:\n",
    "            answer_key = question['answer_key']\n",
    "            \n",
    "            # Skip income question if not renting\n",
    "            if answer_key == 'income':\n",
    "                if user_preferences.get('type') in ['sale', 'any']:\n",
    "                    user_preferences['income'] = 'any'\n",
    "                    continue\n",
    "            \n",
    "            if answer_key == 'income':\n",
    "                possible_options = []\n",
    "            else:\n",
    "                possible_options = list(available_options.get(answer_key))\n",
    "\n",
    "            # Ask question with personalization\n",
    "            if question['type'] == 'numerical':\n",
    "                answer = process_numerical_question_with_name(question, user_name)\n",
    "            else:\n",
    "                answer = process_multichoice_question_with_name(question, possible_options, user_name)\n",
    "\n",
    "            if answer == 'quite':\n",
    "                if user_name:\n",
    "                    print(f\"Goodbye {user_name}! {data['end_message']}\")\n",
    "                else:\n",
    "                    print(data['end_message'])\n",
    "                return\n",
    "\n",
    "            user_preferences[answer_key] = answer\n",
    "\n",
    "        # Find and display suitable houses\n",
    "        suitable_houses = find_suitable_houses(data, user_preferences)\n",
    "        \n",
    "        if suitable_houses:\n",
    "            if user_name:\n",
    "                print(f\"\\n{user_name}, based on your preferences, here are the most suitable houses:\")\n",
    "            else:\n",
    "                print(\"\\nBased on your preferences, here are the most suitable houses:\")\n",
    "            \n",
    "            for house in suitable_houses:\n",
    "                print(f\"🏠 House ID: {house['id']}\")\n",
    "                print(f\"   Type: {house['type']}\")\n",
    "                print(f\"   Bedrooms: {house['bedrooms']}, Bathrooms: {house['bathrooms']}\")\n",
    "                print(f\"   Price: {house['price']}, Size: {house['square_meters']} m²\")\n",
    "                print(f\"   Location: {house['location']}\")\n",
    "                print(f\"   Floor: {house['floor']}, Elevator: {house['elevator']}\")\n",
    "                print(f\"   Terrace: {house['terrace']}, Commercial use: {house['commercial_use']}\")\n",
    "                print()\n",
    "        else:\n",
    "            if user_name:\n",
    "                print(f\"Sorry {user_name}, {data['no_suitable_houses_message']}\")\n",
    "            else:\n",
    "                print(data['no_suitable_houses_message'])\n",
    "        \n",
    "        # Final personalized goodbye\n",
    "        if user_name:\n",
    "            print(f\"Thank you for using our service, {user_name}! I hope we helped you find your perfect home. {data['end_message']}\")\n",
    "        else:\n",
    "            print(data['end_message'])\n",
    "    \n",
    "    # Run the complete chatbot\n",
    "    complete_chatbot()\n",
    "\n",
    "# Uncomment to test the enhanced system\n",
    "test_enhanced_system()"
   ]
  },
  {
   "cell_type": "markdown",
   "metadata": {},
   "source": []
  },
  {
   "cell_type": "markdown",
   "metadata": {
    "id": "4FaXlfF2rraz"
   },
   "source": [
    "<h1><a name=\"section-four\"> 4. Lliurable </a></h1>\n",
    "\n",
    " *CASOS LÍMITS (Ctrl C, quit)*\n",
    "\n",
    "*Comprovar a cada pregunta si queda alguna opció disponible.*\n",
    "\n",
    "*Més flexibilitat en la resposta (NER per detectar la resposta o detecció de sentiments)*\n",
    "\n",
    "Heu d'entregar un document PDF de com a **màxim 10 pàgines** que incloga els resultats de tots els exercicis així com una explicació de cadascun dels resultats i de la modificació que heu fet. L'estructura del document és:\n",
    "\n",
    "1. Introducció.\n",
    "2. Resultats (amb raonament).\n",
    "3. Conversation flow del vostre sistema final. (PPT)\n",
    "4. Conclusions.\n",
    "\n",
    "No cal que afegiu el vostre codi al document, podeu entregar el *notebook* juntament amb el document.\n"
   ]
  },
  {
   "cell_type": "code",
   "execution_count": null,
   "metadata": {},
   "outputs": [],
   "source": []
  },
  {
   "cell_type": "markdown",
   "metadata": {
    "id": "fXFq7TmHoN-r"
   },
   "source": [
    "---"
   ]
  }
 ],
 "metadata": {
  "colab": {
   "provenance": []
  },
  "kernelspec": {
   "display_name": "Python 3",
   "name": "python3"
  },
  "language_info": {
   "codemirror_mode": {
    "name": "ipython",
    "version": 3
   },
   "file_extension": ".py",
   "mimetype": "text/x-python",
   "name": "python",
   "nbconvert_exporter": "python",
   "pygments_lexer": "ipython3",
   "version": "3.10.11"
  }
 },
 "nbformat": 4,
 "nbformat_minor": 0
}
