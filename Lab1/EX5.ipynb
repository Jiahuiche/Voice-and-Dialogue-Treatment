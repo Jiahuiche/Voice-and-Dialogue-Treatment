{
 "cells": [
  {
   "cell_type": "markdown",
   "metadata": {
    "id": "nrD713VgwE3A"
   },
   "source": [
    "<center>\n",
    "<h1 style=\"font-family:verdana\">\n",
    " 🏘 Sistema de diàleg basat en regles 🏘 <h1>\n",
    "\n",
    "\n",
    "\n",
    "\n",
    "\n",
    "\n"
   ]
  },
  {
   "cell_type": "markdown",
   "metadata": {
    "id": "VOK-8Oq6zpUS"
   },
   "source": [
    "<p>   🎯 <b>Objectiu</b>: en aquesta pràctica aprendrem a crear un assistent senzill de compra d'habitatges. El sistema haurà d'identificar i mostrar les cases que coincideixen amb les preferències de l'usuari. A poc a poc anirem afegint-hi funcionalitats, perquè el sistema siga més complet. </p>\n",
    "\n",
    "<p> ✨ <b>Contingut</b>: en primer lloc, començarem amb un exemple senzill en què el sistema llançarà unes preguntes i respostes predefinides i l'usuari haurà d'escollir. A poc a poc anirem afegint-hi funcionalitats, perquè el sistema siga més complet. </p>\n",
    "\n",
    "✏ <b>Exercicis</b>: en cada secció anireu trobant exercicis que haureu d'anar resolent.\n",
    "\n",
    "---\n",
    "\n",
    "<h2> Índex </h2>\n",
    "\n",
    "\n",
    "1. [Fitxer JSON](#section-one)\n",
    "  * [Exercici 1](#ex-one)\n",
    "2. [Sistema de diàleg senzill](#section-two)\n",
    "  * [Exercici 2](#ex-two)\n",
    "  * [Exercici 3](#ex-three)\n",
    "  * [Exercici 4](#ex-four)\n",
    "3. [Millorem el sistema de diàleg](#section-three)\n",
    "  * [Exercici 5](#ex-five)\n",
    "  * [Exercici 6](#ex-six)\n",
    "4. [Lliurable](#section-four)\n",
    "---\n"
   ]
  },
  {
   "cell_type": "code",
   "execution_count": 1,
   "metadata": {
    "colab": {
     "base_uri": "https://localhost:8080/"
    },
    "id": "IlPoWdgTrQX9",
    "outputId": "2f7aed60-3e5a-4476-9916-14ebcf81f17b"
   },
   "outputs": [],
   "source": [
    "import nltk\n",
    "\n",
    "from nltk.tokenize.treebank import TreebankWordTokenizer\n",
    "from nltk.corpus import stopwords\n",
    "from nltk.stem.porter import PorterStemmer\n",
    "from nltk.stem import WordNetLemmatizer\n",
    "from nltk.tokenize import TweetTokenizer\n",
    "\n",
    "import json\n",
    "import sys"
   ]
  },
  {
   "cell_type": "markdown",
   "metadata": {
    "id": "Zy3WwD_FPJFW"
   },
   "source": [
    "<h1><a name=\"section-one\"> 1. Fitxer JSON </a></h1>\n",
    "\n",
    "En primer lloc, carregarem el fitxer JSON per analitzar-ne l'estructura."
   ]
  },
  {
   "cell_type": "code",
   "execution_count": 2,
   "metadata": {
    "id": "kR5ovNENrER1"
   },
   "outputs": [
    {
     "name": "stdout",
     "output_type": "stream",
     "text": [
      "Start message:  Welcome to the House Buying Assistant!\n",
      "End message:  Thank you for using the House Buying Assistant. Goodbye!\n",
      "Questions:  [{'question': 'How many bedrooms do you need?', 'type': 'numerical', 'prompt': 'Enter your choice (1 - 5 bedrooms): ', 'invalid_response': \"Invalid input. Please try again or write 'quite' to exit.\", 'answer_key': 'bedrooms'}, {'question': 'How many bathrooms do you need?', 'type': 'numerical', 'prompt': 'Enter your choice (1 - 3 bathrooms): ', 'invalid_response': \"Invalid input. Please try again or write 'quite' to exit.\", 'answer_key': 'bathrooms'}, {'question': 'What is your budget for the house?', 'type': 'numerical', 'prompt': 'Enter your choice (1k - 999k euros):', 'invalid_response': \"Invalid input. Please try again or write 'quite' to exit.\", 'answer_key': 'price'}, {'question': 'How many square meters do you need?', 'type': 'numerical', 'prompt': 'Enter your choice (30 - 200 meters)', 'invalid_response': \"Invalid input. Please try again or write 'quite' to exit.\", 'answer_key': 'square_meters'}, {'question': 'Which city or neighborhood would you prefer?', 'type': 'multichoice', 'prompt': 'Enter your choice', 'invalid_response': \"Invalid input. Please try again or write 'quite' to exit.\", 'answer_key': 'location'}, {'question': 'Do you want a house for buying or renting?', 'type': 'multichoice', 'prompt': \"Type 'sale' to buy or 'rent' to rent:\", 'invalid_response': \"Invalid input. Please try again or write 'quite' to exit.\", 'answer_key': 'type'}, {'question': \"What is your household's monthly income?\", 'type': 'numerical', 'prompt': 'Enter your monthly income in euros:', 'invalid_response': \"Invalid input. Please try again or write 'quite' to exit.\", 'answer_key': 'income'}, {'question': 'From which floor would you like to live?', 'type': 'numerical', 'prompt': 'Enter the minimum floor number (0 = ground floor):', 'invalid_response': \"Invalid input. Please try again or write 'quite' to exit.\", 'answer_key': 'floor'}, {'question': 'Do you want the house to have a terrace?', 'type': 'multichoice', 'prompt': \"Answer 'Yes' or 'No':\", 'invalid_response': \"Invalid input. Please try again or write 'quite' to exit.\", 'answer_key': 'terrace'}, {'question': 'Do you want the house to have an elevator?', 'type': 'multichoice', 'prompt': \"Answer 'Yes' or 'No':\", 'invalid_response': \"Invalid input. Please try again or write 'quite' to exit.\", 'answer_key': 'elevator'}, {'question': 'Do you need the house to be suitable for commercial use?', 'type': 'multichoice', 'prompt': \"Answer 'Yes' or 'No':\", 'invalid_response': \"Invalid input. Please try again or write 'quite' to exit.\", 'answer_key': 'commercial_use'}]\n",
      "House:  [{'id': 1, 'type': 'rent', 'bedrooms': '3', 'bathrooms': '2', 'price': '1200', 'square_meters': '100', 'floor': '3', 'elevator': 'Yes', 'commercial_use': 'No', 'terrace': 'No', 'location': 'Santa Coloma de Gramenet'}, {'id': 2, 'type': 'sale', 'bedrooms': '4', 'bathrooms': '2', 'price': '250k', 'square_meters': '120', 'floor': '0', 'elevator': 'No', 'commercial_use': 'Yes', 'terrace': 'Yes', 'location': 'Santa Coloma de Gramenet'}, {'id': 3, 'type': 'rent', 'bedrooms': '2', 'bathrooms': '1', 'price': '800', 'square_meters': '80', 'floor': '8', 'elevator': 'Yes', 'commercial_use': 'No', 'terrace': 'No', 'location': 'Santa Coloma de Gramenet'}, {'id': 4, 'type': 'sale', 'bedrooms': '1', 'bathrooms': '1', 'price': '100k', 'square_meters': '50', 'floor': '1', 'elevator': 'No', 'commercial_use': 'No', 'terrace': 'No', 'location': 'Santa Coloma de Gramenet'}, {'id': 5, 'type': 'rent', 'bedrooms': '1', 'bathrooms': '1', 'price': '650', 'square_meters': '55', 'floor': '2', 'elevator': 'No', 'commercial_use': 'Yes', 'terrace': 'No', 'location': 'Santa Coloma de Gramenet'}, {'id': 6, 'type': 'sale', 'bedrooms': '2', 'bathrooms': '1', 'price': '120k', 'square_meters': '80', 'floor': '4', 'elevator': 'No', 'commercial_use': 'No', 'terrace': 'No', 'location': 'Santa Coloma de Gramenet'}, {'id': 7, 'type': 'rent', 'bedrooms': '5', 'bathrooms': '2', 'price': '2000', 'square_meters': '150', 'floor': '2', 'elevator': 'Yes', 'commercial_use': 'No', 'terrace': 'Yes', 'location': 'Santa Coloma de Gramenet'}, {'id': 8, 'type': 'sale', 'bedrooms': '4', 'bathrooms': '2', 'price': '400k', 'square_meters': '150', 'floor': '5', 'elevator': 'Yes', 'commercial_use': 'Yes', 'terrace': 'Yes', 'location': 'Esplugues de Llobregat'}, {'id': 9, 'type': 'rent', 'bedrooms': '1', 'bathrooms': '1', 'price': '700', 'square_meters': '55', 'floor': '3', 'elevator': 'No', 'commercial_use': 'No', 'terrace': 'Yes', 'location': 'Esplugues de Llobregat'}, {'id': 10, 'type': 'sale', 'bedrooms': '4', 'bathrooms': '3', 'price': '262k', 'square_meters': '75', 'floor': '1', 'elevator': 'Yes', 'commercial_use': 'Yes', 'terrace': 'No', 'location': 'Esplugues de Llobregat'}, {'id': 11, 'type': 'rent', 'bedrooms': '3', 'bathrooms': '1', 'price': '1100', 'square_meters': '60', 'floor': '2', 'elevator': 'No', 'commercial_use': 'No', 'terrace': 'Yes', 'location': 'Esplugues de Llobregat'}, {'id': 12, 'type': 'sale', 'bedrooms': '4', 'bathrooms': '2', 'price': '350k', 'square_meters': '100', 'floor': '6', 'elevator': 'Yes', 'commercial_use': 'Yes', 'terrace': 'Yes', 'location': 'Esplugues de Llobregat'}, {'id': 13, 'type': 'sale', 'bedrooms': '4', 'bathrooms': '2', 'price': '330k', 'square_meters': '150', 'floor': '2', 'elevator': 'Yes', 'commercial_use': 'Yes', 'terrace': 'Yes', 'location': \"L'Hospitalet de Llobregat\"}, {'id': 14, 'type': 'rent', 'bedrooms': '3', 'bathrooms': '1', 'price': '1500', 'square_meters': '100', 'floor': '3', 'elevator': 'No', 'commercial_use': 'No', 'terrace': 'No', 'location': \"L'Hospitalet de Llobregat\"}, {'id': 15, 'type': 'sale', 'bedrooms': '2', 'bathrooms': '1', 'price': '190k', 'square_meters': '75', 'floor': '0', 'elevator': 'No', 'commercial_use': 'Yes', 'terrace': 'Yes', 'location': \"L'Hospitalet de Llobregat\"}, {'id': 16, 'type': 'sale', 'bedrooms': '3', 'bathrooms': '2', 'price': '176k', 'square_meters': '80', 'floor': '1', 'elevator': 'No', 'commercial_use': 'No', 'terrace': 'No', 'location': \"L'Hospitalet de Llobregat\"}, {'id': 17, 'type': 'rent', 'bedrooms': '1', 'bathrooms': '1', 'price': '450', 'square_meters': '45', 'floor': '6', 'elevator': 'No', 'commercial_use': 'No', 'terrace': 'No', 'location': 'Barcelona'}, {'id': 18, 'type': 'rent', 'bedrooms': '1', 'bathrooms': '1', 'price': '850', 'square_meters': '50', 'floor': '4', 'elevator': 'Yes', 'commercial_use': 'No', 'terrace': 'Yes', 'location': 'Barcelona'}, {'id': 19, 'type': 'rent', 'bedrooms': '3', 'bathrooms': '1', 'price': '600', 'square_meters': '75', 'floor': '1', 'elevator': 'No', 'commercial_use': 'Yes', 'terrace': 'Yes', 'location': 'Barcelona'}, {'id': 20, 'type': 'sale', 'bedrooms': '3', 'bathrooms': '2', 'price': '360k', 'square_meters': '90', 'floor': '2', 'elevator': 'No', 'commercial_use': 'No', 'terrace': 'Yes', 'location': 'Barcelona'}, {'id': 21, 'type': 'sale', 'bedrooms': '4', 'bathrooms': '2', 'price': '480k', 'square_meters': '120', 'floor': '3', 'elevator': 'Yes', 'commercial_use': 'Yes', 'terrace': 'Yes', 'location': 'Barcelona'}, {'id': 22, 'type': 'rent', 'bedrooms': '4', 'bathrooms': '2', 'price': '3000', 'square_meters': '100', 'floor': '0', 'elevator': 'No', 'commercial_use': 'Yes', 'terrace': 'No', 'location': 'Barcelona'}, {'id': 23, 'type': 'sale', 'bedrooms': '3', 'bathrooms': '2', 'price': '285k', 'square_meters': '95', 'floor': '1', 'elevator': 'Yes', 'commercial_use': 'No', 'terrace': 'No', 'location': 'Barcelona'}, {'id': 24, 'type': 'sale', 'bedrooms': '1', 'bathrooms': '1', 'price': '200k', 'square_meters': '50', 'floor': '2', 'elevator': 'No', 'commercial_use': 'No', 'terrace': 'Yes', 'location': 'Barcelona'}, {'id': 25, 'type': 'sale', 'bedrooms': '2', 'bathrooms': '1', 'price': '180k', 'square_meters': '60', 'floor': '3', 'elevator': 'No', 'commercial_use': 'Yes', 'terrace': 'No', 'location': 'Barcelona'}, {'id': 26, 'type': 'rent', 'bedrooms': '4', 'bathrooms': '2', 'price': '250k', 'square_meters': '90', 'floor': '5', 'elevator': 'Yes', 'commercial_use': 'Yes', 'terrace': 'Yes', 'location': 'Santa Coloma de Gramenet'}]\n"
     ]
    }
   ],
   "source": [
    "# El nostre base de coneixement (plantilles de respostes)\n",
    "with open('data_base.json') as f:\n",
    "  data = json.load(f)\n",
    "\n",
    "print('Start message: ', data['start_message'])\n",
    "print('End message: ', data['end_message'])\n",
    "# Decideix quina pregunta fa ==> detectar info relevant de la resposta(entitats) == Context\n",
    "print('Questions: ', data['questions'])\n",
    "# S'afegeix Context al json (és dinàmic)\n",
    "print('House: ', data['houses'])\n"
   ]
  },
  {
   "cell_type": "markdown",
   "metadata": {
    "id": "44cDB0gnrnCF"
   },
   "source": [
    "Podeu veure com al fitxer JSON podem trobar el missatge de benvinguda i el missatge de comiat. Les diferents preguntes predefinides que el sistema demanarà a l'usuari. I les cases que l'agència té disponibles per a oferir a l'usuari.\n",
    "\n",
    "Si no acabeu d'entendre el format, podeu copiar el contingut del fitxer JSON [aquí](https://jsonviewer.stack.hu/) per visualitzar millor l'estructura."
   ]
  },
  {
   "cell_type": "markdown",
   "metadata": {
    "id": "VY74xa6_PdJ5"
   },
   "source": [
    "---\n",
    "\n",
    "\n",
    "\n",
    " <h1><a name=\"ex-one\"><center> ✏ Exercici 1 ✏</a></h1>\n"
   ]
  },
  {
   "cell_type": "markdown",
   "metadata": {
    "id": "203gq-tFsp3n"
   },
   "source": [
    "En aquest primer exercici us demanem que afegiu una nova casa manualment al fitxer JSON amb l'id 26. La resta de camps els podeu emplenar com vulgueu.\n",
    "\n",
    "Si ho heu fet correctament podreu veure al següent *print* les dades que heu introduït."
   ]
  },
  {
   "cell_type": "code",
   "execution_count": 3,
   "metadata": {
    "id": "djlcHiwQIRAU"
   },
   "outputs": [
    {
     "name": "stdout",
     "output_type": "stream",
     "text": [
      "House ID: 26\n",
      "Bedrooms: 4\n",
      "Bathrooms: 2\n",
      "Price: 250k\n",
      "Square Meters: 90\n",
      "Location: Santa Coloma de Gramenet\n"
     ]
    }
   ],
   "source": [
    "id = 26\n",
    "house = data['houses'][id-1]\n",
    "\n",
    "print(f\"House ID: {house['id']}\")\n",
    "print(f\"Bedrooms: {house['bedrooms']}\")\n",
    "print(f\"Bathrooms: {house['bathrooms']}\")\n",
    "print(f\"Price: {house['price']}\")\n",
    "print(f\"Square Meters: {house['square_meters']}\")\n",
    "print(f\"Location: {house['location']}\")"
   ]
  },
  {
   "cell_type": "markdown",
   "metadata": {
    "id": "KHihCXXdWvJJ"
   },
   "source": [
    "---"
   ]
  },
  {
   "cell_type": "markdown",
   "metadata": {
    "id": "K1F0NWgvPUdG"
   },
   "source": [
    "<h1><a name=\"section-two\"> 2. Sistema de diàleg senzill </a></h1>\n"
   ]
  },
  {
   "cell_type": "markdown",
   "metadata": {
    "id": "vqkW23xFMzx-"
   },
   "source": [
    "En aquesta primera part crearem un sistema senzill que mostrarà les preguntes predefinides i, a continuació l'usuari haurà d'introduir la resposta. Tractarem de manera diferent les preguntes en què la resposta siga un número i les preguntes d'opció múltiple.\n",
    "\n",
    "Intenteu entendre el funcionament, ja que treballarem sobre aquest codi."
   ]
  },
  {
   "cell_type": "code",
   "execution_count": 4,
   "metadata": {
    "id": "9B892KaLOG_M"
   },
   "outputs": [
    {
     "name": "stdout",
     "output_type": "stream",
     "text": [
      "['Vull', 'un', 'pis', 'de', '35k', '€']\n"
     ]
    }
   ],
   "source": [
    "# Print question\n",
    "def print_question(prompt, possible_options = []):\n",
    "    print(prompt)\n",
    "    if not len(possible_options) == 0:\n",
    "      print(\"Options:\", \", \".join(possible_options))\n",
    "\n",
    "# Omplint la base de knowledge\n",
    "def initialize_available_options(house_data, available_options):\n",
    "    for house in house_data['houses']:\n",
    "        for key, value in house.items():\n",
    "            available_options.setdefault(key, set()).add(value)\n",
    "\n",
    "def preprocess_answer(answer):\n",
    "    answer = nltk.word_tokenize(answer)\n",
    "    return answer\n",
    "\n",
    "# Detectar entitats\n",
    "def get_numerical_value(tok_answer):\n",
    "    for token in tok_answer:\n",
    "        if token.isnumeric() or token[:-1].isnumeric():\n",
    "            return token\n",
    "    return ''\n",
    "\n",
    "#Exemple de frase tokenitzada\n",
    "print(preprocess_answer('Vull un pis de 35k €'))"
   ]
  },
  {
   "cell_type": "code",
   "execution_count": 5,
   "metadata": {
    "id": "-HVQvjfyrbTr"
   },
   "outputs": [
    {
     "name": "stdout",
     "output_type": "stream",
     "text": [
      "{'id': {1, 2, 3, 4, 5, 6, 7, 8, 9, 10, 11, 12, 13, 14, 15, 16, 17, 18, 19, 20, 21, 22, 23, 24, 25, 26}, 'type': {'sale', 'rent'}, 'bedrooms': {'5', '3', '4', '2', '1'}, 'bathrooms': {'3', '1', '2'}, 'price': {'800', '176k', '180k', '400k', '450', '330k', '120k', '850', '2000', '200k', '3000', '262k', '360k', '1500', '350k', '1200', '480k', '250k', '285k', '650', '190k', '1100', '600', '100k', '700'}, 'square_meters': {'50', '55', '45', '95', '60', '120', '80', '150', '90', '100', '75'}, 'floor': {'5', '3', '4', '2', '0', '6', '8', '1'}, 'elevator': {'Yes', 'No'}, 'commercial_use': {'Yes', 'No'}, 'terrace': {'Yes', 'No'}, 'location': {\"L'Hospitalet de Llobregat\", 'Esplugues de Llobregat', 'Santa Coloma de Gramenet', 'Barcelona'}}\n"
     ]
    },
    {
     "data": {
      "text/plain": [
       "\"\\nfor question in data['questions']:\\n  answer_key = question['answer_key']\\n  print(answer_key)\\n  possible_options = list(available_options.get(answer_key))\\n  \\n\\n  if question['type'] == 'numerical':\\n    answer = process_numerical_question(question)\\n  else:\\n    answer = process_multichoice_question(question, possible_options)\\n\\n  user_preferences[answer_key] = answer\\n\""
      ]
     },
     "execution_count": 5,
     "metadata": {},
     "output_type": "execute_result"
    }
   ],
   "source": [
    "# 2 tipus de preguntas (resposta numèriques y textuals)\n",
    "def process_numerical_question(question):\n",
    "    print_question(question['question'])\n",
    "    while True:\n",
    "      answer = input(question['prompt'])\n",
    "      tok_answer = preprocess_answer(answer)\n",
    "      value = get_numerical_value(tok_answer)\n",
    "      if not value == '':\n",
    "        return value\n",
    "\n",
    "def process_multichoice_question(question, options):\n",
    "    print_question(question['question'], options)\n",
    "    while True:\n",
    "      answer = input(question['prompt'])\n",
    "      if answer in options:\n",
    "        return answer\n",
    "\n",
    "user_preferences, available_options = {}, {}\n",
    "initialize_available_options(data, available_options)\n",
    "print(available_options)\n",
    "\n",
    "################ BOT ###################\n",
    "'''\n",
    "for question in data['questions']:\n",
    "  answer_key = question['answer_key']\n",
    "  print(answer_key)\n",
    "  possible_options = list(available_options.get(answer_key))\n",
    "  \n",
    "\n",
    "  if question['type'] == 'numerical':\n",
    "    answer = process_numerical_question(question)\n",
    "  else:\n",
    "    answer = process_multichoice_question(question, possible_options)\n",
    "\n",
    "  user_preferences[answer_key] = answer\n",
    "'''\n",
    "# Un cop acabat, és necessari provar-ho amb camins feliços y no feliços."
   ]
  },
  {
   "cell_type": "markdown",
   "metadata": {
    "id": "YBznMtYjPwAT"
   },
   "source": [
    "\n",
    "\n",
    "---\n",
    "\n",
    "\n",
    " <h1><a name=\"ex-two\"><center> ✏ Exercici 2 ✏ </a></h1>"
   ]
  },
  {
   "cell_type": "markdown",
   "metadata": {
    "id": "H0fcTQe1XlmV"
   },
   "source": [
    "A continuació millorarem un poc el sistema. Us proposem que afegiu la frase de benvinguda que tenim guardada al fitxer JSON. És a dir, abans de mostrar la primera pregunta el sistema ens donarà la benvinguda."
   ]
  },
  {
   "cell_type": "markdown",
   "metadata": {
    "id": "_ygcX-SXPy__"
   },
   "source": [
    "---\n",
    "\n",
    "\n",
    " <h1><a name=\"ex-three\"><center> ✏ Exercici 3 ✏ </a></h1>\n",
    "\n",
    "En aquest exercici us demanem que permeteu a l'usuari abandonar el programa quan ho desitge. Per exemple, si l'usuari escriu `quit`, que el sistema s'acomiade amb l'oració de comiat que trobareu al JSON i finalitze el programa.\n",
    "\n",
    "\n",
    "🙃 `sys.exit()` genera una excepció SystemExit."
   ]
  },
  {
   "cell_type": "code",
   "execution_count": 6,
   "metadata": {
    "id": "e7gUiHk6EeYc"
   },
   "outputs": [],
   "source": [
    "#TO DO"
   ]
  },
  {
   "cell_type": "markdown",
   "metadata": {
    "id": "6-mx4dwNmthd"
   },
   "source": [
    "Funciona també si escriviu `Quit`?"
   ]
  },
  {
   "cell_type": "markdown",
   "metadata": {
    "id": "QcOE82F-P1lQ"
   },
   "source": [
    "---\n",
    "\n",
    " <h1><a name=\"ex-four\"><center> ✏ Exercici 4 ✏ </a></h1>"
   ]
  },
  {
   "cell_type": "markdown",
   "metadata": {
    "id": "F-is-nYIZVop"
   },
   "source": [
    "Fins ara tenim a `user_preferences` les opcions que l'usuari ha escollit.\n",
    "\n",
    "\n",
    "\n",
    "\n",
    "\n"
   ]
  },
  {
   "cell_type": "code",
   "execution_count": 7,
   "metadata": {
    "id": "1GSRF2RiTarQ"
   },
   "outputs": [
    {
     "data": {
      "text/plain": [
       "{}"
      ]
     },
     "execution_count": 7,
     "metadata": {},
     "output_type": "execute_result"
    }
   ],
   "source": [
    "user_preferences"
   ]
  },
  {
   "cell_type": "markdown",
   "metadata": {
    "id": "pxX2XqAsMjvq"
   },
   "source": [
    "Per tant, ara haurem de revisar si l'agència disposa d'alguna casa disponible amb aquestes característiques. Per això us proposem completar la funció `find_suitable_houses`. Aquesta funció tornarà una llista amb tants diccionaris com cases disponibles. Per exemple si segons les preferències de l'usuari només està disponible la casa amb id 3, `suitable_house` serà:\n",
    "\n",
    "\n",
    "```\n",
    "[{'id': 3, 'bedrooms': '2', 'bathrooms': '1', 'price': '160k', 'square_meters': '80', 'location': 'Santa Coloma de Gramenet'}]\n",
    "```"
   ]
  },
  {
   "cell_type": "code",
   "execution_count": 8,
   "metadata": {
    "id": "0GOWOCnuaN5f"
   },
   "outputs": [],
   "source": [
    "#TODO\n",
    "#def find_suitable_houses(data, user_preferences):\n",
    "    #...\n",
    "    #return suitable_houses"
   ]
  },
  {
   "cell_type": "markdown",
   "metadata": {
    "id": "Fo-4vsc2WIPx"
   },
   "source": [
    "---\n",
    "\n"
   ]
  },
  {
   "cell_type": "markdown",
   "metadata": {
    "id": "EJ08m-3T21eS"
   },
   "source": [
    "Una vegada tingueu la funció `find_suitable_houses` programada, podreu executar el següent *script* que us mostrarà, si n'hi ha, la casa o cases disponibles amb les característiques que heu triat."
   ]
  },
  {
   "cell_type": "code",
   "execution_count": 9,
   "metadata": {
    "id": "UyT1h1hcakNl"
   },
   "outputs": [
    {
     "data": {
      "text/plain": [
       "'def print_suitable_houses(suitable_houses):\\n  if suitable_houses:\\n    print(\"\\nBased on your preferences, the most suitable houses are:\")\\n    for house in suitable_houses:\\n      print(f\"House ID: {house[\\'id\\']}\")\\n      print(f\"Type: {house[\\'type\\']}\")\\n      print(\"Bedrooms:\", house[\\'bedrooms\\'])\\n      print(\"Bathrooms:\", house[\\'bathrooms\\'])\\n      print(\"Price:\", house[\\'price\\'], \"euros\")\\n      print(\"Square Meters:\", house[\\'square_meters\\'], \"m^2\")\\n      print(\"Location:\", house[\\'location\\'])\\n      print()\\n  else:\\n    print(\"\\nSorry, no suitable houses match your preferences. \\n\")\\n\\n\\nsuitable_houses = find_suitable_houses(data, user_preferences)\\nprint_suitable_houses(suitable_houses)'"
      ]
     },
     "execution_count": 9,
     "metadata": {},
     "output_type": "execute_result"
    }
   ],
   "source": [
    "'''def print_suitable_houses(suitable_houses):\n",
    "  if suitable_houses:\n",
    "    print(\"\\nBased on your preferences, the most suitable houses are:\")\n",
    "    for house in suitable_houses:\n",
    "      print(f\"House ID: {house['id']}\")\n",
    "      print(f\"Type: {house['type']}\")\n",
    "      print(\"Bedrooms:\", house['bedrooms'])\n",
    "      print(\"Bathrooms:\", house['bathrooms'])\n",
    "      print(\"Price:\", house['price'], \"euros\")\n",
    "      print(\"Square Meters:\", house['square_meters'], \"m^2\")\n",
    "      print(\"Location:\", house['location'])\n",
    "      print()\n",
    "  else:\n",
    "    print(\"\\nSorry, no suitable houses match your preferences. \\n\")\n",
    "\n",
    "\n",
    "suitable_houses = find_suitable_houses(data, user_preferences)\n",
    "print_suitable_houses(suitable_houses)'''"
   ]
  },
  {
   "cell_type": "markdown",
   "metadata": {
    "id": "TCiN1L6SP4sU"
   },
   "source": [
    "<h1><a name=\"section-three\"> 3. Millorem el sistema de diàleg </a></h1>\n"
   ]
  },
  {
   "cell_type": "markdown",
   "metadata": {
    "id": "quqFEbxvQEmV"
   },
   "source": [
    "---\n",
    "\n",
    "\n",
    " <h1><a name=\"ex-five\"><center> ✏ Exercici 5 ✏ </a></h1>\n",
    "\n",
    "Tal com haureu comprovat sempre esteu obligats a triar una opció. En aquest últim exercici proposem que afegiu l'opció de no triar-ne cap. És a dir, si ens és igual el nombre d'habitacions, podrem posar per exemple `any` i el sistema ens farà la següent pregunta."
   ]
  },
  {
   "cell_type": "code",
   "execution_count": 14,
   "metadata": {
    "id": "t_OJqUoF5NE-"
   },
   "outputs": [
    {
     "name": "stdout",
     "output_type": "stream",
     "text": [
      "How many bedrooms do you need?\n"
     ]
    },
    {
     "name": "stdout",
     "output_type": "stream",
     "text": [
      "How many bathrooms do you need?\n",
      "What is your budget for the house?\n",
      "What is your budget for the house?\n",
      "How many square meters do you need?\n",
      "How many square meters do you need?\n",
      "Which city or neighborhood would you prefer?\n",
      "Options: L'Hospitalet de Llobregat, Esplugues de Llobregat, Santa Coloma de Gramenet, Barcelona\n",
      "Which city or neighborhood would you prefer?\n",
      "Options: L'Hospitalet de Llobregat, Esplugues de Llobregat, Santa Coloma de Gramenet, Barcelona\n",
      "Do you want a house for buying or renting?\n",
      "Options: sale, rent\n",
      "Do you want a house for buying or renting?\n",
      "Options: sale, rent\n",
      "From which floor would you like to live?\n",
      "From which floor would you like to live?\n",
      "Do you want the house to have a terrace?\n",
      "Options: Yes, No\n",
      "Do you want the house to have a terrace?\n",
      "Options: Yes, No\n",
      "Do you want the house to have an elevator?\n",
      "Options: Yes, No\n",
      "Do you want the house to have an elevator?\n",
      "Options: Yes, No\n",
      "Do you need the house to be suitable for commercial use?\n",
      "Options: Yes, No\n",
      "Do you need the house to be suitable for commercial use?\n",
      "Options: Yes, No\n"
     ]
    }
   ],
   "source": [
    "# TO DO\n",
    "def process_numerical_question(question):\n",
    "    print_question(question['question'])\n",
    "    while True:\n",
    "      answer = input(question['prompt'])\n",
    "      if answer.strip() == '':\n",
    "         return 'any'\n",
    "      tok_answer = preprocess_answer(answer)\n",
    "      value = get_numerical_value(tok_answer)\n",
    "      if not value == '':\n",
    "        return value\n",
    "\n",
    "def process_multichoice_question(question, options):\n",
    "    print_question(question['question'], options)\n",
    "    while True:\n",
    "      answer = input(question['prompt'])\n",
    "      if answer in options:\n",
    "        return answer\n",
    "      elif answer.strip() == '':\n",
    "         answer = 'any'\n",
    "         return answer\n",
    "      \n",
    "def chatbox_withANYoption():\n",
    "    for question in data['questions']:\n",
    "        answer_key = question['answer_key']\n",
    "        \n",
    "        # Skip income question if user chose 'sale' or 'any' for house type\n",
    "        if answer_key == 'income':\n",
    "            if user_preferences.get('type') == 'sale' or user_preferences.get('type') == 'any':\n",
    "                user_preferences['income'] = 'any'\n",
    "                continue\n",
    "        \n",
    "        if answer_key == 'income':\n",
    "          possible_options = []\n",
    "        else:\n",
    "          possible_options = list(available_options.get(answer_key))\n",
    "\n",
    "        if question['type'] == 'numerical':\n",
    "            answer = process_numerical_question(question)\n",
    "        else:\n",
    "            answer = process_multichoice_question(question, possible_options)\n",
    "\n",
    "        user_preferences[answer_key] = answer\n",
    "\n",
    "chatbox_withANYoption()"
   ]
  },
  {
   "cell_type": "code",
   "execution_count": 13,
   "metadata": {},
   "outputs": [
    {
     "name": "stdout",
     "output_type": "stream",
     "text": [
      "{'bedrooms': 'any', 'bathrooms': 'any', 'price': 'any', 'square_meters': 'any', 'location': 'any', 'type': 'any', 'income': 'any', 'floor': 'any', 'terrace': 'any', 'elevator': 'any', 'commercial_use': 'any'}\n"
     ]
    }
   ],
   "source": [
    "print(user_preferences)"
   ]
  },
  {
   "cell_type": "markdown",
   "metadata": {
    "id": "6wP9PsI0tLKd"
   },
   "source": [
    "---\n",
    "\n",
    "\n",
    "\n",
    " <h1><a name=\"ex-six\"><center> ✏ Exercici 6 ✏ </a></h1>\n",
    "\n",
    "Amplieu el vostre xatbot perquè tinga en compte la següent informació sobre:\n",
    "\n",
    "1. **Tipus d'habitatge:** Pregunteu a l'usuari si vol una casa per a compra (tipus *\"sale\"* a les dades) o per llogar (tipus *\"rent\"*). Al final de l'execució, el sistema haurá de mostrar habitatges amb el tipus seleccionat.\n",
    "\n",
    "2. **Ingressos:** S'aconsella no dedicar més del 35% dels ingressos a l'habitatge. En cas d'escollir lloguer, preguntar a l'usuari els ingressos mensuals de la seua llar, i només mostrar aquells que estiguen per sota del 35%.\n",
    "\n",
    "3. **Planta:** Preguntar als usuaris a quina planta volen viure. Al final de l'execució, només s'oferiràn habitatges que estiguen en aquella planta o superior.\n",
    "\n",
    "4. **Terrassa:** Preguntar a l'usuari si vol un habitatge amb terrassa o no. En cas de voler terrassa, només s'oferiran habitatges amb terrassa. En cas contrari, oferir habitatges amb terrassa o sense.\n",
    "\n",
    "5. **Ascensor:** Preguntar a l'usuari si vol un habitatge amb ascensor o no. En cas de voler ascensor, només s'oferiran habitatges amb ascensor. En cas contrari, oferir habitatges amb ascensor o sense.\n",
    "\n",
    "6. **Us comercial:** Preguntar a l'usuari si vol fer servir l'habitatge com a negoci. En cas afirmatiu, només oferir habitatges amb la propietat *\"commercial use\"*\n",
    "\n",
    "\n",
    "EXTRA: AÑADIR CONECTORES ==> PERSONALIDAD BOT \n",
    "---\n",
    "\n",
    "\n",
    "\n"
   ]
  },
  {
   "cell_type": "code",
   "execution_count": null,
   "metadata": {},
   "outputs": [
    {
     "name": "stdout",
     "output_type": "stream",
     "text": [
      "How many bedrooms do you need?\n",
      "How many bathrooms do you need?\n",
      "What is your budget for the house?\n",
      "How many square meters do you need?\n",
      "Which city or neighborhood would you prefer?\n",
      "Options: Esplugues de Llobregat, L'Hospitalet de Llobregat, Santa Coloma de Gramenet, Barcelona\n",
      "Do you want a house for buying or renting?\n",
      "Options: sale, rent\n"
     ]
    },
    {
     "ename": "TypeError",
     "evalue": "'NoneType' object is not iterable",
     "output_type": "error",
     "traceback": [
      "\u001b[1;31m---------------------------------------------------------------------------\u001b[0m",
      "\u001b[1;31mTypeError\u001b[0m                                 Traceback (most recent call last)",
      "Cell \u001b[1;32mIn[13], line 6\u001b[0m\n\u001b[0;32m      3\u001b[0m \u001b[38;5;28;01mfor\u001b[39;00m question \u001b[38;5;129;01min\u001b[39;00m data[\u001b[38;5;124m'\u001b[39m\u001b[38;5;124mquestions\u001b[39m\u001b[38;5;124m'\u001b[39m]:\n\u001b[0;32m      4\u001b[0m   answer_key \u001b[38;5;241m=\u001b[39m question[\u001b[38;5;124m'\u001b[39m\u001b[38;5;124manswer_key\u001b[39m\u001b[38;5;124m'\u001b[39m]\n\u001b[1;32m----> 6\u001b[0m   possible_options \u001b[38;5;241m=\u001b[39m \u001b[38;5;28;43mlist\u001b[39;49m\u001b[43m(\u001b[49m\u001b[43mavailable_options\u001b[49m\u001b[38;5;241;43m.\u001b[39;49m\u001b[43mget\u001b[49m\u001b[43m(\u001b[49m\u001b[43manswer_key\u001b[49m\u001b[43m)\u001b[49m\u001b[43m)\u001b[49m\n\u001b[0;32m      8\u001b[0m   \u001b[38;5;28;01mif\u001b[39;00m question[\u001b[38;5;124m'\u001b[39m\u001b[38;5;124mtype\u001b[39m\u001b[38;5;124m'\u001b[39m] \u001b[38;5;241m==\u001b[39m \u001b[38;5;124m'\u001b[39m\u001b[38;5;124mnumerical\u001b[39m\u001b[38;5;124m'\u001b[39m:\n\u001b[0;32m      9\u001b[0m     answer \u001b[38;5;241m=\u001b[39m process_numerical_question(question)\n",
      "\u001b[1;31mTypeError\u001b[0m: 'NoneType' object is not iterable"
     ]
    }
   ],
   "source": [
    "#TO DO\n",
    "\n",
    "#TODO\n",
    "def find_suitable_houses(data, user_preferences):\n",
    "    def extract_number(text):\n",
    "        digits = ''.join(filter(str.isdigit, str(text)))\n",
    "        if digits and text[-1] in ['K', 'k']:\n",
    "            return int(digits) * 1000\n",
    "        return int(digits) if digits else text\n",
    "\n",
    "    def mayor_mejor(house_value, pref_value):\n",
    "        return house_value >= pref_value\n",
    "    def igual_mejor (house_value, pref_value):\n",
    "        return house_value == pref_value\n",
    "    def menor_mejor (house_value, pref_value):\n",
    "        return house_value <= pref_value\n",
    "    \n",
    "    # CASO EXTREMO SI EL USUARIO NO TIENE NINGÚN CRITERIO.\n",
    "    all_any = all(value == 'any' for value in user_preferences.values())\n",
    "    if all_any:\n",
    "        return data['houses']  # Return all houses if all preferences are 'any'\n",
    "    \n",
    "    criterio = {'mayor_mejor': {'bedrooms', 'bathrooms', 'square_meters'}, 'igual_mejor': {'location', 'type'}, 'menor_mejor': {'price'}}\n",
    "    comparacion = {'mayor_mejor': mayor_mejor, 'igual_mejor': igual_mejor, 'menor_mejor': menor_mejor}\n",
    "    suitable_houses = []\n",
    "    for house in data['houses']:\n",
    "        match = True\n",
    "        for key, value in user_preferences.items():\n",
    "            if key == 'income' and value != 'any':\n",
    "                income = extract_number(value)\n",
    "                price = extract_number(house['price'])\n",
    "                if price > income * 0.35:  # Assuming 30% of income\n",
    "                  match = False\n",
    "                  break\n",
    "            for crit, keys in criterio.items():\n",
    "                if key in keys:\n",
    "                    house_value = extract_number(house[key])\n",
    "                    pref_value = extract_number(value)\n",
    "                    if not comparacion[crit](house_value, pref_value):\n",
    "                        match = False\n",
    "                        break\n",
    "            if not match:                \n",
    "                break          \n",
    "        if match:\n",
    "            suitable_houses.append(house)\n",
    "    return suitable_houses"
   ]
  },
  {
   "cell_type": "code",
   "execution_count": null,
   "metadata": {},
   "outputs": [],
   "source": [
    "suitable_houses = find_suitable_houses(data, user_preferences)\n",
    "print(\"Suitable houses based on your preferences:\")\n",
    "for house in suitable_houses:\n",
    "    print(f\"House ID: {house['id']}, Bedrooms: {house['bedrooms']}, Bathrooms: {house['bathrooms']}, Price: {house['price']}, Square Meters: {house['square_meters']}, Location: {house['location']}\")"
   ]
  },
  {
   "cell_type": "markdown",
   "metadata": {
    "id": "AwPm38lDDGNB"
   },
   "source": [
    " <h1><a name=\"ex-seven\"><center> ✏ Exercici 7 ✏ </a></h1>\n",
    "\n",
    "Ara ja teniu un sistema funcional. Aplicant el mètode vist a classe (Exemples, Camins, Prototipat i Proves) milloreu aquest sistema per donar una millor experiència als usuaris.    \n"
   ]
  },
  {
   "cell_type": "code",
   "execution_count": null,
   "metadata": {},
   "outputs": [],
   "source": [
    "answer = 'Hola, buenas bot, me gustaría una casa con terraza.'\n",
    "\n"
   ]
  },
  {
   "cell_type": "markdown",
   "metadata": {
    "id": "4FaXlfF2rraz"
   },
   "source": [
    "<h1><a name=\"section-four\"> 4. Lliurable </a></h1>\n",
    "\n",
    " *CASOS LÍMITS (Ctrl C, quit)*\n",
    "\n",
    "*Comprovar a cada pregunta si queda alguna opció disponible.*\n",
    "\n",
    "*Més flexibilitat en la resposta (NER per detectar la resposta o detecció de sentiments)*\n",
    "\n",
    "Heu d'entregar un document PDF de com a **màxim 10 pàgines** que incloga els resultats de tots els exercicis així com una explicació de cadascun dels resultats i de la modificació que heu fet. L'estructura del document és:\n",
    "\n",
    "1. Introducció.\n",
    "2. Resultats (amb raonament).\n",
    "3. Conversation flow del vostre sistema final. (PPT)\n",
    "4. Conclusions.\n",
    "\n",
    "No cal que afegiu el vostre codi al document, podeu entregar el *notebook* juntament amb el document.\n"
   ]
  },
  {
   "cell_type": "markdown",
   "metadata": {
    "id": "fXFq7TmHoN-r"
   },
   "source": [
    "---"
   ]
  }
 ],
 "metadata": {
  "colab": {
   "provenance": []
  },
  "kernelspec": {
   "display_name": "Python 3",
   "name": "python3"
  },
  "language_info": {
   "codemirror_mode": {
    "name": "ipython",
    "version": 3
   },
   "file_extension": ".py",
   "mimetype": "text/x-python",
   "name": "python",
   "nbconvert_exporter": "python",
   "pygments_lexer": "ipython3",
   "version": "3.10.11"
  }
 },
 "nbformat": 4,
 "nbformat_minor": 0
}
